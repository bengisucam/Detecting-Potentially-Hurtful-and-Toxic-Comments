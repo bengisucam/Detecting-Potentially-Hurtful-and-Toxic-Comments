{
 "cells": [
  {
   "cell_type": "code",
   "execution_count": null,
   "metadata": {
    "collapsed": true,
    "pycharm": {
     "is_executing": true
    }
   },
   "outputs": [
    {
     "name": "stdout",
     "output_type": "stream",
     "text": [
      "Doing translate back...\n"
     ]
    }
   ],
   "source": [
    "import numpy as np\n",
    "import pandas as pd\n",
    "from sklearn.feature_extraction.stop_words import ENGLISH_STOP_WORDS\n",
    "from sklearn.feature_extraction.text import   TfidfVectorizer\n",
    "from sklearn.model_selection import train_test_split\n",
    "from sklearn.multiclass import OneVsRestClassifier\n",
    "from sklearn.naive_bayes import MultinomialNB\n",
    "from sklearn.pipeline import Pipeline\n",
    "from sklearn.svm import SVC\n",
    "from sklearn.tree import DecisionTreeClassifier\n",
    "\n",
    "classes=['toxic','severe_toxic','obscene','threat','insult','identity_hate']\n",
    "df=pd.read_csv('./Data/train.csv')\n",
    "df.comment_text=cleaner.clean_text(df['comment_text'])\n",
    "for category in classes:\n",
    "    print(\"There are {} samples for label '{}'\".format(len(df.loc[df[category]==1]),category))"
   ]
  },
  {
   "cell_type": "code",
   "execution_count": null,
   "metadata": {
    "pycharm": {
     "is_executing": true,
     "name": "#%%\n"
    }
   },
   "outputs": [],
   "source": [
    "df_clean=df.copy()\n",
    "dfs={}\n",
    "dfs_test={}\n",
    "for category in classes:\n",
    "    df_clean=df_clean.loc[df_clean[category]==0]\n",
    "    if 1600 > len(df.loc[df[category]==1]) > 1000:\n",
    "        dfs[category]=(df.loc[df[category]==1]).sample(n=700,axis=0,random_state=4)\n",
    "        dfs_test[category]=((df.loc[df[category]==1]).drop(dfs[category].index)).sample(n=400,axis=0,random_state=4)\n",
    "    else:\n",
    "        dfs_test[category]=(df.loc[df[category]==1]).sample(n=100,axis=0,random_state=4)"
   ]
  },
  {
   "cell_type": "code",
   "execution_count": null,
   "metadata": {
    "pycharm": {
     "is_executing": true,
     "name": "#%%\n"
    }
   },
   "outputs": [],
   "source": [
    "n=6000\n",
    "m=1200\n",
    "\n",
    "summary=\"\"\n",
    "train=df_clean.sample(n=n,axis=0,random_state=4)\n",
    "df_clean=df_clean.drop(train.index)\n",
    "\n",
    "for key in dfs:\n",
    "    train=train.append(dfs[key],ignore_index=True)\n",
    "train.drop_duplicates(subset =\"id\", \n",
    "                     keep = 'first', inplace = True) \n",
    "\n",
    "test=df_clean.sample(n=m,axis=0,random_state=4)\n",
    "for category in dfs_test:\n",
    "        test=test.append(dfs_test[category],ignore_index=True)\n",
    "test.drop_duplicates(subset =\"id\", \n",
    "                     keep = 'first', inplace = True) \n",
    "\n",
    "\n",
    "\n",
    "print(\"Train Data Size: {} \".format(len(train)))\n",
    "print(\"Test Data Size: {} \".format(len(test)))\n",
    "\n",
    "for category in classes:\n",
    "    print(\"There are {} samples for label '{}'\".format(len(train.loc[train[category]==1]),category))\n",
    "print(\"\\n\")\n",
    "for category in classes:\n",
    "    print(\"There are {} samples for label '{}'\".format(len(test.loc[test[category]==1]),category))"
   ]
  },
  {
   "cell_type": "code",
   "execution_count": null,
   "metadata": {
    "pycharm": {
     "is_executing": true,
     "name": "#%%\n"
    }
   },
   "outputs": [],
   "source": [
    "X_train = train.comment_text\n",
    "X_test = test.comment_text\n",
    "summary+=\"Train Samples: {}\\nTest Samples: {}\\n\\n\".format(len(X_train),len(X_test))\n",
    "test.head(3)"
   ]
  },
  {
   "cell_type": "code",
   "execution_count": null,
   "metadata": {
    "pycharm": {
     "is_executing": true,
     "name": "#%%\n"
    }
   },
   "outputs": [],
   "source": [
    "clf_multinomial_bayes = Pipeline([\n",
    "    ('vect', TfidfVectorizer(stop_words=ENGLISH_STOP_WORDS)),\n",
    "        ('clf', OneVsRestClassifier(MultinomialNB(fit_prior=True, class_prior=None))),\n",
    " ],verbose=False)\n",
    "clf_decision_tree = Pipeline([\n",
    "    ('vect', TfidfVectorizer(stop_words=ENGLISH_STOP_WORDS)),\n",
    "        ('clf', OneVsRestClassifier(DecisionTreeClassifier(max_depth=4))),\n",
    " ],verbose=False)\n",
    "\n",
    "clf_svm = Pipeline([\n",
    "    ('vect', TfidfVectorizer(stop_words=ENGLISH_STOP_WORDS)),\n",
    "        ('clf', OneVsRestClassifier(SVC(gamma='auto',kernel='sigmoid'))),\n",
    " ],verbose=False)\n",
    "\n",
    "classifiers={'Multinomial Naive Bayes':clf_multinomial_bayes,'Support Vector Machine':clf_svm,'Decision Tree':clf_decision_tree}"
   ]
  },
  {
   "cell_type": "code",
   "execution_count": null,
   "metadata": {
    "pycharm": {
     "is_executing": true,
     "name": "#%%\n"
    }
   },
   "outputs": [],
   "source": [
    "def get_overall_accuracy(test_df):\n",
    "    all_corrects=0\n",
    "    for row in range(len(test_df)):\n",
    "        current_row=test_df.iloc[row]\n",
    "        wrong=False\n",
    "        for label in classes:\n",
    "            if current_row[label] != current_row['predicted_'+label]:\n",
    "                wrong=True\n",
    "                break\n",
    "        if not wrong:\n",
    "            all_corrects+=1\n",
    "    return all_corrects/len(test)"
   ]
  },
  {
   "cell_type": "code",
   "execution_count": null,
   "metadata": {
    "pycharm": {
     "is_executing": true,
     "name": "#%%\n"
    }
   },
   "outputs": [],
   "source": [
    "for each_clf in classifiers:\n",
    "    print(\"For classifier {}\".format(each_clf))\n",
    "    copy_test=test.copy()\n",
    "    overall_acc=0.0\n",
    "    for each_class in classes:\n",
    "        clf=classifiers[each_clf]\n",
    "        clf.fit(X_train,train[each_class])\n",
    "        predicted = clf.predict(X_test)\n",
    "\n",
    "        print(\"There are {} '{}' in test data\".format(len(test.loc[test[each_class]==1]),each_class))        \n",
    "        print(\"There are {} predicted in test\".format(list(predicted).count(1)))\n",
    "        copy_test['predicted_'+each_class]=predicted\n",
    "        \n",
    "        ind_cor_rate=np.mean(predicted == test[each_class])\n",
    "        overall_acc+=ind_cor_rate\n",
    "        summary+=\"Rate of '{}' classifier for class '{}' is {}\\n\".format(each_clf,each_class,ind_cor_rate)\n",
    "        print(\"Accuracy for class '{}' is: {}\".format(each_class,ind_cor_rate))\n",
    "    \n",
    "    overall_acc/=len(classes)\n",
    "    summary+='\\nOverall class accuracy is {}\\n'.format(overall_acc)\n",
    "    summary+='Overall all class accuracy for classifier {} is {}\\n\\n'.format(each_clf,get_overall_accuracy(copy_test))"
   ]
  },
  {
   "cell_type": "code",
   "execution_count": null,
   "metadata": {
    "pycharm": {
     "is_executing": true,
     "name": "#%%\n"
    }
   },
   "outputs": [],
   "source": [
    "#save txt\n",
    "summary_out = open(\"summary.txt\", \"w\")\n",
    "summary_out.write(summary)\n",
    "summary_out.close()"
   ]
  },
  {
   "cell_type": "code",
   "execution_count": null,
   "metadata": {
    "pycharm": {
     "is_executing": true,
     "name": "#%%\n"
    }
   },
   "outputs": [],
   "source": []
  }
 ],
 "metadata": {
  "kernelspec": {
   "display_name": "Python 3",
   "language": "python",
   "name": "python3"
  },
  "language_info": {
   "codemirror_mode": {
    "name": "ipython",
    "version": 3
   },
   "file_extension": ".py",
   "mimetype": "text/x-python",
   "name": "python",
   "nbconvert_exporter": "python",
   "pygments_lexer": "ipython3",
   "version": "3.7.0"
  },
  "pycharm": {
   "stem_cell": {
    "cell_type": "raw",
    "metadata": {
     "collapsed": false
    },
    "source": []
   }
  }
 },
 "nbformat": 4,
 "nbformat_minor": 1
}
