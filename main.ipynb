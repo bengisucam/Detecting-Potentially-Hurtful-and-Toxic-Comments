{
 "cells": [
  {
   "cell_type": "code",
   "execution_count": 1,
   "metadata": {
    "pycharm": {
     "is_executing": false,
     "name": "#%%\n"
    }
   },
   "outputs": [],
   "source": [
    "import pandas as pd\n",
    "from packages.text.textutilities import *\n",
    "from packages.text.skeleton import Skeleton\n",
    "import packages.classification.classifier as clfs\n",
    "import packages.augmentation.embedding as embeddings\n",
    "pd.set_option('mode.chained_assignment', None)\n",
    "\n",
    "categories=['toxic','severe_toxic','obscene','threat','insult','identity_hate','clean']\n",
    "random_state=20"
   ]
  },
  {
   "cell_type": "code",
   "execution_count": 2,
   "outputs": [
    {
     "name": "stdout",
     "text": [
      "[Step 1/2   Cleaning data...]\n",
      "[Step 2/2   Sampling data...]\nSample 1: \ncould i ask you to please comment on what did you perceive as repeated violations of wp npa so as to give me a chance to defend myself right now i could not care less about this block it your notion that it is me who in the wrong here after it was wee who acted without consensus and removed a whole section of an article this just is not fair at all how am i supposed to appeal a block if i am not given the precise reasons for it i ve said it before and i ll say it again any mention made by me of wee making untrue statements i can 100% back up with evidence i did so at the last ani and are prepared to do so again with absolutely any edit you wish regards\nSample 2: \nmarch  please stop adding nonsense to wikipedia as you did to raffles v wichelhaus it is considered vandalism which under wikipedia policy can lead to blocking of editing privileges if you would like to experiment again please use the sandbox if this is a shared ip address and you did not make the edit please ignore this notice\nSample 3: \nplease dont delete urtbox pages i just need to fixe information i dont now wath is wrong whit the last messages ihave not put link thanks for your help martin\nSkeleton build is done!\n"
     ],
     "output_type": "stream"
    }
   ],
   "source": [
    "\"\"\"\n",
    "Build a skeleton framework to ease up workflow\n",
    "\"\"\"\n",
    "skeleton=Skeleton(categories,random_state)\n",
    "skeleton.build([\n",
    "    TextCleaner(),\n",
    "    Sampler()\n",
    "    # Trimmer(threshold=12)\n",
    "],df_path='./Data/train.csv')"
   ],
   "metadata": {
    "collapsed": false,
    "pycharm": {
     "name": "#%%\n",
     "is_executing": false
    }
   }
  },
  {
   "cell_type": "code",
   "execution_count": 3,
   "outputs": [
    {
     "name": "stdout",
     "text": [
      "toxic\nsevere_toxic\nobscene\nthreat\ninsult\nidentity_hate\nclean\n"
     ],
     "output_type": "stream"
    },
    {
     "data": {
      "text/plain": "'toxic: 15294 samples\\nsevere_toxic: 1595 samples\\nobscene: 8449 samples\\nthreat: 478 samples\\ninsult: 7877 samples\\nidentity_hate: 1405 samples\\nclean: 144277 samples\\n'"
     },
     "metadata": {},
     "output_type": "execute_result",
     "execution_count": 3
    }
   ],
   "source": [
    "skeleton.info()"
   ],
   "metadata": {
    "collapsed": false,
    "pycharm": {
     "name": "#%%\n",
     "is_executing": false
    }
   }
  },
  {
   "cell_type": "code",
   "execution_count": 4,
   "outputs": [],
   "source": [
    "\"\"\"\n",
    "Get <n_category> random samples from each category\n",
    "\"\"\"\n",
    "samples=skeleton.split_by_keys(n_category=3000)"
   ],
   "metadata": {
    "collapsed": false,
    "pycharm": {
     "name": "#%%\n",
     "is_executing": false
    }
   }
  },
  {
   "cell_type": "code",
   "execution_count": null,
   "outputs": [
    {
     "name": "stdout",
     "text": [
      "Loading Custom Model!\n",
      "toxic\n\"word 'fuckerer' not in vocabulary\"\n",
      "\"word 'abut' not in vocabulary\"\n\"word 'fron' not in vocabulary\"\n\"word 'hahhahhahahhah' not in vocabulary\"\n\"word '' not in vocabulary\"\n",
      "\"word '' not in vocabulary\"\n\"word 'fleas' not in vocabulary\"\n\"word 'camels' not in vocabulary\"\n\"word 'armpits' not in vocabulary\"\n",
      "\"word 'ps;' not in vocabulary\"\n\"word 'dissing' not in vocabulary\"\n\"word 'ure' not in vocabulary\"\n\"word 'fannyman' not in vocabulary\"\n",
      "\"word 'tay' not in vocabulary\"\n\"word 'omgrofl' not in vocabulary\"\n",
      "\"word 'aiden2009' not in vocabulary\"\n",
      "\"word 'farrakhanistic' not in vocabulary\"\n\"word 'farrakhan' not in vocabulary\"\n\"word '51%' not in vocabulary\"\n\"word 'mulattoeuro' not in vocabulary\"\n\"word 'cibao' not in vocabulary\"\n\"word 'generalize' not in vocabulary\"\n\"word 'nationlaity' not in vocabulary\"\n",
      "\"word 'idiotslook' not in vocabulary\"\n\"word 'mouthing' not in vocabulary\"\n\"word 'pea' not in vocabulary\"\n\"word 'jurassic' not in vocabulary\"\n\"word 'neantherthals' not in vocabulary\"\n",
      "\"word 'becaue' not in vocabulary\"\n\"word 'titt' not in vocabulary\"\n\"word '' not in vocabulary\"\n\"word '' not in vocabulary\"\n\"word 'spitholes' not in vocabulary\"\n\"word 'rightnot' not in vocabulary\"\n\"word 'fagplease' not in vocabulary\"\n",
      "\"word 'effin' not in vocabulary\"\n",
      "\"word '' not in vocabulary\"\n",
      "\"word 'foad' not in vocabulary\"\n\"word 'jac' not in vocabulary\"\nsevere_toxic\n\"word 'jacko' not in vocabulary\"\n\"word 'wacko' not in vocabulary\"\n\"word 'jacko' not in vocabulary\"\n\"word 'jizz' not in vocabulary\"\n\"word 'retarted' not in vocabulary\"\n\"word 'muther' not in vocabulary\"\n",
      "\"word 'ciara' not in vocabulary\"\n\"word '' not in vocabulary\"\n\"word 'bltch' not in vocabulary\"\n\"word 'wimp' not in vocabulary\"\n",
      "\"word 'knock*' not in vocabulary\"\n",
      "\"word 'azaris' not in vocabulary\"\n\"word 'hongkongese' not in vocabulary\"\n\"word 'hong' not in vocabulary\"\n\"word 'hongkongese' not in vocabulary\"\n",
      "\"word 'czeckoslovacian' not in vocabulary\"\n",
      "\"word 'bitchfuck' not in vocabulary\"\n\"word 'bitchfuck' not in vocabulary\"\n\"word 'bitchfuck' not in vocabulary\"\n\"word 'bitchfuck' not in vocabulary\"\n\"word 'bitchfuck' not in vocabulary\"\n\"word 'bitchfuck' not in vocabulary\"\n\"word 'bitchfuck' not in vocabulary\"\n\"word 'bitchfuck' not in vocabulary\"\n\"word 'bitchfuck' not in vocabulary\"\n\"word 'bitchfuck' not in vocabulary\"\n\"word 'bitchfuck' not in vocabulary\"\n\"word 'bitchfuck' not in vocabulary\"\n\"word 'bitchfuck' not in vocabulary\"\n\"word 'bitchfuck' not in vocabulary\"\n\"word 'bitchfuck' not in vocabulary\"\n\"word 'bitchfuck' not in vocabulary\"\n\"word 'bitchfuck' not in vocabulary\"\n\"word 'bitchfuck' not in vocabulary\"\n\"word 'bitchfuck' not in vocabulary\"\n\"word 'bitchfuck' not in vocabulary\"\n\"word 'bitchfuck' not in vocabulary\"\n\"word 'bitchfuck' not in vocabulary\"\n\"word 'bitchfuck' not in vocabulary\"\n\"word 'bitchfuck' not in vocabulary\"\n\"word 'bitchfuck' not in vocabulary\"\n\"word 'bitchfuck' not in vocabulary\"\n\"word 'bitchfuck' not in vocabulary\"\n\"word 'bitchfuck' not in vocabulary\"\n\"word 'bitchfuck' not in vocabulary\"\n\"word 'bitchfuck' not in vocabulary\"\n\"word 'bitchfuck' not in vocabulary\"\n\"word 'bitchfuck' not in vocabulary\"\n\"word 'bitchfuck' not in vocabulary\"\n\"word 'bitchfuck' not in vocabulary\"\n\"word 'bitchfuck' not in vocabulary\"\n\"word 'bitchfuck' not in vocabulary\"\n\"word 'bitchfuck' not in vocabulary\"\n\"word 'bitchfuck' not in vocabulary\"\n\"word 'bitchfuck' not in vocabulary\"\n\"word 'bitchfuck' not in vocabulary\"\n\"word 'bitchfuck' not in vocabulary\"\n\"word 'bitchfuck' not in vocabulary\"\n\"word 'bitchfuck' not in vocabulary\"\n\"word 'bitchfuck' not in vocabulary\"\n\"word 'bitchfuck' not in vocabulary\"\n\"word 'bitchfuck' not in vocabulary\"\n\"word 'bitchfuck' not in vocabulary\"\n\"word 'bitchfuck' not in vocabulary\"\n\"word 'bitchfuck' not in vocabulary\"\n\"word 'bitchfuck' not in vocabulary\"\n\"word 'bitchfuck' not in vocabulary\"\n\"word 'bitchfuck' not in vocabulary\"\n\"word 'bitchfuck' not in vocabulary\"\n\"word 'bitchfuck' not in vocabulary\"\n\"word 'bitchfuck' not in vocabulary\"\n\"word 'bitchfuck' not in vocabulary\"\n\"word 'bitchfuck' not in vocabulary\"\n\"word 'bitchfuck' not in vocabulary\"\n\"word 'bitchfuck' not in vocabulary\"\n\"word 'bitchfuck' not in vocabulary\"\n\"word 'bitchfuck' not in vocabulary\"\n\"word 'bitchfuck' not in vocabulary\"\n\"word 'bitchfuck' not in vocabulary\"\n\"word 'bitchfuck' not in vocabulary\"\n\"word 'bitchfuck' not in vocabulary\"\n\"word 'bitchfuck' not in vocabulary\"\n\"word 'bitchfuck' not in vocabulary\"\n\"word 'bitchfuck' not in vocabulary\"\n\"word 'bitchfuck' not in vocabulary\"\n\"word 'bitchfuck' not in vocabulary\"\n\"word 'bitchfuck' not in vocabulary\"\n\"word 'bitchfuck' not in vocabulary\"\n\"word 'bitchfuck' not in vocabulary\"\n\"word 'bitchfuck' not in vocabulary\"\n\"word 'bitchfuck' not in vocabulary\"\n\"word 'bitchfuck' not in vocabulary\"\n\"word 'bitchfuck' not in vocabulary\"\n\"word 'bitchfuck' not in vocabulary\"\n\"word 'bitchfuck' not in vocabulary\"\n\"word 'bitchfuck' not in vocabulary\"\n\"word 'bitchfuck' not in vocabulary\"\n\"word 'bitchfuck' not in vocabulary\"\n\"word 'bitchfuck' not in vocabulary\"\n\"word 'bitchfuck' not in vocabulary\"\n\"word 'bitchfuck' not in vocabulary\"\n\"word 'bitchfuck' not in vocabulary\"\n\"word 'bitchfuck' not in vocabulary\"\n\"word 'bitchfuck' not in vocabulary\"\n\"word 'bitchfuck' not in vocabulary\"\n\"word 'bitchfuck' not in vocabulary\"\n\"word 'bitchfuck' not in vocabulary\"\n\"word 'bitchfuck' not in vocabulary\"\n\"word 'bitchfuck' not in vocabulary\"\n\"word 'bitchfuck' not in vocabulary\"\n\"word 'bitchfuck' not in vocabulary\"\n\"word 'bitchfuck' not in vocabulary\"\n\"word 'bitchfuck' not in vocabulary\"\n\"word 'bitchfuck' not in vocabulary\"\n\"word 'bitchfuck' not in vocabulary\"\n\"word 'bitchfuck' not in vocabulary\"\n\"word 'bitchfuck' not in vocabulary\"\n\"word 'bitchfuck' not in vocabulary\"\n\"word 'bitchfuck' not in vocabulary\"\n",
      "\"word 'bitchfuck' not in vocabulary\"\n\"word 'bitchfuck' not in vocabulary\"\n\"word 'bitchfuck' not in vocabulary\"\n\"word 'bitchfuck' not in vocabulary\"\n\"word 'bitchfuck' not in vocabulary\"\n\"word 'bitchfuck' not in vocabulary\"\n\"word 'bitchfuck' not in vocabulary\"\n\"word 'bitchfuck' not in vocabulary\"\n\"word 'bitchfuck' not in vocabulary\"\n\"word 'bitchfuck' not in vocabulary\"\n\"word 'bitchfuck' not in vocabulary\"\n\"word 'bitchfuck' not in vocabulary\"\n\"word 'bitchfuck' not in vocabulary\"\n\"word 'bitchfuck' not in vocabulary\"\n\"word 'bitchfuck' not in vocabulary\"\n\"word 'bitchfuck' not in vocabulary\"\n\"word 'bitchfuck' not in vocabulary\"\n\"word 'bitchfuck' not in vocabulary\"\n\"word 'bitchfuck' not in vocabulary\"\n\"word 'bitchfuck' not in vocabulary\"\n\"word 'bitchfuck' not in vocabulary\"\n\"word 'bitchfuck' not in vocabulary\"\n\"word 'bitchfuck' not in vocabulary\"\n\"word 'bitchfuck' not in vocabulary\"\n\"word 'bitchfuck' not in vocabulary\"\n\"word 'bitchfuck' not in vocabulary\"\n\"word 'bitchfuck' not in vocabulary\"\n\"word 'bitchfuck' not in vocabulary\"\n\"word 'bitchfuck' not in vocabulary\"\n\"word 'bitchfuck' not in vocabulary\"\n\"word 'bitchfuck' not in vocabulary\"\n\"word 'bitchfuck' not in vocabulary\"\n\"word 'bitchfuck' not in vocabulary\"\n\"word 'bitchfuck' not in vocabulary\"\n\"word 'bitchfuck' not in vocabulary\"\n\"word 'bitchfuck' not in vocabulary\"\n\"word 'bitchfuck' not in vocabulary\"\n\"word 'bitchfuck' not in vocabulary\"\n\"word 'bitchfuck' not in vocabulary\"\n\"word 'bitchfuck' not in vocabulary\"\n\"word 'bitchfuck' not in vocabulary\"\n\"word 'bitchfuck' not in vocabulary\"\n\"word 'bitchfuck' not in vocabulary\"\n\"word 'bitchfuck' not in vocabulary\"\n\"word 'bitchfuck' not in vocabulary\"\n\"word 'bitchfuck' not in vocabulary\"\n\"word 'bitchfuck' not in vocabulary\"\n\"word 'bitchfuck' not in vocabulary\"\n\"word 'bitchfuck' not in vocabulary\"\n\"word 'bitchfuck' not in vocabulary\"\n\"word 'bitchfuck' not in vocabulary\"\n\"word 'bitchfuck' not in vocabulary\"\n\"word 'bitchfuck' not in vocabulary\"\n\"word 'bitchfuck' not in vocabulary\"\n\"word 'bitchfuck' not in vocabulary\"\n\"word 'bitchfuck' not in vocabulary\"\n",
      "\"word 'bitchfuck' not in vocabulary\"\n\"word 'bitchfuck' not in vocabulary\"\n\"word 'bitchfuck' not in vocabulary\"\n\"word 'bitchfuck' not in vocabulary\"\n\"word 'bitchfuck' not in vocabulary\"\n\"word 'bitchfuck' not in vocabulary\"\n\"word 'bitchfuck' not in vocabulary\"\n\"word 'bitchfuck' not in vocabulary\"\n\"word 'bitchfuck' not in vocabulary\"\n\"word 'bitchfuck' not in vocabulary\"\n\"word 'bitchfuck' not in vocabulary\"\n\"word 'bitchfuck' not in vocabulary\"\n\"word 'bitchfuck' not in vocabulary\"\n",
      "\"word 'swallowing' not in vocabulary\"\n\"word 'wussiestop' not in vocabulary\"\n\"word 'drown' not in vocabulary\"\n\"word 'you>' not in vocabulary\"\n\"word 'ortiz' not in vocabulary\"\n",
      "\"word 'starightwhatever' not in vocabulary\"\n\"word 'dhoni' not in vocabulary\"\n\"word 'rajputbut' not in vocabulary\"\n\"word 'jat' not in vocabulary\"\n\"word 'rajputsnot' not in vocabulary\"\n\"word 'historyi' not in vocabulary\"\n\"word 'gujjars' not in vocabulary\"\n\"word 'herders' not in vocabulary\"\n\"word 'wrold' not in vocabulary\"\n\"word 'bribeu' not in vocabulary\"\n",
      "\"word 'spotty' not in vocabulary\"\n\"word 'spotty' not in vocabulary\"\n\"word 'spotty' not in vocabulary\"\n",
      "\"word 'spotty' not in vocabulary\"\n\"word 'ciara' not in vocabulary\"\n\"word 'smosh' not in vocabulary\"\n"
     ],
     "output_type": "stream"
    }
   ],
   "source": [
    "BOOSTING_CLASSIFIER_COUNT=100\n",
    "\n",
    "# \n",
    "# skeleton.classify([\n",
    "#     clfs.AdaBoostSVM(n_estimators=2),\n",
    "#     clfs.AdaBoostNaiveBayes(n_estimators=10),\n",
    "#     clfs.AdaBoostNaiveBayes(n_estimators=20),\n",
    "#     clfs.AdaBoostDecisionTree(n_estimators=20),\n",
    "#     clfs.DecisionTree(),\n",
    "#     clfs.NaiveBayes(),\n",
    "#     clfs.AveragingEstimator(),\n",
    "#     clfs.SVM(),\n",
    "# ])    \n",
    "# \n",
    "# skeleton.save_progress(\"progress.txt\")\n",
    "word2vec_model=embeddings.EmbeddingAugmentation(load_path=\"./word2vec/word2vec.model\")\n",
    "X=None\n",
    "index=0\n",
    "for key in categories:\n",
    "    print(key)\n",
    "    if index==0:\n",
    "        index=100\n",
    "        X=word2vec_model.populate(key,samples,target=3010,random_state=20)\n",
    "    df=word2vec_model.populate(key,samples,target=3010,random_state=20)\n",
    "    X.append(df)\n",
    "    "
   ],
   "metadata": {
    "collapsed": false,
    "pycharm": {
     "name": "#%%\n",
     "is_executing": true
    }
   }
  },
  {
   "cell_type": "code",
   "execution_count": null,
   "outputs": [],
   "source": [
    "X"
   ],
   "metadata": {
    "collapsed": false,
    "pycharm": {
     "name": "#%%\n",
     "is_executing": true
    }
   }
  }
 ],
 "metadata": {
  "kernelspec": {
   "display_name": "Python 3",
   "language": "python",
   "name": "python3"
  },
  "language_info": {
   "codemirror_mode": {
    "name": "ipython",
    "version": 3
   },
   "file_extension": ".py",
   "mimetype": "text/x-python",
   "name": "python",
   "nbconvert_exporter": "python",
   "pygments_lexer": "ipython3",
   "version": "3.7.0"
  },
  "pycharm": {
   "stem_cell": {
    "cell_type": "raw",
    "source": [],
    "metadata": {
     "collapsed": false
    }
   }
  }
 },
 "nbformat": 4,
 "nbformat_minor": 1
}