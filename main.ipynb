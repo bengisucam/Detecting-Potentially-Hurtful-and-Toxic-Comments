{
 "cells": [
  {
   "cell_type": "code",
   "execution_count": 1,
   "metadata": {},
   "outputs": [
    {
     "name": "stdout",
     "output_type": "stream",
     "text": [
      "Requirement already up-to-date: numpy in c:\\python37\\lib\\site-packages (1.18.0)\n"
     ]
    }
   ],
   "source": [
    "!pip install numpy --upgrade --user\n"
   ]
  },
  {
   "cell_type": "code",
   "execution_count": 2,
   "metadata": {
    "pycharm": {
     "is_executing": false,
     "name": "#%%\n"
    }
   },
   "outputs": [],
   "source": [
    "import pandas\n",
    "import packages.text.textutilities as utilities\n",
    "from packages.text.skeleton import Skeleton\n",
    "import packages.classification.classifier as clfs\n",
    "import packages.augmentation.embedding as embeddings\n",
    "\n",
    "categories=['toxic','severe_toxic','obscene','threat','insult','identity_hate']\n",
    "df=pandas.read_csv('./Data/train.csv')"
   ]
  },
  {
   "cell_type": "code",
   "execution_count": 3,
   "metadata": {
    "pycharm": {
     "is_executing": false,
     "name": "#%%\n"
    }
   },
   "outputs": [
    {
     "name": "stdout",
     "output_type": "stream",
     "text": [
      "[Step 1/3   Reading File...]\n",
      "[Step 2/3   Cleaning data...]\n",
      "[Step 3/3   Sampling data...]\n",
      "\n",
      "Sample 1: \n",
      "i ask you again to reconsider your revert this point was submitted to the talk page but the vandals decided to ignore it and go into a revert war instead unless you give me a valid reason for your revert followed by the block i cannot consider you as a neutral participant in this matter do you really believe that your are going to resolve this issue with this attitude of yours think again\n",
      "Sample 2: \n",
      "yeah let merge the content not sure if devil canyon is the same type of codename\n",
      "Sample 3: \n",
      "in this case they re rewarded by having your sex life endlessly rehashed over and over again but only if you re a woman because that the point of the whole campaign btw they re edit warring the draft as we speak\n",
      "Sample 4: \n",
      "this is absolutely ridiculous i mean people actually wasting their time to discuss such a nonsensical thing is just beyond me i know its a free country and all that and people have the right to choose how they want to spend their time but this is taking it too far\n",
      "Sample 5: \n",
      "the so called flag of ireland should be removed from this article it is not a symbol of northern ireland a group of organised irish republican pov editors is insisting on retaining the image here presumably for political reasons they also insist on naming it flag of ireland despite the obvious ambiguity and political implications of doing so in this article the flag was stable as irish tricolour which matches the text and is consistent with the names of the other flags union flag and ulster banner but a renewed campaign by the pov editors has imposed their will by force of numbers this kind of oppressive behaviour is going to drive other editors away\n"
     ]
    }
   ],
   "source": [
    "skeleton=Skeleton()\n",
    "skeleton.build([\n",
    "    utilities.clean_text,\n",
    "    utilities.sample\n",
    "],df_path='./Data/train.csv')"
   ]
  },
  {
   "cell_type": "code",
   "execution_count": 15,
   "metadata": {
    "pycharm": {
     "is_executing": false,
     "name": "#%%\n"
    }
   },
   "outputs": [
    {
     "name": "stderr",
     "output_type": "stream",
     "text": [
      "[nltk_data] Downloading package word2vec_sample to\n",
      "[nltk_data]     C:\\Users\\bengi\\AppData\\Roaming\\nltk_data...\n",
      "[nltk_data]   Package word2vec_sample is already up-to-date!\n"
     ]
    },
    {
     "name": "stdout",
     "output_type": "stream",
     "text": [
      "\"word 'd' not in vocabulary\"\n",
      "\"word 'aww' not in vocabulary\"\n",
      "\"word 'colour' not in vocabulary\"\n",
      "\"word '' not in vocabulary\"\n",
      "\"word '' not in vocabulary\"\n",
      "\"word 'january' not in vocabulary\"\n",
      "\"word '' not in vocabulary\"\n",
      "\"word '' not in vocabulary\"\n",
      "\"word 'utc' not in vocabulary\"\n"
     ]
    },
    {
     "data": {
      "text/plain": [
       "'d aww he match the backgrounds colour u noon seemingly sticking having thanks talking   january   utc'"
      ]
     },
     "execution_count": 15,
     "metadata": {},
     "output_type": "execute_result"
    }
   ],
   "source": [
    "word2vec_model=embeddings.EmbeddingAugmentation(load_path=None) #\"./word2vec/word2vec.model\"\n",
    "word2vec_model.replace_sentence_with_top(skeleton.text[1])"
   ]
  },
  {
   "cell_type": "code",
   "execution_count": 16,
   "metadata": {
    "pycharm": {
     "is_executing": false,
     "name": "#%%\n"
    }
   },
   "outputs": [
    {
     "data": {
      "text/plain": [
       "'d aww he matches this background colour i am seemingly stuck with thanks talk   january   utc'"
      ]
     },
     "execution_count": 16,
     "metadata": {},
     "output_type": "execute_result"
    }
   ],
   "source": [
    "skeleton.text[1]"
   ]
  },
  {
   "cell_type": "code",
   "execution_count": 4,
   "metadata": {
    "pycharm": {
     "is_executing": false,
     "name": "#%%\n"
    }
   },
   "outputs": [],
   "source": [
    "BOOSTING_CLASSIFIER_COUNT=100\n",
    "\n",
    "# \n",
    "# skeleton.classify([\n",
    "#     clfs.AdaBoostSVM(n_estimators=2),\n",
    "#     clfs.AdaBoostNaiveBayes(n_estimators=10),\n",
    "#     clfs.AdaBoostNaiveBayes(n_estimators=20),\n",
    "#     clfs.AdaBoostDecisionTree(n_estimators=20),\n",
    "#     clfs.DecisionTree(),\n",
    "#     clfs.NaiveBayes(),\n",
    "#     clfs.AveragingEstimator(),\n",
    "#     clfs.SVM(),\n",
    "#     \n",
    "# ],keys=categories)\n",
    "# \n",
    "# skeleton.save_progress(\"progress.txt\")"
   ]
  },
  {
   "cell_type": "code",
   "execution_count": 5,
   "metadata": {
    "pycharm": {
     "is_executing": false,
     "name": "#%%\n"
    }
   },
   "outputs": [
    {
     "data": {
      "text/plain": [
       "'connected contributor wwb too wwb too editedhereno'"
      ]
     },
     "execution_count": 5,
     "metadata": {},
     "output_type": "execute_result"
    }
   ],
   "source": [
    "utilities.clean_sample(\"}}{{Connected contributor|WWB Too|WWB Too|editedhere=no\")"
   ]
  }
 ],
 "metadata": {
  "kernelspec": {
   "display_name": "Python 3",
   "language": "python",
   "name": "python3"
  },
  "language_info": {
   "codemirror_mode": {
    "name": "ipython",
    "version": 3
   },
   "file_extension": ".py",
   "mimetype": "text/x-python",
   "name": "python",
   "nbconvert_exporter": "python",
   "pygments_lexer": "ipython3",
   "version": "3.7.0"
  },
  "pycharm": {
   "stem_cell": {
    "cell_type": "raw",
    "metadata": {
     "collapsed": false
    },
    "source": []
   }
  }
 },
 "nbformat": 4,
 "nbformat_minor": 1
}
