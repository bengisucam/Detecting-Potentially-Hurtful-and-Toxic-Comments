{
 "cells": [
  {
   "cell_type": "code",
   "execution_count": 1,
   "metadata": {
    "pycharm": {
     "is_executing": false,
     "name": "#%%\n"
    }
   },
   "outputs": [],
   "source": [
    "import pandas as pd\n",
    "from packages.text.textutilities import *\n",
    "from packages.text.skeleton import Skeleton\n",
    "import packages.classification.classifier as clfs\n",
    "import packages.augmentation.embedding as embeddings\n",
    "pd.set_option('mode.chained_assignment', None)\n",
    "\n",
    "categories=['toxic','severe_toxic','obscene','threat','insult','identity_hate']\n",
    "random_state=20"
   ]
  },
  {
   "cell_type": "code",
   "execution_count": 2,
   "metadata": {
    "pycharm": {
     "is_executing": false,
     "name": "#%%\n"
    }
   },
   "outputs": [
    {
     "name": "stdout",
     "text": [
      "[Step 1/2   Cleaning data...]\n",
      "[Step 2/2   Sampling data...]\nSample 1: \ncategory highschool of the dead if you disagree with my creation of the above category you should take it to wp cfd not remove it from articles personally i believe it aids in navigation and that four pages main charlist chaplist eplist is sufficient for a category but you are of course welcome to nominate it for deletion anyway talk\nSample 2: \nthese are your views but are they the consensus\nSample 3: \ni am moving this article back to nancy cartwright actor and making nancy cartwright a redirect to that page i would rather nancy cartwright be a disambiguation page but to minimize the possibility of further disruption and to give this discussion a more appropriate home i think that a good compromise for now that way no matter what happens with nancy cartwright we can be sure that nancy cartwright actor will always work correctly and the discussion can stay on talk nancy cartwright where it belongs as for the value of two article disambiguation pages they let the reader and editors know that there is more than one person with that name in a much more noticeable way than a hatnote it makes it a lot easier to check that links are made to the correct article since ones to an unqualified name will show up in the various links to disambiguation pages reports\nSample 4: \nherkimer dimonds do you know anything else about herkimer dimonds\nSkeleton build is done!\n"
     ],
     "output_type": "stream"
    }
   ],
   "source": [
    "\"\"\"\n",
    "Build a skeleton framework to ease up workflow\n",
    "\"\"\"\n",
    "skeleton=Skeleton(categories,random_state)\n",
    "skeleton.build([\n",
    "    TextCleaner(),\n",
    "    Sampler()\n",
    "    # Trimmer(threshold=12)\n",
    "],df_path='./Data/train.csv')"
   ]
  },
  {
   "cell_type": "code",
   "execution_count": 3,
   "outputs": [
    {
     "name": "stdout",
     "text": [
      "toxic\nsevere_toxic\nobscene\nthreat\ninsult\nidentity_hate\n"
     ],
     "output_type": "stream"
    },
    {
     "data": {
      "text/plain": "'toxic: 15294 samples\\nsevere_toxic: 1595 samples\\nobscene: 8449 samples\\nthreat: 478 samples\\ninsult: 7877 samples\\nidentity_hate: 1405 samples\\n'"
     },
     "metadata": {},
     "output_type": "execute_result",
     "execution_count": 3
    }
   ],
   "source": [
    "skeleton.info()"
   ],
   "metadata": {
    "collapsed": false,
    "pycharm": {
     "name": "#%%\n",
     "is_executing": false
    }
   }
  },
  {
   "cell_type": "code",
   "execution_count": 4,
   "outputs": [
    {
     "data": {
      "text/plain": "                      id                                       comment_text  \\\n152717  918747ca1ebc96c8                                   shut the hell up   \n123059  9249d906a8e5a8ad  and then we would have to believe that the eng...   \n1878    0512f33cf8807fa2  aaron swartz stop fucking reverting my goddamn...   \n38875   67bf11045c1f1453          up yours you authoritarian little hitlers   \n79005   d36d6b135a4e2541  you know what acroterion you can go fuck yours...   \n...                  ...                                                ...   \n149086  56d57654c05bf031  more rubbish this page contains 0000001% of th...   \n112100  57bea1d837f085fa  hey fucking pig hey fucking pig of a bully; i ...   \n49132   835ae075e5d44a3b  ricky81682 is a paid mole scumbag there is no ...   \n52002   8b3212f40c51abaa  im the bane of your existence hey gaashoo i am...   \n1444    03dd90664e855020  listen up you narrow eyed teacher living on mi...   \n\n        toxic  severe_toxic  obscene  threat  insult  identity_hate  \n152717      1             0        0       0       0              0  \n123059      1             0        0       0       0              0  \n1878        1             0        1       1       1              1  \n38875       1             0        0       0       0              0  \n79005       1             1        1       0       1              1  \n...       ...           ...      ...     ...     ...            ...  \n149086      1             0        1       0       1              0  \n112100      1             1        1       0       1              0  \n49132       1             0        1       0       1              0  \n52002       1             0        0       0       0              0  \n1444        1             0        0       0       0              0  \n\n[3000 rows x 8 columns]",
      "text/html": "<div>\n<style scoped>\n    .dataframe tbody tr th:only-of-type {\n        vertical-align: middle;\n    }\n\n    .dataframe tbody tr th {\n        vertical-align: top;\n    }\n\n    .dataframe thead th {\n        text-align: right;\n    }\n</style>\n<table border=\"1\" class=\"dataframe\">\n  <thead>\n    <tr style=\"text-align: right;\">\n      <th></th>\n      <th>id</th>\n      <th>comment_text</th>\n      <th>toxic</th>\n      <th>severe_toxic</th>\n      <th>obscene</th>\n      <th>threat</th>\n      <th>insult</th>\n      <th>identity_hate</th>\n    </tr>\n  </thead>\n  <tbody>\n    <tr>\n      <th>152717</th>\n      <td>918747ca1ebc96c8</td>\n      <td>shut the hell up</td>\n      <td>1</td>\n      <td>0</td>\n      <td>0</td>\n      <td>0</td>\n      <td>0</td>\n      <td>0</td>\n    </tr>\n    <tr>\n      <th>123059</th>\n      <td>9249d906a8e5a8ad</td>\n      <td>and then we would have to believe that the eng...</td>\n      <td>1</td>\n      <td>0</td>\n      <td>0</td>\n      <td>0</td>\n      <td>0</td>\n      <td>0</td>\n    </tr>\n    <tr>\n      <th>1878</th>\n      <td>0512f33cf8807fa2</td>\n      <td>aaron swartz stop fucking reverting my goddamn...</td>\n      <td>1</td>\n      <td>0</td>\n      <td>1</td>\n      <td>1</td>\n      <td>1</td>\n      <td>1</td>\n    </tr>\n    <tr>\n      <th>38875</th>\n      <td>67bf11045c1f1453</td>\n      <td>up yours you authoritarian little hitlers</td>\n      <td>1</td>\n      <td>0</td>\n      <td>0</td>\n      <td>0</td>\n      <td>0</td>\n      <td>0</td>\n    </tr>\n    <tr>\n      <th>79005</th>\n      <td>d36d6b135a4e2541</td>\n      <td>you know what acroterion you can go fuck yours...</td>\n      <td>1</td>\n      <td>1</td>\n      <td>1</td>\n      <td>0</td>\n      <td>1</td>\n      <td>1</td>\n    </tr>\n    <tr>\n      <th>...</th>\n      <td>...</td>\n      <td>...</td>\n      <td>...</td>\n      <td>...</td>\n      <td>...</td>\n      <td>...</td>\n      <td>...</td>\n      <td>...</td>\n    </tr>\n    <tr>\n      <th>149086</th>\n      <td>56d57654c05bf031</td>\n      <td>more rubbish this page contains 0000001% of th...</td>\n      <td>1</td>\n      <td>0</td>\n      <td>1</td>\n      <td>0</td>\n      <td>1</td>\n      <td>0</td>\n    </tr>\n    <tr>\n      <th>112100</th>\n      <td>57bea1d837f085fa</td>\n      <td>hey fucking pig hey fucking pig of a bully; i ...</td>\n      <td>1</td>\n      <td>1</td>\n      <td>1</td>\n      <td>0</td>\n      <td>1</td>\n      <td>0</td>\n    </tr>\n    <tr>\n      <th>49132</th>\n      <td>835ae075e5d44a3b</td>\n      <td>ricky81682 is a paid mole scumbag there is no ...</td>\n      <td>1</td>\n      <td>0</td>\n      <td>1</td>\n      <td>0</td>\n      <td>1</td>\n      <td>0</td>\n    </tr>\n    <tr>\n      <th>52002</th>\n      <td>8b3212f40c51abaa</td>\n      <td>im the bane of your existence hey gaashoo i am...</td>\n      <td>1</td>\n      <td>0</td>\n      <td>0</td>\n      <td>0</td>\n      <td>0</td>\n      <td>0</td>\n    </tr>\n    <tr>\n      <th>1444</th>\n      <td>03dd90664e855020</td>\n      <td>listen up you narrow eyed teacher living on mi...</td>\n      <td>1</td>\n      <td>0</td>\n      <td>0</td>\n      <td>0</td>\n      <td>0</td>\n      <td>0</td>\n    </tr>\n  </tbody>\n</table>\n<p>3000 rows × 8 columns</p>\n</div>"
     },
     "metadata": {},
     "output_type": "execute_result",
     "execution_count": 4
    }
   ],
   "source": [
    "\"\"\"\n",
    "Get <n_category> random samples from each category\n",
    "\"\"\"\n",
    "samples=skeleton.split_by_keys(n_category=3000)\n",
    "samples['toxic']\n"
   ],
   "metadata": {
    "collapsed": false,
    "pycharm": {
     "name": "#%%\n",
     "is_executing": false
    }
   }
  },
  {
   "cell_type": "code",
   "execution_count": null,
   "metadata": {
    "pycharm": {
     "name": "#%%\n",
     "is_executing": true
    }
   },
   "outputs": [
    {
     "name": "stdout",
     "text": [
      "Loading Custom Model!\n",
      "\"word 'swartz' not in vocabulary\"\n\"word 'live;' not in vocabulary\"\n",
      "\"word 'conformist' not in vocabulary\"\n\"word 'music75139103133' not in vocabulary\"\n",
      "\"word 'pwspyware' not in vocabulary\"\n\"word 'scherer' not in vocabulary\"\n\"word 'crud' not in vocabulary\"\n\"word 'subjectiv' not in vocabulary\"\n",
      "\"word 'wasn' not in vocabulary\"\n",
      "\"word 'diaper' not in vocabulary\"\n\"word 'helpdesk' not in vocabulary\"\n",
      "\"word 'assh*le' not in vocabulary\"\n\"word 'shits' not in vocabulary\"\n\"word '' not in vocabulary\"\n",
      "\"word 'vma' not in vocabulary\"\n\"word '' not in vocabulary\"\n",
      "\"word '' not in vocabulary\"\n\"word '' not in vocabulary\"\n\"word 'rr2' not in vocabulary\"\n\"word 'rr3' not in vocabulary\"\n\"word '~slurp~' not in vocabulary\"\n",
      "\"word 'scummy' not in vocabulary\"\n\"word 'aren' not in vocabulary\"\n\"word 'evildoing' not in vocabulary\"\n\"word 'nutjob' not in vocabulary\"\n\"word 'burp' not in vocabulary\"\n",
      "\"word 'fabolous' not in vocabulary\"\n\"word 'wwwyoutubecom' not in vocabulary\"\n\"word '' not in vocabulary\"\n\"word 'polock' not in vocabulary\"\n",
      "\"word '' not in vocabulary\"\n\"word 'uiuc' not in vocabulary\"\n\"word '4000$' not in vocabulary\"\n",
      "\"word 'ass>' not in vocabulary\"\n",
      "\"word 'lumbago' not in vocabulary\"\n\"word 'centauri' not in vocabulary\"\n",
      "\"word 'theorys' not in vocabulary\"\n\"word 'aparently' not in vocabulary\"\n",
      "\"word '' not in vocabulary\"\n\"word '' not in vocabulary\"\n\"word 'bodom' not in vocabulary\"\n\"word 'kalmah' not in vocabulary\"\n",
      "\"word '' not in vocabulary\"\n",
      "\"word 'sulphuric' not in vocabulary\"\n\"word 'carelessly' not in vocabulary\"\n\"word '' not in vocabulary\"\n\"word 'jadakiss' not in vocabulary\"\n",
      "\"word 'rarelibra' not in vocabulary\"\n\"word 'evering' not in vocabulary\"\n\"word 'bibles' not in vocabulary\"\n\"word 'flush' not in vocabulary\"\n\"word '' not in vocabulary\"\n\"word 'minute80604' not in vocabulary\"\n",
      "\"word 'andfuck' not in vocabulary\"\n\"word 'anorexia' not in vocabulary\"\n",
      "\"word '' not in vocabulary\"\n\"word 'p10' not in vocabulary\"\n",
      "\"word 'selves' not in vocabulary\"\n",
      "\"word 'perpetuated' not in vocabulary\"\n\"word 'digged' not in vocabulary\"\n\"word 'cautionary' not in vocabulary\"\n\"word 'doid' not in vocabulary\"\n\"word 'nub' not in vocabulary\"\n",
      "\"word '' not in vocabulary\"\n\"word 'splash' not in vocabulary\"\n\"word 'poltergeist' not in vocabulary\"\n\"word 'amblin' not in vocabulary\"\n\"word 'gabrielkat' not in vocabulary\"\n\"word 'amblin' not in vocabulary\"\n\"word 'latterly' not in vocabulary\"\n",
      "\"word 'obni**' not in vocabulary\"\n\"word 'militancy' not in vocabulary\"\n\"word 'stupids' not in vocabulary\"\n\"word '' not in vocabulary\"\n\"word 'nny' not in vocabulary\"\n\"word 'drjoe' not in vocabulary\"\n\"word 'pussbot' not in vocabulary\"\n\"word 'cannto' not in vocabulary\"\n\"word 'shudslavpus' not in vocabulary\"\n",
      "\"word 'interpersonal' not in vocabulary\"\n\"word 'fuckheads' not in vocabulary\"\n\"word 'concentrate' not in vocabulary\"\n\"word 'accontless' not in vocabulary\"\n\"word 'misterioso' not in vocabulary\"\n",
      "\"word 'katieh5758' not in vocabulary\"\n\"word 'flout' not in vocabulary\"\n",
      "\"word 'flagrantly' not in vocabulary\"\n",
      "\"word 'gandalf' not in vocabulary\"\n\"word 'golem' not in vocabulary\"\n\"word 'ryanpostlethwaite' not in vocabulary\"\n\"word 'wankerish' not in vocabulary\"\n",
      "\"word 'friendless' not in vocabulary\"\n",
      "\"word 'saladin' not in vocabulary\"\n\"word 'spared' not in vocabulary\"\n\"word '' not in vocabulary\"\n\"word 'bloodshed' not in vocabulary\"\n\"word 'bloodshed' not in vocabulary\"\n\"word 'lusignan' not in vocabulary\"\n\"word 'reynald' not in vocabulary\"\n\"word 'intensified' not in vocabulary\"\n\"word 'humphrey' not in vocabulary\"\n",
      "\"word 'aren´t' not in vocabulary\"\n",
      "\"word 'varified' not in vocabulary\"\n",
      "\"word 'dαlus' not in vocabulary\"\n\"word '' not in vocabulary\"\n\"word 'wouldriveby' not in vocabulary\"\n",
      "\"word 'busybodies' not in vocabulary\"\n\"word 'strut' not in vocabulary\"\n\"word 'nanobear' not in vocabulary\"\n",
      "\"word 'nicknamed' not in vocabulary\"\n",
      "\"word 'expirenced' not in vocabulary\"\n\"word 'dominating' not in vocabulary\"\n\"word 'occassional' not in vocabulary\"\n\"word 'libtards' not in vocabulary\"\n\"word 'a$$es' not in vocabulary\"\n",
      "\"word '' not in vocabulary\"\n\"word 'katyn' not in vocabulary\"\n",
      "\"word 'cobain' not in vocabulary\"\n\"word '' not in vocabulary\"\n\"word '' not in vocabulary\"\n",
      "\"word 'language71232157145' not in vocabulary\"\n\"word 'ctjf83' not in vocabulary\"\n\"word 'fisted' not in vocabulary\"\n",
      "\"word 'mee' not in vocabulary\"\n\"word 'cheryl' not in vocabulary\"\n",
      "\"word 'stabs' not in vocabulary\"\n\"word 'jonathon' not in vocabulary\"\n",
      "\"word 'phenomenon8980' not in vocabulary\"\n\"word 'rm994' not in vocabulary\"\n\"word 'rm994' not in vocabulary\"\n\"word 'habsmtl' not in vocabulary\"\n",
      "\"word 'apopleptic' not in vocabulary\"\n\"word 'waterhead' not in vocabulary\"\n",
      "\"word 'stippud' not in vocabulary\"\n\"word 'iditio' not in vocabulary\"\n",
      "\"word '' not in vocabulary\"\n\"word 'cesko' not in vocabulary\"\n\"word 'czechia' not in vocabulary\"\n",
      "\"word 'shun' not in vocabulary\"\n\"word 'shuuuuuuuuuuuuuuuuuuuuuuuuuuuuuuuuuuuuuuuuuuuuuuuuuun' not in vocabulary\"\n",
      "\"word 'wikkkipedians' not in vocabulary\"\n\"word '' not in vocabulary\"\n",
      "\"word '—preceding' not in vocabulary\"\n",
      "\"word 'pencil' not in vocabulary\"\n\"word 'stiffy' not in vocabulary\"\n\"word 'lier' not in vocabulary\"\n",
      "\"word 'frontal' not in vocabulary\"\n\"word 'lobe' not in vocabulary\"\n",
      "\"word 'inapropriote' not in vocabulary\"\n\"word 'dogshit' not in vocabulary\"\n",
      "\"word 'spineless' not in vocabulary\"\n\"word 'sleazed' not in vocabulary\"\n\"word 'whored' not in vocabulary\"\n",
      "\"word 'rhino' not in vocabulary\"\n\"word 'imma' not in vocabulary\"\n\"word 'meatpippett' not in vocabulary\"\n",
      "\"word 'misinterpret' not in vocabulary\"\n\"word 'lovingly' not in vocabulary\"\n",
      "\"word 'infactual' not in vocabulary\"\n",
      "\"word 'helpfully' not in vocabulary\"\n\"word 'shootings' not in vocabulary\"\n",
      "\"word 'civil;' not in vocabulary\"\n\"word '' not in vocabulary\"\n\"word '' not in vocabulary\"\n\"word '' not in vocabulary\"\n\"word '' not in vocabulary\"\n",
      "\"word 'regress' not in vocabulary\"\n\"word 'gossiping' not in vocabulary\"\n\"word 'mgiganteus' not in vocabulary\"\n",
      "\"word 'acused' not in vocabulary\"\n\"word 'eavil' not in vocabulary\"\n\"word 'obstruction' not in vocabulary\"\n\"word 'obstruction' not in vocabulary\"\n\"word 'cashed' not in vocabulary\"\n\"word 'extreamist' not in vocabulary\"\n",
      "\"word 'obstruct' not in vocabulary\"\n\"word 'extreamist' not in vocabulary\"\n\"word 'wag' not in vocabulary\"\n\"word 'sayo' not in vocabulary\"\n\"word 'wag' not in vocabulary\"\n\"word 'makialam' not in vocabulary\"\n\"word 'bida' not in vocabulary\"\n\"word 'bagay' not in vocabulary\"\n",
      "\"word '' not in vocabulary\"\n\"word '' not in vocabulary\"\n\"word '' not in vocabulary\"\n\"word '' not in vocabulary\"\n\"word '' not in vocabulary\"\n\"word 'macarena' not in vocabulary\"\n\"word 'bayside' not in vocabulary\"\n\"word '' not in vocabulary\"\n\"word '' not in vocabulary\"\n\"word '' not in vocabulary\"\n\"word '' not in vocabulary\"\n\"word '' not in vocabulary\"\n\"word 'ludacris' not in vocabulary\"\n\"word '' not in vocabulary\"\n\"word '' not in vocabulary\"\n\"word '' not in vocabulary\"\n\"word '' not in vocabulary\"\n\"word '' not in vocabulary\"\n\"word '' not in vocabulary\"\n\"word '' not in vocabulary\"\n",
      "\"word '' not in vocabulary\"\n\"word '' not in vocabulary\"\n\"word '' not in vocabulary\"\n\"word '' not in vocabulary\"\n\"word 'santana' not in vocabulary\"\n\"word '' not in vocabulary\"\n\"word 'ashanti' not in vocabulary\"\n\"word '' not in vocabulary\"\n\"word 'kanye' not in vocabulary\"\n\"word '' not in vocabulary\"\n\"word 'carnes' not in vocabulary\"\n\"word '' not in vocabulary\"\n\"word '' not in vocabulary\"\n\"word '' not in vocabulary\"\n\"word '' not in vocabulary\"\n\"word '' not in vocabulary\"\n\"word 'beyoncé' not in vocabulary\"\n\"word '' not in vocabulary\"\n\"word '' not in vocabulary\"\n\"word '' not in vocabulary\"\n\"word '' not in vocabulary\"\n\"word '' not in vocabulary\"\n\"word '' not in vocabulary\"\n\"word 'kross' not in vocabulary\"\n\"word '' not in vocabulary\"\n\"word '' not in vocabulary\"\n\"word '' not in vocabulary\"\n",
      "\"word '' not in vocabulary\"\n\"word '' not in vocabulary\"\n\"word '' not in vocabulary\"\n\"word '' not in vocabulary\"\n\"word '' not in vocabulary\"\n\"word '' not in vocabulary\"\n\"word '' not in vocabulary\"\n\"word '' not in vocabulary\"\n\"word 'olivia' not in vocabulary\"\n\"word 'blackhearts' not in vocabulary\"\n\"word '' not in vocabulary\"\n\"word '' not in vocabulary\"\n\"word 'stevie' not in vocabulary\"\n\"word '' not in vocabulary\"\n\"word 'billie' not in vocabulary\"\n\"word '' not in vocabulary\"\n\"word '' not in vocabulary\"\n\"word '' not in vocabulary\"\n\"word '' not in vocabulary\"",
      "\n\"word 'informer' not in vocabulary\"\n\"word '' not in vocabulary\"\n\"word '' not in vocabulary\"\n\"word '' not in vocabulary\"\n\"word '' not in vocabulary\"\n\"word '' not in vocabulary\"\n\"word '' not in vocabulary\"\n\"word 'tlc' not in vocabulary\"\n\"word 'waterfalls' not in vocabulary\"\n\"word '' not in vocabulary\"\n\"word '' not in vocabulary\"\n\"word '' not in vocabulary\"\n\"word '' not in vocabulary\"\n\"word 'nelly' not in vocabulary\"\n\"word '' not in vocabulary\"\n\"word 'ciara' not in vocabulary\"\n\"word 'goodies' not in vocabulary\"\n\"word '' not in vocabulary\"\n\"word '' not in vocabulary\"\n\"word 'centerfold' not in vocabulary\"\n\"word '' not in vocabulary\"\n\"word 'irene' not in vocabulary\"\n\"word 'cara' not in vocabulary\"\n\"word 'flashdance' not in vocabulary\"\n\"word '' not in vocabulary\"\n\"word '' not in vocabulary\"\n\"word '' not in vocabulary\"\n\"word '' not in vocabulary\"\n\"word 'bended' not in vocabulary\"\n\"word '' not in vocabulary\"\n\"word '' not in vocabulary\"\n",
      "\"word '' not in vocabulary\"\n\"word '' not in vocabulary\"\n\"word '' not in vocabulary\"\n\"word 'celine' not in vocabulary\"\n\"word 'dion' not in vocabulary\"\n\"word '' not in vocabulary\"\n\"word 'mase' not in vocabulary\"\n\"word '' not in vocabulary\"\n\"word 'rkelly' not in vocabulary\"\n\"word '' not in vocabulary\"\n\"word '' not in vocabulary\"\n\"word 'fallin' not in vocabulary\"\n\"word '' not in vocabulary\"\n\"word '' not in vocabulary\"\n\"word '' not in vocabulary\"\n\"word '' not in vocabulary\"\n\"word '' not in vocabulary\"\n\"word '' not in vocabulary\"\n\"word '' not in vocabulary\"\n\"word '' not in vocabulary\"\n\"word 'halen' not in vocabulary\"\n\"word '' not in vocabulary\"\n\"word '' not in vocabulary\"\n\"word '' not in vocabulary\"\n\"word '' not in vocabulary\"\n\"word '' not in vocabulary\"\n",
      "\"word '' not in vocabulary\"\n\"word 'vanessa' not in vocabulary\"\n\"word '' not in vocabulary\"\n\"word '' not in vocabulary\"\n\"word '' not in vocabulary\"\n\"word '' not in vocabulary\"\n\"word 'loaf' not in vocabulary\"\n\"word '' not in vocabulary\"\n\"word '' not in vocabulary\"\n\"word '' not in vocabulary\"\n\"word '' not in vocabulary\"\n\"word 'livin' not in vocabulary\"\n\"word '' not in vocabulary\"\n\"word '' not in vocabulary\"\n",
      "\"word 'slime' not in vocabulary\"\n\"word 'ballsack' not in vocabulary\"\n\"word 'shears' not in vocabulary\"\n",
      "\"word 'unsullied' not in vocabulary\"\n",
      "\"word 'homos' not in vocabulary\"\n\"word 'stupiditu' not in vocabulary\"\n\"word 'inshallah' not in vocabulary\"\n",
      "\"word 'ooohhhh' not in vocabulary\"\n\"word 'scaring' not in vocabulary\"\n\"word 'afghanis' not in vocabulary\"\n\"word 'afghanis' not in vocabulary\"\n",
      "\"word 'saddo' not in vocabulary\"\n",
      "\"word 'pleaze' not in vocabulary\"\n",
      "\"word '9999%' not in vocabulary\"\n\"word 'eiffel' not in vocabulary\"\n",
      "\"word '' not in vocabulary\"\n\"word 'jew3799254141' not in vocabulary\"\n\"word 'rightnot' not in vocabulary\"\n\"word 'fagplease' not in vocabulary\"\n",
      "\"word 'quarrel' not in vocabulary\"\n\"word '' not in vocabulary\"\n\"word 'gothrock' not in vocabulary\"\n\"word 'realdealbillmcneal' not in vocabulary\"\n",
      "\"word 'tuckdogg' not in vocabulary\"\n\"word 'matchup' not in vocabulary\"\n\"word '' not in vocabulary\"\n\"word 'liddell' not in vocabulary\"\n",
      "\"word 'anybodys' not in vocabulary\"\n\"word 'afflicted' not in vocabulary\"\n",
      "\"word '' not in vocabulary\"\n\"word 'templars' not in vocabulary\"\n",
      "\"word '' not in vocabulary\"\n\"word '' not in vocabulary\"\n\"word 'babel' not in vocabulary\"\n\"word '' not in vocabulary\"\n",
      "\"word 'fuckknuckle' not in vocabulary\"\n\"word 'fuckknuckle' not in vocabulary\"\n\"word 'amadeus' not in vocabulary\"\n\"word 'amadeus' not in vocabulary\"\n",
      "\"word 'fuckerrajputs' not in vocabulary\"\n\"word 'repect' not in vocabulary\"\n\"word 'rajputsthe' not in vocabulary\"\n\"word 'rajputsthe' not in vocabulary\"\n\"word 'parshuramai' not in vocabulary\"\n\"word 'aslo' not in vocabulary\"\n",
      "\"word 'bk' not in vocabulary\"\n\"word 'hersfold' not in vocabulary\"\n\"word 'hersfold' not in vocabulary\"\n\"word 'battled' not in vocabulary\"\n\"word 'shoemaker' not in vocabulary\"\n\"word 'pch' not in vocabulary\"\n\"word 'convertible' not in vocabulary\"\n\"word 'sushi' not in vocabulary\"\n\"word 'dessert' not in vocabulary\"\n",
      "\"word 'musa' not in vocabulary\"\n\"word '' not in vocabulary\"\n\"word 'notovitch' not in vocabulary\"\n\"word 'yuz' not in vocabulary\"\n\"word 'profyasin' not in vocabulary\"\n\"word 'fida' not in vocabulary\"\n\"word 'hassnain' not in vocabulary\"\n",
      "\"word 'triggering' not in vocabulary\"\n",
      "\"word 'eoriginal' not in vocabulary\"\n\"word 'smallminded' not in vocabulary\"\n\"word 'pettyness' not in vocabulary\"\n\"word 'smallminded' not in vocabulary\"\n\"word '' not in vocabulary\"\n\"word 'inconsitency' not in vocabulary\"\n\"word 'childishly' not in vocabulary\"\n\"word 'subtract' not in vocabulary\"\n\"word 'eductaion' not in vocabulary\"\n\"word 'regressive' not in vocabulary\"\n",
      "\"word 'navysealscom' not in vocabulary\"\n\"word 'ns' not in vocabulary\"\n\"word 'marcinko' not in vocabulary\"\n",
      "\"word 'styrofoam1994' not in vocabulary\"\n",
      "\"word 'dejay' not in vocabulary\"\n\"word 'sonisona' not in vocabulary\"\n",
      "\"word 'sympathists' not in vocabulary\"\n\"word 'liek' not in vocabulary\"\n\"word 'chootiya' not in vocabulary\"\n",
      "\"word 'asshole681725221' not in vocabulary\"\n",
      "\"word 'dickheadfuck' not in vocabulary\"\n\"word 'dickheadfuck' not in vocabulary\"\n\"word 'dickheadfuck' not in vocabulary\"\n",
      "\"word 'm8' not in vocabulary\"\n\"word 'roker' not in vocabulary\"\n\"word 'roks' not in vocabulary\"\n\"word 'roker' not in vocabulary\"\n\"word 'becuz' not in vocabulary\"\n\"word 'roker' not in vocabulary\"\n\"word '' not in vocabulary\"\n\"word '' not in vocabulary\"\n\"word '' not in vocabulary\"\n\"word '' not in vocabulary\"\n\"word '' not in vocabulary\"\n\"word '' not in vocabulary\"\n\"word '' not in vocabulary\"\n\"word '' not in vocabulary\"\n\"word '' not in vocabulary\"\n\"word '' not in vocabulary\"\n\"word '' not in vocabulary\"\n\"word '' not in vocabulary\"\n\"word '' not in vocabulary\"\n\"word '' not in vocabulary\"\n\"word '' not in vocabulary\"\n\"word '' not in vocabulary\"\n\"word '' not in vocabulary\"\n\"word '' not in vocabulary\"\n\"word '' not in vocabulary\"\n",
      "\"word 'dickbag' not in vocabulary\"\n\"word '' not in vocabulary\"\n\"word 'wanky' not in vocabulary\"\n\"word 'uppity' not in vocabulary\"\n",
      "\"word 'pinethickets' not in vocabulary\"\n\"word 'farts' not in vocabulary\"\n",
      "\"word '' not in vocabulary\"\n\"word '' not in vocabulary\"\n\"word '' not in vocabulary\"\n",
      "\"word 'grandizing' not in vocabulary\"\n\"word 'connolly' not in vocabulary\"\n\"word 'watermelon' not in vocabulary\"\n\"word 'putz' not in vocabulary\"\n",
      "\"word 'enwikipediaorg' not in vocabulary\"\n\"word 'jshultz' not in vocabulary\"\n",
      "\"word 'people~~1~~' not in vocabulary\"\n",
      "\"word 'motherland' not in vocabulary\"\n\"word 'cultuers' not in vocabulary\"\n\"word 'scholers' not in vocabulary\"\n\"word 'cultuers' not in vocabulary\"\n",
      "\"word 'chalange' not in vocabulary\"\n\"word 'inteligence' not in vocabulary\"\n\"word 'sysyem' not in vocabulary\"\n\"word 'khandoba' not in vocabulary\"\n\"word 'inteligence' not in vocabulary\"\n\"word 'vandalis' not in vocabulary\"\n\"word 'wiil' not in vocabulary\"\n\"word 'diadvantage' not in vocabulary\"\n\"word 'vishal1976' not in vocabulary\"\n",
      "\"word '' not in vocabulary\"\n\"word 'evn' not in vocabulary\"\n\"word 'brainmjohn' not in vocabulary\"\n\"word 'wrestleu' not in vocabulary\"\n\"word 'wrestlehe' not in vocabulary\"\n\"word 'wrestlerps' not in vocabulary\"\n\"word '3you' not in vocabulary\"\n\"word 'drown' not in vocabulary\"\n",
      "\"word 'simpleton' not in vocabulary\"\n\"word 'declassified' not in vocabulary\"\n\"word '' not in vocabulary\"\n",
      "\"word 'chem' not in vocabulary\"\n\"word 'trails' not in vocabulary\"\n\"word 'constrained' not in vocabulary\"\n\"word 'tbd' not in vocabulary\"\n",
      "\"word 'covertly' not in vocabulary\"\n",
      "\"word 'iy' not in vocabulary\"\n\"word 'dey' not in vocabulary\"\n\"word 'wus' not in vocabulary\"\n\"word 'chromed' not in vocabulary\"\n",
      "\"word 'sluts' not in vocabulary\"\n\"word 'grawp’s' not in vocabulary\"\n",
      "\"word 'revertion' not in vocabulary\"\n\"word 'as3ho0le' not in vocabulary\"\n\"word 'weiner' not in vocabulary\"\n",
      "\"word 'gilabrand' not in vocabulary\"\n\"word 'tyo' not in vocabulary\"\n\"word 'traitors' not in vocabulary\"\n",
      "\"word 'wikipeia' not in vocabulary\"\n\"word 'beaurocracy' not in vocabulary\"\n",
      "\"word 'carlile' not in vocabulary\"\n",
      "\"word 'conspiricy' not in vocabulary\"\n",
      "\"word 'debauchery' not in vocabulary\"\n",
      "\"word 'schmegma' not in vocabulary\"\n\"word 'delet' not in vocabulary\"\n",
      "\"word 'hearty' not in vocabulary\"\n\"word 'applause' not in vocabulary\"\n",
      "\"word 'farrakhanistic' not in vocabulary\"\n\"word 'farrakhan' not in vocabulary\"\n\"word '51%' not in vocabulary\"\n\"word 'mulattoeuro' not in vocabulary\"\n\"word 'cibao' not in vocabulary\"\n\"word 'generalize' not in vocabulary\"\n\"word 'nationlaity' not in vocabulary\"\n\"word 'idiotslook' not in vocabulary\"\n\"word 'mouthing' not in vocabulary\"\n\"word 'pea' not in vocabulary\"\n\"word 'jurassic' not in vocabulary\"\n",
      "\"word 'neantherthals' not in vocabulary\"\n",
      "\"word 'envies' not in vocabulary\"\n\"word 'importantly' not in vocabulary\"\n\"word '' not in vocabulary\"\n\"word '' not in vocabulary\"\n\"word '' not in vocabulary\"\n",
      "\"word 'f@ck' not in vocabulary\"\n\"word 'f@uck' not in vocabulary\"\n\"word 'heracles' not in vocabulary\"\n",
      "\"word '➨' not in vocabulary\"\n\"word 'hooligan' not in vocabulary\"\n\"word 'athiest' not in vocabulary\"\n\"word 'shirulashem' not in vocabulary\"\n\"word '➨' not in vocabulary\"\n\"word '❝яedvers❞' not in vocabulary\"\n\"word 'hooligan' not in vocabulary\"\n\"word '❝яedvers❞' not in vocabulary\"\n\"word 'hooligan' not in vocabulary\"\n\"word 'inflamed' not in vocabulary\"\n\"word 'detonate' not in vocabulary\"\n\"word 'hooligan' not in vocabulary\"\n\"word '❝яedvers❞' not in vocabulary\"\n\"word 'hooligan' not in vocabulary\"\n",
      "\"word 'lhvu' not in vocabulary\"\n\"word 'dressing' not in vocabulary\"\n\"word 'cheeses' not in vocabulary\"\n\"word '❝яedvers❞' not in vocabulary\"\n\"word 'hooligan' not in vocabulary\"\n\"word '➨' not in vocabulary\"\n\"word 'hooligan' not in vocabulary\"\n",
      "\"word 'prospects' not in vocabulary\"\n\"word 'insatiable' not in vocabulary\"\n\"word 'spick' not in vocabulary\"\n",
      "\"word 'incarnate' not in vocabulary\"\n\"word 'bahaullah' not in vocabulary\"\n",
      "\"word 'dumbed' not in vocabulary\"\n\"word 'busybodies' not in vocabulary\"\n",
      "\"word 'lemon' not in vocabulary\"\n",
      "\"word 'hahahahahahahahahahahahaahhahahahahaahhahahahahahahaha' not in vocabulary\"\n\"word 'spitholes' not in vocabulary\"\n",
      "\"word 'dori' not in vocabulary\"\n\"word 'ox' not in vocabulary\"\n\"word 'boxingwear' not in vocabulary\"\n",
      "\"word 'hüttenbrenner' not in vocabulary\"\n\"word 'schubert' not in vocabulary\"\n\"word 'schubert' not in vocabulary\"\n\"word '' not in vocabulary\"\n\"word 'complication' not in vocabulary\"\n\"word 'syphilis' not in vocabulary\"\n\"word 'movements5' not in vocabulary\"\n\"word 'schubert' not in vocabulary\"\n",
      "\"word 'beingbenschumin' not in vocabulary\"\n",
      "\"word 'midget' not in vocabulary\"\n\"word 'sheuli' not in vocabulary\"\n\"word 'bose' not in vocabulary\"\n\"word 'yapping' not in vocabulary\"\n",
      "\"word 'defmation' not in vocabulary\"\n\"word 'wahhabies' not in vocabulary\"\n\"word 'godless' not in vocabulary\"\n\"word 'steals' not in vocabulary\"\n",
      "\"word 'nic' not in vocabulary\"\n\"word 'godless' not in vocabulary\"\n\"word 'nic' not in vocabulary\"\n\"word 'jars' not in vocabulary\"\n\"word 'blogmyspacecom' not in vocabulary\"\n\"word 'indexcfmfuseactionblogview&friendid;69366862&blogid;153163814&mytoken;a9b1bd03' not in vocabulary\"\n\"word '' not in vocabulary\"\n\"word '4cc6' not in vocabulary\"\n\"word '27811447e751' not in vocabulary\"\n\"word 'you>' not in vocabulary\"\n\"word 'wikiality' not in vocabulary\"\n",
      "\"word 'siebert' not in vocabulary\"\n",
      "\"word 'beaner' not in vocabulary\"\n\"word 'taco' not in vocabulary\"\n\"word 'argentinian' not in vocabulary\"\n",
      "\"word 'smth' not in vocabulary\"\n\"word '' not in vocabulary\"\n\"word '' not in vocabulary\"\n\"word '' not in vocabulary\"\n",
      "\"word 'ido' not in vocabulary\"\n\"word 'scooped' not in vocabulary\"\n\"word 'forgit' not in vocabulary\"\n\"word 'keepin' not in vocabulary\"\n\"word 'wwwfree' not in vocabulary\"\n\"word 'lyricsorg' not in vocabulary\"\n\"word 'hayseed' not in vocabulary\"\n\"word 'dixiehtml' not in vocabulary\"\n\"word 'lid' not in vocabulary\"\n\"word 'keepin' not in vocabulary\"\n\"word 'keepin' not in vocabulary\"\n\"word 'keepin' not in vocabulary\"\n\"word 'keepin' not in vocabulary\"\n\"word 'keepin' not in vocabulary\"\n\"word 'keepin' not in vocabulary\"\n",
      "\"word 'yourselfgo' not in vocabulary\"\n\"word 'yourselfgo' not in vocabulary\"\n\"word 'yourselfgo' not in vocabulary\"\n\"word 'yourselfgo' not in vocabulary\"\n\"word 'yourselfgo' not in vocabulary\"\n\"word 'yourselfgo' not in vocabulary\"\n\"word 'yourselfgo' not in vocabulary\"\n\"word 'yourselfgo' not in vocabulary\"\n\"word 'yourselfgo' not in vocabulary\"\n\"word 'yourselfgo' not in vocabulary\"\n\"word 'yourselfgo' not in vocabulary\"\n\"word 'yourselfgo' not in vocabulary\"\n\"word 'yourselfgo' not in vocabulary\"\n\"word 'yourselfgo' not in vocabulary\"\n\"word 'yourselfgo' not in vocabulary\"\n\"word 'yourselfgo' not in vocabulary\"\n\"word 'yourselfgo' not in vocabulary\"\n\"word 'yourselfgo' not in vocabulary\"\n\"word 'yourselfgo' not in vocabulary\"\n\"word 'yourselfgo' not in vocabulary\"\n\"word 'yourselfgo' not in vocabulary\"\n\"word 'yourselfgo' not in vocabulary\"\n\"word 'yourselfgo' not in vocabulary\"\n\"word 'yourselfgo' not in vocabulary\"\n\"word 'yourselfgo' not in vocabulary\"\n\"word 'yourselfgo' not in vocabulary\"\n\"word 'yourselfgo' not in vocabulary\"\n\"word 'yourselfgo' not in vocabulary\"\n\"word 'yourselfgo' not in vocabulary\"\n\"word 'yourselfgo' not in vocabulary\"\n\"word 'yourselfgo' not in vocabulary\"\n\"word 'yourselfgo' not in vocabulary\"\n\"word 'yourselfgo' not in vocabulary\"\n\"word 'yourselfgo' not in vocabulary\"\n\"word 'yourselfgo' not in vocabulary\"\n\"word 'yourselfgo' not in vocabulary\"\n\"word 'yourselfgo' not in vocabulary\"\n\"word 'yourselfgo' not in vocabulary\"\n\"word 'yourselfgo' not in vocabulary\"\n\"word 'yourselfgo' not in vocabulary\"\n\"word 'yourselfgo' not in vocabulary\"\n\"word 'yourselfgo' not in vocabulary\"\n\"word 'yourselfgo' not in vocabulary\"\n\"word 'yourselfgo' not in vocabulary\"\n\"word 'yourselfgo' not in vocabulary\"\n\"word 'yourselfgo' not in vocabulary\"\n\"word 'yourselfgo' not in vocabulary\"\n\"word 'yourselfgo' not in vocabulary\"\n\"word 'yourselfgo' not in vocabulary\"\n\"word 'yourselfgo' not in vocabulary\"\n\"word 'yourselfgo' not in vocabulary\"\n\"word 'yourselfgo' not in vocabulary\"\n\"word 'yourselfgo' not in vocabulary\"\n\"word 'yourselfgo' not in vocabulary\"\n\"word 'yourselfgo' not in vocabulary\"\n\"word 'yourselfgo' not in vocabulary\"\n\"word 'yourselfgo' not in vocabulary\"\n\"word 'yourselfgo' not in vocabulary\"\n\"word 'yourselfgo' not in vocabulary\"\n\"word 'yourselfgo' not in vocabulary\"\n\"word 'yourselfgo' not in vocabulary\"\n\"word 'yourselfgo' not in vocabulary\"\n\"word 'yourselfgo' not in vocabulary\"\n\"word 'yourselfgo' not in vocabulary\"\n\"word 'yourselfgo' not in vocabulary\"\n\"word 'yourselfgo' not in vocabulary\"\n\"word 'yourselfgo' not in vocabulary\"\n\"word 'yourselfgo' not in vocabulary\"\n\"word 'yourselfgo' not in vocabulary\"\n\"word 'yourselfgo' not in vocabulary\"\n\"word 'yourselfgo' not in vocabulary\"\n\"word 'yourselfgo' not in vocabulary\"\n\"word 'yourselfgo' not in vocabulary\"\n\"word 'yourselfgo' not in vocabulary\"\n\"word 'yourselfgo' not in vocabulary\"\n\"word 'yourselfgo' not in vocabulary\"\n\"word 'yourselfgo' not in vocabulary\"\n\"word 'yourselfgo' not in vocabulary\"\n\"word 'yourselfgo' not in vocabulary\"\n\"word 'yourselfgo' not in vocabulary\"\n\"word 'yourselfgo' not in vocabulary\"\n\"word 'yourselfgo' not in vocabulary\"\n\"word 'yourselfgo' not in vocabulary\"\n\"word 'yourselfgo' not in vocabulary\"\n\"word 'yourselfgo' not in vocabulary\"\n\"word 'yourselfgo' not in vocabulary\"\n\"word 'yourselfgo' not in vocabulary\"\n\"word 'yourselfgo' not in vocabulary\"\n\"word 'yourselfgo' not in vocabulary\"\n\"word 'yourselfgo' not in vocabulary\"\n\"word 'yourselfgo' not in vocabulary\"\n\"word 'yourselfgo' not in vocabulary\"\n\"word 'yourselfgo' not in vocabulary\"\n\"word 'yourselfgo' not in vocabulary\"\n\"word 'yourselfgo' not in vocabulary\"\n\"word 'yourselfgo' not in vocabulary\"\n\"word 'yourselfgo' not in vocabulary\"\n\"word 'yourselfgo' not in vocabulary\"\n\"word 'yourselfgo' not in vocabulary\"\n\"word 'yourselfgo' not in vocabulary\"\n\"word 'yourselfgo' not in vocabulary\"\n\"word 'yourselfgo' not in vocabulary\"\n\"word 'yourselfgo' not in vocabulary\"\n\"word 'yourselfgo' not in vocabulary\"\n\"word 'yourselfgo' not in vocabulary\"\n\"word 'yourselfgo' not in vocabulary\"\n\"word 'yourselfgo' not in vocabulary\"\n\"word 'yourselfgo' not in vocabulary\"\n\"word 'yourselfgo' not in vocabulary\"\n\"word 'yourselfgo' not in vocabulary\"\n\"word 'yourselfgo' not in vocabulary\"\n\"word 'yourselfgo' not in vocabulary\"\n\"word 'yourselfgo' not in vocabulary\"\n\"word 'yourselfgo' not in vocabulary\"\n\"word 'yourselfgo' not in vocabulary\"\n\"word 'yourselfgo' not in vocabulary\"\n\"word 'yourselfgo' not in vocabulary\"\n\"word 'yourselfgo' not in vocabulary\"\n\"word 'yourselfgo' not in vocabulary\"\n\"word 'yourselfgo' not in vocabulary\"\n\"word 'yourselfgo' not in vocabulary\"\n\"word 'yourselfgo' not in vocabulary\"\n\"word 'yourselfgo' not in vocabulary\"\n\"word 'yourselfgo' not in vocabulary\"\n",
      "\"word 'yourselfgo' not in vocabulary\"\n\"word 'yourselfgo' not in vocabulary\"\n\"word 'yourselfgo' not in vocabulary\"\n\"word 'yourselfgo' not in vocabulary\"\n\"word 'yourselfgo' not in vocabulary\"\n\"word 'yourselfgo' not in vocabulary\"\n\"word 'yourselfgo' not in vocabulary\"\n\"word 'yourselfgo' not in vocabulary\"\n\"word 'yourselfgo' not in vocabulary\"\n\"word 'yourselfgo' not in vocabulary\"\n\"word 'yourselfgo' not in vocabulary\"\n\"word 'yourselfgo' not in vocabulary\"\n\"word 'yourselfgo' not in vocabulary\"\n\"word 'yourselfgo' not in vocabulary\"\n\"word 'yourselfgo' not in vocabulary\"\n\"word 'yourselfgo' not in vocabulary\"\n\"word 'yourselfgo' not in vocabulary\"\n\"word 'yourselfgo' not in vocabulary\"\n\"word 'yourselfgo' not in vocabulary\"\n\"word 'yourselfgo' not in vocabulary\"\n\"word 'yourselfgo' not in vocabulary\"\n\"word 'yourselfgo' not in vocabulary\"\n\"word 'yourselfgo' not in vocabulary\"\n\"word 'yourselfgo' not in vocabulary\"\n\"word 'yourselfgo' not in vocabulary\"\n\"word 'yourselfgo' not in vocabulary\"\n\"word 'yourselfgo' not in vocabulary\"\n\"word 'yourselfgo' not in vocabulary\"\n\"word 'yourselfgo' not in vocabulary\"\n\"word 'yourselfgo' not in vocabulary\"\n\"word 'yourselfgo' not in vocabulary\"\n\"word 'yourselfgo' not in vocabulary\"\n\"word 'yourselfgo' not in vocabulary\"\n\"word 'yourselfgo' not in vocabulary\"\n\"word 'yourselfgo' not in vocabulary\"\n\"word 'yourselfgo' not in vocabulary\"\n\"word 'yourselfgo' not in vocabulary\"\n\"word 'yourselfgo' not in vocabulary\"\n\"word 'yourselfgo' not in vocabulary\"\n\"word 'yourselfgo' not in vocabulary\"\n\"word 'yourselfgo' not in vocabulary\"\n\"word 'yourselfgo' not in vocabulary\"\n\"word 'yourselfgo' not in vocabulary\"\n\"word 'yourselfgo' not in vocabulary\"\n\"word 'yourselfgo' not in vocabulary\"\n\"word 'yourselfgo' not in vocabulary\"\n\"word 'yourselfgo' not in vocabulary\"\n\"word 'yourselfgo' not in vocabulary\"\n\"word 'yourselfgo' not in vocabulary\"\n\"word 'yourselfgo' not in vocabulary\"\n",
      "\"word 'auspices' not in vocabulary\"\n\"word 'polluting' not in vocabulary\"\n",
      "\"word 'renew' not in vocabulary\"\n\"word 'esl' not in vocabulary\"\n\"word 'belongings' not in vocabulary\"\n",
      "\"word '' not in vocabulary\"\n\"word '' not in vocabulary\"\n\"word 'gungadin' not in vocabulary\"\n",
      "\"word 'hilariously' not in vocabulary\"\n\"word 'disgustingly' not in vocabulary\"\n\"word '—preceding' not in vocabulary\"\n\"word '' not in vocabulary\"\n\"word '*boom*' not in vocabulary\"\n",
      "\"word 'ewwwwwwwwwwwwwww' not in vocabulary\"\n\"word 'icky' not in vocabulary\"\n\"word 'childbirth' not in vocabulary\"\n\"word 'grüßen' not in vocabulary\"\n",
      "\"word 'hting' not in vocabulary\"\n\"word 'pageonly' not in vocabulary\"\n",
      "\"word 'joke71232157145' not in vocabulary\"\n\"word 'guzzler' not in vocabulary\"\n\"word 'guzzler' not in vocabulary\"\n",
      "\"word 'entitle' not in vocabulary\"\n",
      "\"word 'mongrel' not in vocabulary\"\n\"word '' not in vocabulary\"\n\"word 'facets;' not in vocabulary\"\n\"word 'downsize' not in vocabulary\"\n",
      "\"word 'distorter' not in vocabulary\"\n\"word 'mujjahedin' not in vocabulary\"\n\"word 'reis' not in vocabulary\"\n",
      "\"word 'devotional' not in vocabulary\"\n\"word 'sankhya' not in vocabulary\"\n\"word '' not in vocabulary\"\n\"word 'sankhya' not in vocabulary\"\n\"word 'sages' not in vocabulary\"\n\"word 'demigods' not in vocabulary\"\n\"word 'narada' not in vocabulary\"\n\"word 'gandharvas' not in vocabulary\"\n\"word 'citraratha' not in vocabulary\"\n",
      "\"word 'expalins' not in vocabulary\"\n\"word 'copywritten' not in vocabulary\"\n\"word 'copywritten' not in vocabulary\"\n\"word 'numskull' not in vocabulary\"\n",
      "\"word 'frackingjniohn;dfngjifd' not in vocabulary\"\n\"word '' not in vocabulary\"\n\"word '0490' not in vocabulary\"\n\"word 'attention21' not in vocabulary\"\n\"word 'vjif' not in vocabulary\"\n\"word 'ijfggijsfdihbnb' not in vocabulary\"\n\"word '' not in vocabulary\"\n\"word 'gbfbjhfgiogfbhgifjhgifhnjnm' not in vocabulary\"\n\"word 'sow' not in vocabulary\"\n",
      "\"word 'shitface' not in vocabulary\"\n",
      "\"word 'bein' not in vocabulary\"\n\"word 'smd' not in vocabulary\"\n",
      "\"word 'pawlenty' not in vocabulary\"\n\"word 'muffling' not in vocabulary\"\n",
      "\"word 'comically' not in vocabulary\"\n",
      "\"word 'blogjust' not in vocabulary\"\n\"word 'jidf' not in vocabulary\"\n\"word 'leech' not in vocabulary\"\n\"word 'kthnxbai' not in vocabulary\"\n",
      "\"word 'gvhy' not in vocabulary\"\n\"word 'tay' not in vocabulary\"\n",
      "\"word 'assurred' not in vocabulary\"\n\"word 'plagarised' not in vocabulary\"\n\"word 'ensures' not in vocabulary\"\n\"word 'galore' not in vocabulary\"\n\"word 'roasted' not in vocabulary\"\n\"word 'semite' not in vocabulary\"\n",
      "\"word '' not in vocabulary\"\n\"word 'boast' not in vocabulary\"\n",
      "\"word 'deja' not in vocabulary\"\n\"word 'f*ucking' not in vocabulary\"\n",
      "\"word 'snak' not in vocabulary\"\n\"word 'retrn' not in vocabulary\"\n\"word 'blck' not in vocabulary\"\n\"word 'alllllllllllllllllllllllllllllll' not in vocabulary\"\n\"word 'fukerssssssssssssssssssssssssssssssssssssssssssssssssssssssssssssssssssssssssssssssssssssssssssssssssssssss' not in vocabulary\"\n",
      "\"word 'wits' not in vocabulary\"\n\"word 'inflame' not in vocabulary\"\n",
      "\"word 'glorification' not in vocabulary\"\n\"word 'dipset' not in vocabulary\"\n\"word 'str8' not in vocabulary\"\n\"word 'cracka' not in vocabulary\"\n\"word 'scallywag' not in vocabulary\"\n",
      "\"word 'goddamh' not in vocabulary\"\n\"word 'catamorphism' not in vocabulary\"\n\"word 'propriety' not in vocabulary\"\n\"word 'incontrovertable' not in vocabulary\"\n\"word 'sniveling' not in vocabulary\"\n",
      "\"word 'kai00995' not in vocabulary\"\n",
      "\"word 'jundallaah' not in vocabulary\"\n",
      "\"word 'rickety' not in vocabulary\"\n\"word 'scurry' not in vocabulary\"\n\"word 'pests' not in vocabulary\"\n\"word 'oldruff' not in vocabulary\"\n",
      "\"word '\\xa0\\xa0' not in vocabulary\"\n\"word 'funkyflytalk' not in vocabulary\"\n\"word 'condescendingly' not in vocabulary\"\n",
      "\"word 'bigest' not in vocabulary\"\n\"word 'unsatisfied' not in vocabulary\"\n\"word 'bullcrap' not in vocabulary\"\n\"word '' not in vocabulary\"\n\"word '' not in vocabulary\"\n",
      "\"word 'tofaan' not in vocabulary\"\n\"word 'توفان' not in vocabulary\"\n\"word 'solarra' not in vocabulary\"\n",
      "\"word 'fagget' not in vocabulary\"\n",
      "\"word '' not in vocabulary\"\n\"word '' not in vocabulary\"\n\"word 'reportin' not in vocabulary\"\n",
      "\"word 'bushell' not in vocabulary\"\n\"word '*nothing*' not in vocabulary\"\n\"word 'wikihounded' not in vocabulary\"\n",
      "\"word 'coments' not in vocabulary\"\n\"word 'ky' not in vocabulary\"\n\"word 'neway' not in vocabulary\"\n\"word 'gaping' not in vocabulary\"\n\"word 'cheesy' not in vocabulary\"\n",
      "\"word 'defiant' not in vocabulary\"\n\"word 'merciless' not in vocabulary\"\n",
      "\"word 'dirtball' not in vocabulary\"\n\"word 'dirtball' not in vocabulary\"\n\"word '84k' not in vocabulary\"\n\"word 'mauled' not in vocabulary\"\n\"word 'obessesion' not in vocabulary\"\n",
      "\"word 'pantsget' not in vocabulary\"\n\"word 'semitism' not in vocabulary\"\n",
      "\"word 'aborigines' not in vocabulary\"\n\"word 'inbred' not in vocabulary\"\n\"word 'albino' not in vocabulary\"\n\"word 'pé' not in vocabulary\"\n\"word 'chinelo' not in vocabulary\"\n\"word 'grawp' not in vocabulary\"\n",
      "\"word 'aniwhat' not in vocabulary\"\n\"word 'crewamy' not in vocabulary\"\n\"word 'gayness' not in vocabulary\"\n\"word 'seriouslygay' not in vocabulary\"\n\"word 'motha' not in vocabulary\"\n\"word 'fuckawhat' not in vocabulary\"\n",
      "\"word 'selfu' not in vocabulary\"\n\"word 'assu' not in vocabulary\"\n\"word 'thnk' not in vocabulary\"\n",
      "\"word '' not in vocabulary\"\n",
      "\"word 'argie' not in vocabulary\"\n\"word 'vaild' not in vocabulary\"\n\"word 'slime' not in vocabulary\"\n\"word 'smeg' not in vocabulary\"\n\"word 'saturated' not in vocabulary\"\n",
      "\"word '⊕' not in vocabulary\"\n\"word 'burgler' not in vocabulary\"\n\"word 'eddits' not in vocabulary\"\n",
      "\"word 'cockblocker' not in vocabulary\"\n\"word 'subspicies' not in vocabulary\"\n\"word 'spitefulness' not in vocabulary\"\n\"word 'stimulating' not in vocabulary\"\n\"word 'acquiring' not in vocabulary\"\n",
      "\"word 'nonmuslim' not in vocabulary\"\n\"word 'referenceing' not in vocabulary\"\n\"word 'moongod' not in vocabulary\"\n\"word 'beforehmm' not in vocabulary\"\n",
      "\"word 'womantheir' not in vocabulary\"\n",
      "\"word 'sanitized' not in vocabulary\"\n\"word 'information>>>>>>>>>>' not in vocabulary\"\n\"word 'a***es' not in vocabulary\"\n\"word 'wwwaccessmylibrarycom' not in vocabulary\"\n\"word '' not in vocabulary\"\n",
      "\"word 'jig' not in vocabulary\"\n\"word 'sleeper' not in vocabulary\"\n\"word 'provocateur' not in vocabulary\"\n\"word 'dikkkkk' not in vocabulary\"\n\"word 'blowjobs' not in vocabulary\"\n",
      "\"word 'bracey' not in vocabulary\"\n\"word 'cockface' not in vocabulary\"\n\"word 'bohemian' not in vocabulary\"\n",
      "\"word 'seddon' not in vocabulary\"\n\"word 'ducking' not in vocabulary\"\n\"word 'stool' not in vocabulary\"\n",
      "\"word 'anhero' not in vocabulary\"\n\"word 'bleachanhero' not in vocabulary\"\n\"word 'bleachanhero' not in vocabulary\"\n\"word 'bleachanhero' not in vocabulary\"\n\"word 'bleachanhero' not in vocabulary\"\n\"word 'bleachanhero' not in vocabulary\"\n\"word 'bleachanhero' not in vocabulary\"\n\"word 'bleachanhero' not in vocabulary\"\n\"word 'bleachanhero' not in vocabulary\"\n\"word 'bleachanhero' not in vocabulary\"\n\"word 'bleachanhero' not in vocabulary\"\n\"word 'bleachanhero' not in vocabulary\"\n\"word 'bleachanhero' not in vocabulary\"\n\"word 'bleachanhero' not in vocabulary\"\n\"word 'bleachanhero' not in vocabulary\"\n\"word 'bleachanhero' not in vocabulary\"\n\"word 'bleachanhero' not in vocabulary\"\n\"word 'bleachanhero' not in vocabulary\"\n\"word 'bleachanhero' not in vocabulary\"\n\"word 'bleachanhero' not in vocabulary\"\n\"word 'bleachanhero' not in vocabulary\"\n\"word 'bleachanhero' not in vocabulary\"\n\"word 'bleachanhero' not in vocabulary\"\n\"word 'bleachanhero' not in vocabulary\"\n\"word 'bleachanhero' not in vocabulary\"\n\"word 'bleachanhero' not in vocabulary\"\n\"word 'bleachanhero' not in vocabulary\"\n\"word 'bleachanhero' not in vocabulary\"\n\"word 'bleachanhero' not in vocabulary\"\n\"word 'bleachanhero' not in vocabulary\"\n\"word 'bleachanhero' not in vocabulary\"\n\"word 'bleachanhero' not in vocabulary\"\n\"word 'bleachanhero' not in vocabulary\"\n\"word 'bleachanhero' not in vocabulary\"\n\"word 'bleachanhero' not in vocabulary\"\n\"word 'bleachanhero' not in vocabulary\"\n\"word 'bleachanhero' not in vocabulary\"\n\"word 'bleachanhero' not in vocabulary\"\n\"word 'bleachanhero' not in vocabulary\"\n\"word 'bleachanhero' not in vocabulary\"\n\"word 'bleachanhero' not in vocabulary\"\n\"word 'bleachanhero' not in vocabulary\"\n\"word 'bleachanhero' not in vocabulary\"\n\"word 'bleachanhero' not in vocabulary\"\n\"word 'bleachanhero' not in vocabulary\"\n\"word 'bleachanhero' not in vocabulary\"\n\"word 'bleachanhero' not in vocabulary\"\n\"word 'bleachanhero' not in vocabulary\"\n\"word 'bleachanhero' not in vocabulary\"\n\"word 'bleachanhero' not in vocabulary\"\n\"word 'bleachanhero' not in vocabulary\"\n\"word 'bleachanhero' not in vocabulary\"\n",
      "\"word 'bleachanhero' not in vocabulary\"\n\"word 'bleachanhero' not in vocabulary\"\n\"word 'bleachanhero' not in vocabulary\"\n\"word 'bleachanhero' not in vocabulary\"\n\"word 'bleachanhero' not in vocabulary\"\n\"word 'bleachanhero' not in vocabulary\"\n\"word 'bleachanhero' not in vocabulary\"\n\"word 'bleachanhero' not in vocabulary\"\n\"word 'bleachanhero' not in vocabulary\"\n\"word 'bleachanhero' not in vocabulary\"\n\"word 'bleachanhero' not in vocabulary\"\n\"word 'bleachanhero' not in vocabulary\"\n\"word 'bleachanhero' not in vocabulary\"\n\"word 'bleachanhero' not in vocabulary\"\n\"word 'bleachanhero' not in vocabulary\"\n\"word 'bleachanhero' not in vocabulary\"\n\"word 'bleachanhero' not in vocabulary\"\n\"word 'bleachanhero' not in vocabulary\"\n\"word 'bleachanhero' not in vocabulary\"\n\"word 'bleachanhero' not in vocabulary\"\n\"word 'bleachanhero' not in vocabulary\"\n\"word 'bleachanhero' not in vocabulary\"\n\"word 'bleachanhero' not in vocabulary\"\n",
      "\"word 'bleachanhero' not in vocabulary\"\n\"word 'bleachanhero' not in vocabulary\"\n\"word 'bleachanhero' not in vocabulary\"\n\"word 'bleac' not in vocabulary\"\n",
      "\"word 'sycophantic' not in vocabulary\"\n\"word '' not in vocabulary\"\n\"word '' not in vocabulary\"\n\"word '' not in vocabulary\"\n\"word '' not in vocabulary\"\n",
      "\"word 'tootles' not in vocabulary\"\n\"word '' not in vocabulary\"\n\"word '' not in vocabulary\"\n",
      "\"word 'numbskull' not in vocabulary\"\n",
      "\"word 'bestfrozen' not in vocabulary\"\n\"word 'bestfrozen' not in vocabulary\"\n\"word 'bestfrozen' not in vocabulary\"\n\"word 'bestfrozen' not in vocabulary\"\n\"word 'bestfrozen' not in vocabulary\"\n\"word 'bestfrozen' not in vocabulary\"\n\"word 'bestfrozen' not in vocabulary\"\n\"word 'bestfrozen' not in vocabulary\"\n\"word 'bestfrozen' not in vocabulary\"\n\"word 'bestfrozen' not in vocabulary\"\n\"word 'bestfrozen' not in vocabulary\"\n\"word 'bestfrozen' not in vocabulary\"\n\"word 'bestfrozen' not in vocabulary\"\n\"word 'bestfrozen' not in vocabulary\"\n\"word 'bestfrozen' not in vocabulary\"\n\"word 'bestfrozen' not in vocabulary\"\n\"word 'bestfrozen' not in vocabulary\"\n\"word 'bestfrozen' not in vocabulary\"\n\"word 'bestfrozen' not in vocabulary\"\n\"word 'bestfrozen' not in vocabulary\"\n\"word 'bestfrozen' not in vocabulary\"\n\"word 'bestfrozen' not in vocabulary\"\n\"word 'bestfrozen' not in vocabulary\"\n\"word 'bestfrozen' not in vocabulary\"\n\"word 'bestfrozen' not in vocabulary\"\n\"word 'bestfrozen' not in vocabulary\"\n\"word 'bestfrozen' not in vocabulary\"\n\"word 'bestfrozen' not in vocabulary\"\n",
      "\"word 'bestfrozen' not in vocabulary\"\n\"word 'bestfrozen' not in vocabulary\"\n\"word 'bestfrozen' not in vocabulary\"\n\"word 'bestfrozen' not in vocabulary\"\n\"word 'bestfrozen' not in vocabulary\"\n\"word 'bestfrozen' not in vocabulary\"\n\"word 'bestfrozen' not in vocabulary\"\n\"word 'bestfrozen' not in vocabulary\"\n\"word 'bestfrozen' not in vocabulary\"\n\"word 'bestfrozen' not in vocabulary\"\n\"word 'bestfrozen' not in vocabulary\"\n",
      "\"word 'bestfrozen' not in vocabulary\"\n\"word 'bestfrozen' not in vocabulary\"\n\"word 'bestfrozen' not in vocabulary\"\n\"word 'bestfrozen' not in vocabulary\"\n",
      "\"word 'taker' not in vocabulary\"\n\"word 'troling' not in vocabulary\"\n\"word 'agancies' not in vocabulary\"\n\"word 'gabrielf' not in vocabulary\"\n\"word 'stfuithin' not in vocabulary\"\n",
      "\"word 'ammo' not in vocabulary\"\n\"word 'compartment' not in vocabulary\"\n\"word 'panels' not in vocabulary\"\n\"word 'evilamoeba' not in vocabulary\"\n",
      "\"word 'copyviolations' not in vocabulary\"\n\"word 'vmongo' not in vocabulary\"\n\"word 'neocon' not in vocabulary\"\n\"word 'arseholes' not in vocabulary\"\n\"word 'tarnished' not in vocabulary\"\n\"word 'vaporisation' not in vocabulary\"\n",
      "\"word 'verdy' not in vocabulary\"\n",
      "\"word 'reeks' not in vocabulary\"\n\"word 'killers1' not in vocabulary\"\n\"word 'woodysgamertag' not in vocabulary\"\n",
      "\"word 'dalkaen' not in vocabulary\"\n",
      "\"word 'monstor' not in vocabulary\"\n\"word 'bkonrad' not in vocabulary\"\n",
      "\"word 'fut' not in vocabulary\"\n\"word 'a**hole' not in vocabulary\"\n",
      "\"word 'taunt' not in vocabulary\"\n\"word 'fings' not in vocabulary\"\n\"word 'kinghy' not in vocabulary\"\n",
      "\"word 'd**n' not in vocabulary\"\n\"word 'motherf***in' not in vocabulary\"\n\"word 'd**n' not in vocabulary\"\n\"word 'd**n' not in vocabulary\"\n\"word 'c**t' not in vocabulary\"\n\"word 'b**ch' not in vocabulary\"\n",
      "\"word 'enemas' not in vocabulary\"\n\"word 'bestworst' not in vocabulary\"\n\"word 'egotrip' not in vocabulary\"\n\"word 'conceive' not in vocabulary\"\n",
      "\"word 'pygmy' not in vocabulary\"\n\"word 'pygmy' not in vocabulary\"\n",
      "\"word 'exterminator' not in vocabulary\"\n\"word 'zest' not in vocabulary\"\n\"word 'annihilating' not in vocabulary\"\n",
      "\"word 'marcolfuck' not in vocabulary\"\n\"word 'marcolfuck' not in vocabulary\"\n\"word 'marcolfuck' not in vocabulary\"\n\"word 'marcolfuck' not in vocabulary\"\n\"word 'marcolfuck' not in vocabulary\"\n\"word 'marcolfuck' not in vocabulary\"\n\"word 'marcolfuck' not in vocabulary\"\n\"word 'marcolfuck' not in vocabulary\"\n\"word 'marcolfuck' not in vocabulary\"\n\"word 'marcolfuck' not in vocabulary\"\n\"word 'marcolfuck' not in vocabulary\"\n\"word 'marcolfuck' not in vocabulary\"\n\"word 'marcolfuck' not in vocabulary\"\n\"word 'marcolfuck' not in vocabulary\"\n\"word 'marcolfuck' not in vocabulary\"\n\"word 'marcolfuck' not in vocabulary\"\n\"word 'marcolfuck' not in vocabulary\"\n\"word 'marcolfuck' not in vocabulary\"\n\"word 'marcolfuck' not in vocabulary\"\n\"word 'marcolfuck' not in vocabulary\"\n\"word 'marcolfuck' not in vocabulary\"\n\"word 'marcolfuck' not in vocabulary\"\n\"word 'marcolfuck' not in vocabulary\"\n\"word 'marcolfuck' not in vocabulary\"\n\"word 'marcolfuck' not in vocabulary\"\n\"word 'marcolfuck' not in vocabulary\"\n\"word 'marcolfuck' not in vocabulary\"\n\"word 'marcolfuck' not in vocabulary\"\n\"word 'marcolfuck' not in vocabulary\"\n\"word 'marcolfuck' not in vocabulary\"\n\"word 'marcolfuck' not in vocabulary\"\n\"word 'marcolfuck' not in vocabulary\"\n\"word 'marcolfuck' not in vocabulary\"\n\"word 'marcolfuck' not in vocabulary\"\n\"word 'marcolfuck' not in vocabulary\"\n\"word 'marcolfuck' not in vocabulary\"\n\"word 'marcolfuck' not in vocabulary\"\n\"word 'marcolfuck' not in vocabulary\"\n\"word 'marcolfuck' not in vocabulary\"\n\"word 'marcolfuck' not in vocabulary\"\n\"word 'marcolfuck' not in vocabulary\"\n\"word 'marcolfuck' not in vocabulary\"\n\"word 'marcolfuck' not in vocabulary\"\n\"word 'marcolfuck' not in vocabulary\"\n\"word 'marcolfuck' not in vocabulary\"\n\"word 'marcolfuck' not in vocabulary\"\n\"word 'marcolfuck' not in vocabulary\"\n\"word 'marcolfuck' not in vocabulary\"\n\"word 'marcolfuck' not in vocabulary\"\n\"word 'marcolfuck' not in vocabulary\"\n\"word 'marcolfuck' not in vocabulary\"\n\"word 'marcolfuck' not in vocabulary\"\n",
      "\"word 'marcolfuck' not in vocabulary\"\n\"word 'marcolfuck' not in vocabulary\"\n\"word 'marcolfuck' not in vocabulary\"\n\"word 'marcolfuck' not in vocabulary\"\n\"word 'marcolfuck' not in vocabulary\"\n\"word 'marcolfuck' not in vocabulary\"\n\"word 'marcolfuck' not in vocabulary\"\n\"word 'marcolfuck' not in vocabulary\"\n\"word 'marcolfuck' not in vocabulary\"\n\"word 'marcolfuck' not in vocabulary\"\n\"word 'marcolfuck' not in vocabulary\"\n\"word 'marcolfuck' not in vocabulary\"\n\"word 'marcolfuck' not in vocabulary\"\n\"word 'marcolfuck' not in vocabulary\"\n\"word 'marcolfuck' not in vocabulary\"\n\"word 'marcolfuck' not in vocabulary\"\n\"word 'marcolfuck' not in vocabulary\"\n\"word 'marcolfuck' not in vocabulary\"\n\"word 'marcolfuck' not in vocabulary\"\n\"word 'marcolfuck' not in vocabulary\"\n\"word 'marcolfuck' not in vocabulary\"\n\"word 'marcolfuck' not in vocabulary\"\n\"word 'marcolfuck' not in vocabulary\"\n\"word 'marcolfuck' not in vocabulary\"\n\"word 'marcolfuck' not in vocabulary\"\n\"word 'marcolfuck' not in vocabulary\"\n\"word 'marcolfuck' not in vocabulary\"\n\"word 'marcolfuck' not in vocabulary\"\n\"word 'marcolfuck' not in vocabulary\"\n\"word 'marcolfuck' not in vocabulary\"\n\"word 'marcolfuck' not in vocabulary\"\n\"word 'marcolfuck' not in vocabulary\"\n\"word 'marcolfuck' not in vocabulary\"\n\"word 'marcolfuck' not in vocabulary\"\n\"word 'marcolfuck' not in vocabulary\"\n\"word 'marcolfuck' not in vocabulary\"\n\"word 'marcolfuck' not in vocabulary\"\n\"word 'marcolfuck' not in vocabulary\"\n\"word 'marcolfuck' not in vocabulary\"\n\"word 'marcolfuck' not in vocabulary\"\n\"word 'marcolfuck' not in vocabulary\"\n\"word 'marcolfuck' not in vocabulary\"\n\"word 'marcolfuck' not in vocabulary\"\n\"word 'marcolfuck' not in vocabulary\"\n\"word 'marcolfuck' not in vocabulary\"\n\"word 'marcolfuck' not in vocabulary\"\n\"word 'marcolfuck' not in vocabulary\"\n\"word 'marcolfuck' not in vocabulary\"\n\"word 'marcolfuck' not in vocabulary\"\n\"word 'marcolfuck' not in vocabulary\"\n\"word 'marcolfuck' not in vocabulary\"\n\"word 'marcolfuck' not in vocabulary\"\n\"word 'marcolfuck' not in vocabulary\"\n\"word 'marcolfuck' not in vocabulary\"\n\"word 'marcolfuck' not in vocabulary\"\n\"word 'marcolfuck' not in vocabulary\"\n",
      "\"word 'marcolfuck' not in vocabulary\"\n\"word 'marcolfuck' not in vocabulary\"\n\"word 'marcolfuck' not in vocabulary\"\n\"word 'marcolfuck' not in vocabulary\"\n\"word 'marcolfuck' not in vocabulary\"\n\"word 'marcolfuck' not in vocabulary\"\n\"word 'marcolfuck' not in vocabulary\"\n\"word 'marcolfuck' not in vocabulary\"\n\"word 'marcolfuck' not in vocabulary\"\n\"word 'marcolfuck' not in vocabulary\"\n\"word 'marcolfuck' not in vocabulary\"\n\"word 'marcolfuck' not in vocabulary\"\n\"word 'marcolfuck' not in vocabulary\"\n\"word 'marcolfuck' not in vocabulary\"\n\"word 'marcolfuck' not in vocabulary\"\n\"word 'marcolfuck' not in vocabulary\"\n\"word 'marcolfuck' not in vocabulary\"\n\"word 'marcolfuck' not in vocabulary\"\n\"word 'marcolfuck' not in vocabulary\"\n\"word 'marcolfuck' not in vocabulary\"\n\"word 'marcolfuck' not in vocabulary\"\n\"word 'marcolfuck' not in vocabulary\"\n\"word 'marcolfuck' not in vocabulary\"\n\"word 'marcolfuck' not in vocabulary\"\n\"word 'marcolfuck' not in vocabulary\"\n\"word 'marcolfuck' not in vocabulary\"\n\"word 'marcolfuck' not in vocabulary\"\n\"word 'marcolfuck' not in vocabulary\"\n\"word 'marcolfuck' not in vocabulary\"\n\"word 'marcolfuck' not in vocabulary\"\n\"word 'marcolfuck' not in vocabulary\"\n\"word 'marcolfuck' not in vocabulary\"\n",
      "\"word 'marcolfuck' not in vocabulary\"\n\"word 'marcolfuck' not in vocabulary\"\n\"word 'marcolfuck' not in vocabulary\"\n\"word 'marcolfuck' not in vocabulary\"\n\"word 'marcolfuck' not in vocabulary\"\n",
      "\"word 'seminar' not in vocabulary\"\n\"word 'infiltration' not in vocabulary\"\n\"word 'whipped' not in vocabulary\"\n",
      "\"word 'johncd' not in vocabulary\"\n",
      "\"word 'openfutureboy' not in vocabulary\"\n\"word 'noses' not in vocabulary\"\n\"word 'lalith' not in vocabulary\"\n\"word 'kothalawala' not in vocabulary\"\n",
      "\"word 'cheater' not in vocabulary\"\n\"word '' not in vocabulary\"\n\"word '' not in vocabulary\"\n",
      "\"word 'motherfuckin' not in vocabulary\"\n\"word 'balked' not in vocabulary\"\n\"word 'sonofabitch' not in vocabulary\"\n\"word 'randva' not in vocabulary\"\n\"word 'sisterfucker' not in vocabulary\"\n\"word 'bhadva' not in vocabulary\"\n\"word '' not in vocabulary\"\n\"word 'sucka' not in vocabulary\"\n\"word 'bhadani' not in vocabulary\"\n\"word '' not in vocabulary\"\n\"word '' not in vocabulary\"\n\"word '' not in vocabulary\"\n\"word 'bhadva' not in vocabulary\"\n\"word '' not in vocabulary\"\n\"word 'bhadani' not in vocabulary\"\n\"word 'bhadva' not in vocabulary\"\n\"word 'bhadva' not in vocabulary\"\n\"word '' not in vocabulary\"\n\"word 'sook' not in vocabulary\"\n\"word 'sooks' not in vocabulary\"\n",
      "\"word 'kenta' not in vocabulary\"\n\"word 'kenta' not in vocabulary\"\n\"word 'fuking' not in vocabulary\"\n\"word '' not in vocabulary\"\n\"word 'unfree' not in vocabulary\"\n",
      "\"word 'evula' not in vocabulary\"\n\"word 'adeputs' not in vocabulary\"\n\"word '' not in vocabulary\"\n\"word 'warhammer' not in vocabulary\"\n",
      "\"word '' not in vocabulary\"\n\"word 'heater' not in vocabulary\"\n\"word '' not in vocabulary\"\n\"word 'pecker' not in vocabulary\"\n",
      "\"word 'nadu' not in vocabulary\"\n",
      "\"word 'yugo' not in vocabulary\"\n\"word '' not in vocabulary\"\n",
      "\"word 'bukhara' not in vocabulary\"\n\"word 'mutt' not in vocabulary\"\n\"word 'fravahrahura' not in vocabulary\"\n\"word 'mazda' not in vocabulary\"\n\"word 'khorasanafghanistan' not in vocabulary\"\n\"word 'modicum' not in vocabulary\"\n\"word 'yeki' not in vocabulary\"\n\"word 'sare' not in vocabulary\"\n\"word 'shakh' not in vocabulary\"\n",
      "\"word 'bricks' not in vocabulary\"\n\"word 'hive' not in vocabulary\"\n\"word 'safi' not in vocabulary\"\n\"word 'a**' not in vocabulary\"\n",
      "\"word 'kundad' not in vocabulary\"\n\"word 'friends845920275' not in vocabulary\"\n",
      "\"word 'etic' not in vocabulary\"\n\"word 'apologistic' not in vocabulary\"\n\"word 'retitled' not in vocabulary\"\n\"word '' not in vocabulary\"\n\"word '' not in vocabulary\"\n\"word '' not in vocabulary\"\n",
      "\"word 'excrement' not in vocabulary\"\n",
      "\"word '' not in vocabulary\"\n\"word 'meds' not in vocabulary\"\n",
      "\"word 'repertoire' not in vocabulary\"\n\"word 'pettiness' not in vocabulary\"\n",
      "\"word 'asswhipe' not in vocabulary\"\n",
      "\"word 'numbnuts' not in vocabulary\"\n\"word 'castrated' not in vocabulary\"\n\"word 'knickers' not in vocabulary\"\n\"word 'roflmao' not in vocabulary\"\n",
      "\"word 'mikhail' not in vocabulary\"\n\"word 'tolstykh' not in vocabulary\"\n",
      "\"word 'gabe' not in vocabulary\"\n",
      "\"word 'nag' not in vocabulary\"\n\"word 'burner' not in vocabulary\"\n",
      "\"word 'wegetarian' not in vocabulary\"\n\"word 'textyou' not in vocabulary\"\n\"word 'transexual' not in vocabulary\"\n",
      "\"word 'horney' not in vocabulary\"\n",
      "\"word 'expenstion' not in vocabulary\"\n\"word 'resion' not in vocabulary\"\n\"word 'gta4' not in vocabulary\"\n\"word 'carcer' not in vocabulary\"\n",
      "\"word 'decausa' not in vocabulary\"\n",
      "\"word 'cultists' not in vocabulary\"\n\"word 'palce' not in vocabulary\"\n",
      "\"word '' not in vocabulary\"\n",
      "\"word 'goad' not in vocabulary\"\n\"word 'youthis' not in vocabulary\"\n\"word 'comprimise' not in vocabulary\"\n\"word 'ase' not in vocabulary\"\n\"word 'unthinkably' not in vocabulary\"\n\"word 'internetor' not in vocabulary\"\n\"word '' not in vocabulary\"\n",
      "\"word 'enwikipediaorg' not in vocabulary\"\n",
      "\"word '500px' not in vocabulary\"\n\"word 'bawbag' not in vocabulary\"\n\"word 'moaning' not in vocabulary\"\n\"word 'hoods' not in vocabulary\"\n",
      "\"word 'ik' not in vocabulary\"\n\"word 'spel' not in vocabulary\"\n\"word '' not in vocabulary\"\n",
      "\"word '' not in vocabulary\"\n\"word 'ultraliberal' not in vocabulary\"\n\"word 'hypocracy' not in vocabulary\"\n\"word 'golbalist' not in vocabulary\"\n",
      "\"word 'paaerduag;' not in vocabulary\"\n\"word 'hypocrit' not in vocabulary\"\n\"word 'headstrong' not in vocabulary\"\n\"word 'gush' not in vocabulary\"\n\"word 'kiran90' not in vocabulary\"\n",
      "\"word 'chk' not in vocabulary\"\n\"word 'myoperacom' not in vocabulary\"\n\"word 'gujjar' not in vocabulary\"\n\"word 'badgujjar' not in vocabulary\"\n\"word 'rajputwhy' not in vocabulary\"\n\"word 'suckdickeer' not in vocabulary\"\n\"word 'badgujjars' not in vocabulary\"\n\"word 'raghav' not in vocabulary\"\n\"word 'ebadgujarcom' not in vocabulary\"\n\"word 'historyhtml' not in vocabulary\"\n\"word 'enwikipediaorg' not in vocabulary\"\n\"word 'spacemanspiff' not in vocabulary\"\n\"word 'balsack' not in vocabulary\"\n\"word 'exicution' not in vocabulary\"\n\"word 'shawtnegger' not in vocabulary\"\n\"word 'murdera' not in vocabulary\"\n",
      "\"word '' not in vocabulary\"\n\"word 'populate' not in vocabulary\"\n",
      "\"word 'notrhbysouthbanof' not in vocabulary\"\n\"word 'notrhbysouthbanof' not in vocabulary\"\n\"word 'notrhbysouthbanof' not in vocabulary\"\n\"word 'notrhbysouthbanof' not in vocabulary\"\n\"word 'notrhbysouthbanof' not in vocabulary\"\n\"word 'notrhbysouthbanof' not in vocabulary\"\n\"word 'notrhbysouthbanof' not in vocabulary\"\n\"word 'notrhbysouthbanof' not in vocabulary\"\n\"word 'bradbury' not in vocabulary\"\n\"word 'notrhbysouthbanof' not in vocabulary\"\n\"word 'notrhbysouthbanof' not in vocabulary\"\n\"word 'notrhbysouthbanof' not in vocabulary\"\n\"word 'notrhbysouthbanof' not in vocabulary\"\n\"word 'notrhbysouthbanof' not in vocabulary\"\n\"word 'notrhbysouthbanof' not in vocabulary\"\n\"word 'notrhbysouthbanof' not in vocabulary\"\n\"word 'notrhbysouthbanof' not in vocabulary\"\n\"word 'notrhbysouthbanof' not in vocabulary\"\n\"word 'notrhbysouthbanof' not in vocabulary\"\n\"word 'notrhbysouthbanof' not in vocabulary\"\n\"word 'notrhbysouthbanof' not in vocabulary\"\n\"word 'notrhbysouthbanof' not in vocabulary\"\n\"word 'notrhbysouthbanof' not in vocabulary\"\n\"word 'notrhbysouthbanof' not in vocabulary\"\n\"word 'notrhbysouthbanof' not in vocabulary\"\n\"word 'notrhbysouthbanof' not in vocabulary\"\n\"word 'notrhbysouthbanof' not in vocabulary\"\n\"word 'notrhbysouthbanof' not in vocabulary\"\n\"word 'notrhbysouthbanof' not in vocabulary\"\n\"word 'notrhbysouthbanof' not in vocabulary\"\n\"word 'notrhbysouthbanof' not in vocabulary\"\n\"word 'notrhbysouthbanof' not in vocabulary\"\n\"word 'notrhbysouthbanof' not in vocabulary\"\n\"word 'notrhbysouthbanof' not in vocabulary\"\n\"word 'bradbury' not in vocabulary\"\n\"word 'notrhbysouthbanof' not in vocabulary\"\n\"word 'notrhbysouthbanof' not in vocabulary\"\n\"word 'notrhbysouthbanof' not in vocabulary\"\n\"word 'notrhbysouthbanof' not in vocabulary\"\n\"word 'notrhbysouthbanof' not in vocabulary\"\n\"word 'notrhbysouthbanof' not in vocabulary\"\n",
      "\"word 'notrhbysouthbanof' not in vocabulary\"\n\"word 'notrhbysouthbanof' not in vocabulary\"\n\"word 'notrhbysouthbanof' not in vocabulary\"\n\"word 'notrhbysouthbanof' not in vocabulary\"\n\"word 'notrhbysouthbanof' not in vocabulary\"\n\"word 'notrhbysouthbanof' not in vocabulary\"\n\"word 'bradbury' not in vocabulary\"\n",
      "\"word 'vanadalism' not in vocabulary\"\n\"word 'spray' not in vocabulary\"\n",
      "\"word 'pea' not in vocabulary\"\n\"word 'yanks' not in vocabulary\"\n",
      "\"word 'lik' not in vocabulary\"\n\"word 'sunflower' not in vocabulary\"\n\"word 'sunflower' not in vocabulary\"\n\"word 'samurai' not in vocabulary\"\n\"word 'champloo' not in vocabulary\"\n\"word 'sunflower' not in vocabulary\"\n\"word 'sunflowers' not in vocabulary\"\n\"word 'dominates' not in vocabulary\"\n\"word 'samurai' not in vocabulary\"\n\"word 'sunflowers' not in vocabulary\"\n\"word 'heliotropic' not in vocabulary\"\n\"word 'warmer' not in vocabulary\"\n\"word 'pollinating' not in vocabulary\"\n\"word 'synergycom' not in vocabulary\"\n\"word 'sunflower' not in vocabulary\"\n\"word 'heliotropism' not in vocabulary\"\n\"word 'rudimentary' not in vocabulary\"\n\"word 'alpine' not in vocabulary\"\n\"word 'pizarro' not in vocabulary\"\n\"word 'cultivated' not in vocabulary\"\n",
      "\"word 'libstar' not in vocabulary\"\n",
      "\"word 'caressing' not in vocabulary\"\n\"word 'oooo' not in vocabulary\"\n\"word 'cumming' not in vocabulary\"\n\"word 'squeezing' not in vocabulary\"\n\"word '' not in vocabulary\"\n\"word 'ahhahahah' not in vocabulary\"\n\"word 'tiddly' not in vocabulary\"\n\"word 'hahahahahahahahahahahahahahahaha' not in vocabulary\"\n",
      "\"word 'spartaz' not in vocabulary\"\n\"word 'devolved' not in vocabulary\"\n\"word 'complying' not in vocabulary\"\n\"word 'consistenet' not in vocabulary\"\n\"word 'grissom' not in vocabulary\"\n",
      "\"word 'meridian' not in vocabulary\"\n\"word 'napier' not in vocabulary\"\n\"word 'fukka' not in vocabulary\"\n",
      "\"word 'unlucky' not in vocabulary\"\n\"word 'guess;' not in vocabulary\"\n",
      "\"word 'cursei' not in vocabulary\"\n\"word 'curseit' not in vocabulary\"\n\"word 'heckin' not in vocabulary\"\n\"word 'heare' not in vocabulary\"\n",
      "\"word '~~theblacklarl' not in vocabulary\"\n\"word '' not in vocabulary\"\n"
     ],
     "output_type": "stream"
    }
   ],
   "source": [
    "BOOSTING_CLASSIFIER_COUNT=100\n",
    "\n",
    "# \n",
    "# skeleton.classify([\n",
    "#     clfs.AdaBoostSVM(n_estimators=2),\n",
    "#     clfs.AdaBoostNaiveBayes(n_estimators=10),\n",
    "#     clfs.AdaBoostNaiveBayes(n_estimators=20),\n",
    "#     clfs.AdaBoostDecisionTree(n_estimators=20),\n",
    "#     clfs.DecisionTree(),\n",
    "#     clfs.NaiveBayes(),\n",
    "#     clfs.AveragingEstimator(),\n",
    "#     clfs.SVM(),\n",
    "#     \n",
    "# ])    \n",
    "# \n",
    "# skeleton.save_progress(\"progress.txt\")\n",
    "word2vec_model=embeddings.EmbeddingAugmentation(load_path=\"./word2vec/word2vec.model\")\n",
    "word2vec_model.populate(\"toxic\",samples,6000,20)"
   ]
  },
  {
   "cell_type": "code",
   "execution_count": 6,
   "metadata": {
    "pycharm": {
     "name": "#%%\n",
     "is_executing": false
    }
   },
   "outputs": [
    {
     "data": {
      "text/plain": "                    id                                       comment_text  \\\n0     918747ca1ebc96c8                                   shut the hell up   \n1     9249d906a8e5a8ad  and then we would have to believe that the eng...   \n2     0512f33cf8807fa2  aaron swartz stop fucking reverting my goddamn...   \n3     67bf11045c1f1453          up yours you authoritarian little hitlers   \n4     d36d6b135a4e2541  you know what acroterion you can go fuck yours...   \n...                ...                                                ...   \n2996  57bea1d837f085fa  hey fucking pig hey fucking pig of a bully; i ...   \n2997  835ae075e5d44a3b  ricky81682 is a paid mole scumbag there is no ...   \n2998  8b3212f40c51abaa  im the bane of your existence hey gaashoo i am...   \n2999  03dd90664e855020  listen up you narrow eyed teacher living on mi...   \n3000                 0                                          adsasdads   \n\n      toxic  severe_toxic  obscene  threat  insult  identity_hate  \n0         1           0.0      0.0     0.0     0.0            0.0  \n1         1           0.0      0.0     0.0     0.0            0.0  \n2         1           0.0      1.0     1.0     1.0            1.0  \n3         1           0.0      0.0     0.0     0.0            0.0  \n4         1           1.0      1.0     0.0     1.0            1.0  \n...     ...           ...      ...     ...     ...            ...  \n2996      1           1.0      1.0     0.0     1.0            0.0  \n2997      1           0.0      1.0     0.0     1.0            0.0  \n2998      1           0.0      0.0     0.0     0.0            0.0  \n2999      1           0.0      0.0     0.0     0.0            0.0  \n3000      1           NaN      NaN     NaN     NaN            NaN  \n\n[3001 rows x 8 columns]",
      "text/html": "<div>\n<style scoped>\n    .dataframe tbody tr th:only-of-type {\n        vertical-align: middle;\n    }\n\n    .dataframe tbody tr th {\n        vertical-align: top;\n    }\n\n    .dataframe thead th {\n        text-align: right;\n    }\n</style>\n<table border=\"1\" class=\"dataframe\">\n  <thead>\n    <tr style=\"text-align: right;\">\n      <th></th>\n      <th>id</th>\n      <th>comment_text</th>\n      <th>toxic</th>\n      <th>severe_toxic</th>\n      <th>obscene</th>\n      <th>threat</th>\n      <th>insult</th>\n      <th>identity_hate</th>\n    </tr>\n  </thead>\n  <tbody>\n    <tr>\n      <th>0</th>\n      <td>918747ca1ebc96c8</td>\n      <td>shut the hell up</td>\n      <td>1</td>\n      <td>0.0</td>\n      <td>0.0</td>\n      <td>0.0</td>\n      <td>0.0</td>\n      <td>0.0</td>\n    </tr>\n    <tr>\n      <th>1</th>\n      <td>9249d906a8e5a8ad</td>\n      <td>and then we would have to believe that the eng...</td>\n      <td>1</td>\n      <td>0.0</td>\n      <td>0.0</td>\n      <td>0.0</td>\n      <td>0.0</td>\n      <td>0.0</td>\n    </tr>\n    <tr>\n      <th>2</th>\n      <td>0512f33cf8807fa2</td>\n      <td>aaron swartz stop fucking reverting my goddamn...</td>\n      <td>1</td>\n      <td>0.0</td>\n      <td>1.0</td>\n      <td>1.0</td>\n      <td>1.0</td>\n      <td>1.0</td>\n    </tr>\n    <tr>\n      <th>3</th>\n      <td>67bf11045c1f1453</td>\n      <td>up yours you authoritarian little hitlers</td>\n      <td>1</td>\n      <td>0.0</td>\n      <td>0.0</td>\n      <td>0.0</td>\n      <td>0.0</td>\n      <td>0.0</td>\n    </tr>\n    <tr>\n      <th>4</th>\n      <td>d36d6b135a4e2541</td>\n      <td>you know what acroterion you can go fuck yours...</td>\n      <td>1</td>\n      <td>1.0</td>\n      <td>1.0</td>\n      <td>0.0</td>\n      <td>1.0</td>\n      <td>1.0</td>\n    </tr>\n    <tr>\n      <th>...</th>\n      <td>...</td>\n      <td>...</td>\n      <td>...</td>\n      <td>...</td>\n      <td>...</td>\n      <td>...</td>\n      <td>...</td>\n      <td>...</td>\n    </tr>\n    <tr>\n      <th>2996</th>\n      <td>57bea1d837f085fa</td>\n      <td>hey fucking pig hey fucking pig of a bully; i ...</td>\n      <td>1</td>\n      <td>1.0</td>\n      <td>1.0</td>\n      <td>0.0</td>\n      <td>1.0</td>\n      <td>0.0</td>\n    </tr>\n    <tr>\n      <th>2997</th>\n      <td>835ae075e5d44a3b</td>\n      <td>ricky81682 is a paid mole scumbag there is no ...</td>\n      <td>1</td>\n      <td>0.0</td>\n      <td>1.0</td>\n      <td>0.0</td>\n      <td>1.0</td>\n      <td>0.0</td>\n    </tr>\n    <tr>\n      <th>2998</th>\n      <td>8b3212f40c51abaa</td>\n      <td>im the bane of your existence hey gaashoo i am...</td>\n      <td>1</td>\n      <td>0.0</td>\n      <td>0.0</td>\n      <td>0.0</td>\n      <td>0.0</td>\n      <td>0.0</td>\n    </tr>\n    <tr>\n      <th>2999</th>\n      <td>03dd90664e855020</td>\n      <td>listen up you narrow eyed teacher living on mi...</td>\n      <td>1</td>\n      <td>0.0</td>\n      <td>0.0</td>\n      <td>0.0</td>\n      <td>0.0</td>\n      <td>0.0</td>\n    </tr>\n    <tr>\n      <th>3000</th>\n      <td>0</td>\n      <td>adsasdads</td>\n      <td>1</td>\n      <td>NaN</td>\n      <td>NaN</td>\n      <td>NaN</td>\n      <td>NaN</td>\n      <td>NaN</td>\n    </tr>\n  </tbody>\n</table>\n<p>3001 rows × 8 columns</p>\n</div>"
     },
     "metadata": {},
     "output_type": "execute_result",
     "execution_count": 6
    }
   ],
   "source": [
    "\n",
    "df=samples['toxic'].append({'id':0,'comment_text':\"adsasdads\",'toxic':1},ignore_index=True)\n",
    "df"
   ]
  }
 ],
 "metadata": {
  "kernelspec": {
   "display_name": "Python 3",
   "language": "python",
   "name": "python3"
  },
  "language_info": {
   "codemirror_mode": {
    "name": "ipython",
    "version": 3
   },
   "file_extension": ".py",
   "mimetype": "text/x-python",
   "name": "python",
   "nbconvert_exporter": "python",
   "pygments_lexer": "ipython3",
   "version": "3.7.0"
  },
  "pycharm": {
   "stem_cell": {
    "cell_type": "raw",
    "source": [],
    "metadata": {
     "collapsed": false
    }
   }
  }
 },
 "nbformat": 4,
 "nbformat_minor": 1
}