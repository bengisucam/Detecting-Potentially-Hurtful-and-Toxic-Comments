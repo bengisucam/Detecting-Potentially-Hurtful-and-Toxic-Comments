{
 "cells": [
  {
   "cell_type": "code",
   "execution_count": 1,
   "metadata": {
    "pycharm": {
     "is_executing": false,
     "name": "#%%\n"
    }
   },
   "outputs": [],
   "source": [
    "import pandas as pd\n",
    "from packages.text.textutilities import *\n",
    "from packages.text.skeleton import Skeleton\n",
    "import packages.classification.classifier as clfs\n",
    "import packages.augmentation.embedding as embeddings\n",
    "pd.set_option('mode.chained_assignment', None)\n",
    "\n",
    "categories=['toxic','severe_toxic','obscene','threat','insult','identity_hate','clean']\n",
    "random_state=20"
   ]
  },
  {
   "cell_type": "code",
   "execution_count": 2,
   "metadata": {
    "pycharm": {
     "is_executing": false,
     "name": "#%%\n"
    }
   },
   "outputs": [
    {
     "name": "stdout",
     "text": [
      "[Step 1/2   Cleaning data...]\n",
      "[Step 2/2   Sampling data...]\nSample 1: \nhow would you suggest it be split i agree it pretty long but how would you suggest it be split phightins\nSample 2: \nbut please stop calling yourselves an encyclopedia and just tell everyone you re a pr firm for the far right wing\nSample 3: \ncalapone do not get bullied by a psychopath the youtube clip is not yours it is croatian radiotelevision footage and as such can be considered a secondary source direktor rants are just a feeble attempt at disguising that all he has is his own opinion there is not a single source on this planet that can prove that the coa in question was not used in official capacity cheers talk\nSample 4: \nmarch  utc consensus building tell that to spot he is the one who has repeatably acted alone against the consensus that has been established on the discussion page this is what makes wikipedia so frustrating a perfected example of action being taken without knowing the facts\nSkeleton build is done!\n"
     ],
     "output_type": "stream"
    }
   ],
   "source": [
    "\"\"\"\n",
    "Build a skeleton framework to ease up workflow\n",
    "\"\"\"\n",
    "skeleton=Skeleton(categories,random_state)\n",
    "skeleton.build([\n",
    "    TextCleaner(),\n",
    "    Sampler()\n",
    "    # Trimmer(threshold=12)\n",
    "],df_path='./Data/train.csv')"
   ]
  },
  {
   "cell_type": "code",
   "execution_count": 3,
   "outputs": [
    {
     "name": "stdout",
     "text": [
      "toxic\nsevere_toxic\nobscene\nthreat\ninsult\nidentity_hate\n"
     ],
     "output_type": "stream"
    },
    {
     "data": {
      "text/plain": "'toxic: 15294 samples\\nsevere_toxic: 1595 samples\\nobscene: 8449 samples\\nthreat: 478 samples\\ninsult: 7877 samples\\nidentity_hate: 1405 samples\\n'"
     },
     "metadata": {},
     "output_type": "execute_result",
     "execution_count": 3
    }
   ],
   "source": [
    "skeleton.info()"
   ],
   "metadata": {
    "collapsed": false,
    "pycharm": {
     "name": "#%%\n",
     "is_executing": false
    }
   }
  },
  {
   "cell_type": "code",
   "execution_count": 4,
   "outputs": [
    {
     "data": {
      "text/plain": "                      id                                       comment_text  \\\n152717  918747ca1ebc96c8                                   shut the hell up   \n123059  9249d906a8e5a8ad  and then we would have to believe that the eng...   \n1878    0512f33cf8807fa2  aaron swartz stop fucking reverting my goddamn...   \n38875   67bf11045c1f1453          up yours you authoritarian little hitlers   \n79005   d36d6b135a4e2541  you know what acroterion you can go fuck yours...   \n...                  ...                                                ...   \n149086  56d57654c05bf031  more rubbish this page contains 0000001% of th...   \n112100  57bea1d837f085fa  hey fucking pig hey fucking pig of a bully; i ...   \n49132   835ae075e5d44a3b  ricky81682 is a paid mole scumbag there is no ...   \n52002   8b3212f40c51abaa  im the bane of your existence hey gaashoo i am...   \n1444    03dd90664e855020  listen up you narrow eyed teacher living on mi...   \n\n        toxic  severe_toxic  obscene  threat  insult  identity_hate  \n152717      1             0        0       0       0              0  \n123059      1             0        0       0       0              0  \n1878        1             0        1       1       1              1  \n38875       1             0        0       0       0              0  \n79005       1             1        1       0       1              1  \n...       ...           ...      ...     ...     ...            ...  \n149086      1             0        1       0       1              0  \n112100      1             1        1       0       1              0  \n49132       1             0        1       0       1              0  \n52002       1             0        0       0       0              0  \n1444        1             0        0       0       0              0  \n\n[3000 rows x 8 columns]",
      "text/html": "<div>\n<style scoped>\n    .dataframe tbody tr th:only-of-type {\n        vertical-align: middle;\n    }\n\n    .dataframe tbody tr th {\n        vertical-align: top;\n    }\n\n    .dataframe thead th {\n        text-align: right;\n    }\n</style>\n<table border=\"1\" class=\"dataframe\">\n  <thead>\n    <tr style=\"text-align: right;\">\n      <th></th>\n      <th>id</th>\n      <th>comment_text</th>\n      <th>toxic</th>\n      <th>severe_toxic</th>\n      <th>obscene</th>\n      <th>threat</th>\n      <th>insult</th>\n      <th>identity_hate</th>\n    </tr>\n  </thead>\n  <tbody>\n    <tr>\n      <th>152717</th>\n      <td>918747ca1ebc96c8</td>\n      <td>shut the hell up</td>\n      <td>1</td>\n      <td>0</td>\n      <td>0</td>\n      <td>0</td>\n      <td>0</td>\n      <td>0</td>\n    </tr>\n    <tr>\n      <th>123059</th>\n      <td>9249d906a8e5a8ad</td>\n      <td>and then we would have to believe that the eng...</td>\n      <td>1</td>\n      <td>0</td>\n      <td>0</td>\n      <td>0</td>\n      <td>0</td>\n      <td>0</td>\n    </tr>\n    <tr>\n      <th>1878</th>\n      <td>0512f33cf8807fa2</td>\n      <td>aaron swartz stop fucking reverting my goddamn...</td>\n      <td>1</td>\n      <td>0</td>\n      <td>1</td>\n      <td>1</td>\n      <td>1</td>\n      <td>1</td>\n    </tr>\n    <tr>\n      <th>38875</th>\n      <td>67bf11045c1f1453</td>\n      <td>up yours you authoritarian little hitlers</td>\n      <td>1</td>\n      <td>0</td>\n      <td>0</td>\n      <td>0</td>\n      <td>0</td>\n      <td>0</td>\n    </tr>\n    <tr>\n      <th>79005</th>\n      <td>d36d6b135a4e2541</td>\n      <td>you know what acroterion you can go fuck yours...</td>\n      <td>1</td>\n      <td>1</td>\n      <td>1</td>\n      <td>0</td>\n      <td>1</td>\n      <td>1</td>\n    </tr>\n    <tr>\n      <th>...</th>\n      <td>...</td>\n      <td>...</td>\n      <td>...</td>\n      <td>...</td>\n      <td>...</td>\n      <td>...</td>\n      <td>...</td>\n      <td>...</td>\n    </tr>\n    <tr>\n      <th>149086</th>\n      <td>56d57654c05bf031</td>\n      <td>more rubbish this page contains 0000001% of th...</td>\n      <td>1</td>\n      <td>0</td>\n      <td>1</td>\n      <td>0</td>\n      <td>1</td>\n      <td>0</td>\n    </tr>\n    <tr>\n      <th>112100</th>\n      <td>57bea1d837f085fa</td>\n      <td>hey fucking pig hey fucking pig of a bully; i ...</td>\n      <td>1</td>\n      <td>1</td>\n      <td>1</td>\n      <td>0</td>\n      <td>1</td>\n      <td>0</td>\n    </tr>\n    <tr>\n      <th>49132</th>\n      <td>835ae075e5d44a3b</td>\n      <td>ricky81682 is a paid mole scumbag there is no ...</td>\n      <td>1</td>\n      <td>0</td>\n      <td>1</td>\n      <td>0</td>\n      <td>1</td>\n      <td>0</td>\n    </tr>\n    <tr>\n      <th>52002</th>\n      <td>8b3212f40c51abaa</td>\n      <td>im the bane of your existence hey gaashoo i am...</td>\n      <td>1</td>\n      <td>0</td>\n      <td>0</td>\n      <td>0</td>\n      <td>0</td>\n      <td>0</td>\n    </tr>\n    <tr>\n      <th>1444</th>\n      <td>03dd90664e855020</td>\n      <td>listen up you narrow eyed teacher living on mi...</td>\n      <td>1</td>\n      <td>0</td>\n      <td>0</td>\n      <td>0</td>\n      <td>0</td>\n      <td>0</td>\n    </tr>\n  </tbody>\n</table>\n<p>3000 rows × 8 columns</p>\n</div>"
     },
     "metadata": {},
     "output_type": "execute_result",
     "execution_count": 4
    }
   ],
   "source": [
    "\"\"\"\n",
    "Get <n_category> random samples from each category\n",
    "\"\"\"\n",
    "samples=skeleton.split_by_keys(n_category=3000)\n",
    "samples['toxic']\n"
   ],
   "metadata": {
    "collapsed": false,
    "pycharm": {
     "name": "#%%\n",
     "is_executing": false
    }
   }
  },
  {
   "cell_type": "code",
   "execution_count": 5,
   "metadata": {
    "pycharm": {
     "name": "#%%\n",
     "is_executing": false
    }
   },
   "outputs": [
    {
     "name": "stdout",
     "text": [
      "Loading Custom Model!\n",
      "\"word 'bombayyou' not in vocabulary\"\n\"word 'idiotu' not in vocabulary\"\n\"word 'stupidhe' not in vocabulary\"\n\"word 'indiahe' not in vocabulary\"\n\"word 'bombayu' not in vocabulary\"\n\"word 'sophy' not in vocabulary\"\n\"word 'duckling' not in vocabulary\"\n\"word 'thay' not in vocabulary\"\n",
      "\"word 'gipsee' not in vocabulary\"\n\"word 'adminerstraters' not in vocabulary\"\n\"word 'standin' not in vocabulary\"\n\"word 'thimks' not in vocabulary\"\n",
      "\"word 'caputo' not in vocabulary\"\n\"word 'uncollaborative' not in vocabulary\"\n\"word 'unwelcoming' not in vocabulary\"\n\"word 'backpeddling' not in vocabulary\"\n",
      "\"word 'herat' not in vocabulary\"\n\"word 'greenpeace' not in vocabulary\"\n",
      "\"word 'canuck' not in vocabulary\"\n\"word 'wreak' not in vocabulary\"\n",
      "\"word 'kafziel' not in vocabulary\"\n\"word 'norwegians' not in vocabulary\"\n",
      "\"word 'i`m' not in vocabulary\"\n\"word 'youusing' not in vocabulary\"\n\"word 'proselytist' not in vocabulary\"\n\"word 'guzzling' not in vocabulary\"\n\"word 'cuntrag' not in vocabulary\"\n"
     ],
     "output_type": "stream"
    }
   ],
   "source": [
    "BOOSTING_CLASSIFIER_COUNT=100\n",
    "\n",
    "# \n",
    "# skeleton.classify([\n",
    "#     clfs.AdaBoostSVM(n_estimators=2),\n",
    "#     clfs.AdaBoostNaiveBayes(n_estimators=10),\n",
    "#     clfs.AdaBoostNaiveBayes(n_estimators=20),\n",
    "#     clfs.AdaBoostDecisionTree(n_estimators=20),\n",
    "#     clfs.DecisionTree(),\n",
    "#     clfs.NaiveBayes(),\n",
    "#     clfs.AveragingEstimator(),\n",
    "#     clfs.SVM(),\n",
    "#     \n",
    "# ])    \n",
    "# \n",
    "# skeleton.save_progress(\"progress.txt\")\n",
    "word2vec_model=embeddings.EmbeddingAugmentation(load_path=\"./word2vec/word2vec.model\")\n",
    "ad=word2vec_model.populate(\"toxic\",samples,3020,21)"
   ]
  },
  {
   "cell_type": "code",
   "execution_count": 33,
   "metadata": {
    "pycharm": {
     "name": "#%%\n",
     "is_executing": false
    }
   },
   "outputs": [
    {
     "name": "stdout",
     "text": [
      "Online ambassador\nHey there! I'd be happy to help out; have you read the Public Policy tutorials yet?\n['internet', 'web', 'available']\n"
     ],
     "output_type": "stream"
    }
   ],
   "source": [
    "df=pd.read_csv('./Data/train.csv')\n",
    "tc=TextCleaner()\n",
    "comment=df.iloc[11242].comment_text\n",
    "print(comment)\n",
    "print(word2vec_model.get_similar_words('online'))\n"
   ]
  }
 ],
 "metadata": {
  "kernelspec": {
   "display_name": "Python 3",
   "language": "python",
   "name": "python3"
  },
  "language_info": {
   "codemirror_mode": {
    "name": "ipython",
    "version": 3
   },
   "file_extension": ".py",
   "mimetype": "text/x-python",
   "name": "python",
   "nbconvert_exporter": "python",
   "pygments_lexer": "ipython3",
   "version": "3.7.0"
  },
  "pycharm": {
   "stem_cell": {
    "cell_type": "raw",
    "source": [],
    "metadata": {
     "collapsed": false
    }
   }
  }
 },
 "nbformat": 4,
 "nbformat_minor": 1
}