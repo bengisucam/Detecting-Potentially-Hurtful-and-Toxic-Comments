{
 "cells": [
  {
   "cell_type": "code",
   "execution_count": 1,
   "metadata": {
    "pycharm": {
     "is_executing": false,
     "name": "#%%\n"
    }
   },
   "outputs": [],
   "source": [
    "import pandas\n",
    "import packages.text.textutilities as utilities\n",
    "from packages.text.skeleton import Skeleton\n",
    "import packages.classification.classifier as clfs\n",
    "import packages.augmentation.embedding as embeddings\n",
    "\n",
    "categories=['toxic','severe_toxic','obscene','threat','insult','identity_hate']\n",
    "df=pandas.read_csv('./Data/train.csv')"
   ]
  },
  {
   "cell_type": "code",
   "execution_count": 2,
   "metadata": {
    "pycharm": {
     "is_executing": false,
     "name": "#%%\n"
    }
   },
   "outputs": [
    {
     "name": "stdout",
     "text": [
      "[Step 1/3   Reading File...]\n",
      "[Step 2/3   Cleaning data...]\n",
      "[Step 3/3   Sampling data...]\n\nSample 1: \nto u the banner you are treading very closely and probably in fact violated wp outing deal with sourcing or pov or whatever other policies but attempting to out the coi will only lead to a ban for yourself\nSample 2: \nhi hey\nSample 3: \nfraudulent documentaries voiced by gregg berger\nSample 4: \nyears is temporary similarly can be 0 years but the best way is to not use the temporary word and state the present lack of capability rather than furtutistic words like temporary hopefully\nSample 5: \njust because someone is controversial does not mean they do their homework for agents of repression churchill used fbi files released under the church committee hearings and freedom of information act requests if you re looking for yet more proof of the nogoodnik nature of the hoover cointelpro era fbi check out brian glick war at home cited in the cointelpro article\n"
     ],
     "output_type": "stream"
    }
   ],
   "source": [
    "skeleton=Skeleton()\n",
    "skeleton.build([\n",
    "    utilities.clean_text,\n",
    "    utilities.sample\n",
    "],df_path='./Data/train.csv')"
   ]
  },
  {
   "cell_type": "code",
   "execution_count": 7,
   "metadata": {
    "pycharm": {
     "is_executing": false,
     "name": "#%%\n"
    }
   },
   "outputs": [
    {
     "name": "stdout",
     "text": [
      "\"word '' not in vocabulary\"\n\"word '' not in vocabulary\"\n\"word '' not in vocabulary\"\n\"word '' not in vocabulary\"\n"
     ],
     "output_type": "stream"
    },
    {
     "data": {
      "text/plain": "'e aw she match it milieu color you re remarkably looking and thank_you dlohcierekim   march   200_utc'"
     },
     "metadata": {},
     "output_type": "execute_result",
     "execution_count": 7
    }
   ],
   "source": [
    "word2vec_model=embeddings.EmbeddingAugmentation(load_path=\"./word2vec/word2vec.model\")\n",
    "word2vec_model.replace_sentence_with_top(skeleton.text[1])"
   ]
  },
  {
   "cell_type": "code",
   "execution_count": 6,
   "outputs": [
    {
     "data": {
      "text/plain": "'explanation why the edits made under my username hardcore metallica fan were reverted they were not vandalisms just closure on some gas after i voted at new york dolls fac and please do not remove the template from the talk page since i am retired now892053827'"
     },
     "metadata": {},
     "output_type": "execute_result",
     "execution_count": 6
    }
   ],
   "source": [
    "skeleton.text[1]"
   ],
   "metadata": {
    "collapsed": false,
    "pycharm": {
     "name": "#%%\n",
     "is_executing": false
    }
   }
  },
  {
   "cell_type": "code",
   "execution_count": 4,
   "metadata": {
    "pycharm": {
     "name": "#%%\n",
     "is_executing": false
    }
   },
   "outputs": [],
   "source": [
    "BOOSTING_CLASSIFIER_COUNT=100\n",
    "\n",
    "# \n",
    "# skeleton.classify([\n",
    "#     clfs.AdaBoostSVM(n_estimators=2),\n",
    "#     clfs.AdaBoostNaiveBayes(n_estimators=10),\n",
    "#     clfs.AdaBoostNaiveBayes(n_estimators=20),\n",
    "#     clfs.AdaBoostDecisionTree(n_estimators=20),\n",
    "#     clfs.DecisionTree(),\n",
    "#     clfs.NaiveBayes(),\n",
    "#     clfs.AveragingEstimator(),\n",
    "#     clfs.SVM(),\n",
    "#     \n",
    "# ],keys=categories)\n",
    "# \n",
    "# skeleton.save_progress(\"progress.txt\")"
   ]
  },
  {
   "cell_type": "code",
   "execution_count": 5,
   "metadata": {
    "pycharm": {
     "name": "#%%\n",
     "is_executing": false
    }
   },
   "outputs": [
    {
     "data": {
      "text/plain": "'connected contributor wwb too wwb too editedhereno'"
     },
     "metadata": {},
     "output_type": "execute_result",
     "execution_count": 5
    }
   ],
   "source": [
    "utilities.clean_sample(\"}}{{Connected contributor|WWB Too|WWB Too|editedhere=no\")"
   ]
  }
 ],
 "metadata": {
  "kernelspec": {
   "display_name": "Python 3",
   "language": "python",
   "name": "python3"
  },
  "language_info": {
   "codemirror_mode": {
    "name": "ipython",
    "version": 3
   },
   "file_extension": ".py",
   "mimetype": "text/x-python",
   "name": "python",
   "nbconvert_exporter": "python",
   "pygments_lexer": "ipython3",
   "version": "3.7.0"
  },
  "pycharm": {
   "stem_cell": {
    "cell_type": "raw",
    "source": [],
    "metadata": {
     "collapsed": false
    }
   }
  }
 },
 "nbformat": 4,
 "nbformat_minor": 1
}