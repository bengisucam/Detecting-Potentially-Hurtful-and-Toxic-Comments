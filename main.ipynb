{
 "cells": [
  {
   "cell_type": "code",
   "execution_count": 1,
   "metadata": {
    "pycharm": {
     "is_executing": false,
     "name": "#%%\n"
    }
   },
   "outputs": [],
   "source": [
    "from sklearn.model_selection import train_test_split\n",
    "import pandas as pd\n",
    "import scripts.classification.classifier as clfs\n",
    "from scripts.text.skeleton import Skeleton\n",
    "from scripts.text.textutilities import *\n",
    "pd.set_option('mode.chained_assignment', None)\n",
    "\n",
    "categories=['toxic','severe_toxic','obscene','insult','identity_hate','clean']\n",
    "RANDOM_STATE=20\n",
    "MODEL_PATH=\"./word2vec/word2vec.model\"\n",
    "BOOSTING_CLASSIFIER_COUNT=100"
   ]
  },
  {
   "cell_type": "code",
   "execution_count": 2,
   "outputs": [],
   "source": [
    "skeleton=Skeleton(categories,RANDOM_STATE)"
   ],
   "metadata": {
    "collapsed": false,
    "pycharm": {
     "name": "#%%\n",
     "is_executing": false
    }
   }
  },
  {
   "cell_type": "code",
   "execution_count": 3,
   "outputs": [],
   "source": [
    "data={}\n",
    "for key in categories:\n",
    "    data[key]=pd.read_csv('./Data/{}.csv'.format(key))"
   ],
   "metadata": {
    "collapsed": false,
    "pycharm": {
     "name": "#%%\n",
     "is_executing": false
    }
   }
  },
  {
   "cell_type": "code",
   "execution_count": 4,
   "outputs": [
    {
     "name": "stdout",
     "text": [
      "Created test-train data.\n"
     ],
     "output_type": "stream"
    }
   ],
   "source": [
    "X_x={}\n",
    "X_y={}\n",
    "y_x={}\n",
    "y_y={}\n",
    "X = []\n",
    "y=[]\n",
    "for key in categories:\n",
    "    X_x[key], y_x[key], X_y[key], y_y[key] = train_test_split(data[key]['comment_text'], data[key][key], test_size=0.2,shuffle=True, random_state=RANDOM_STATE)\n",
    "    X+=list(X_x[key])\n",
    "    y+=list(X_y[key])\n",
    "print(\"Created test-train data.\")\n"
   ],
   "metadata": {
    "collapsed": false,
    "pycharm": {
     "name": "#%%\n",
     "is_executing": false
    }
   }
  },
  {
   "cell_type": "code",
   "execution_count": null,
   "outputs": [
    {
     "name": "stdout",
     "text": [
      "[Classifier 1/40   Fitting data over AdaBoost Classifier, MN Naive Bayes with 2 estimators...]\n",
      "  Category #1: toxic \n    Accuracy is 0.35\n    Total correct classifications is 210\n    Total test data size is 600\n  Category #2: severe_toxic \n    Accuracy is 0.5116666666666667\n    Total correct classifications is 307\n    Total test data size is 600\n  Category #3: obscene \n    Accuracy is 0.3433333333333333\n    Total correct classifications is 206\n    Total test data size is 600\n  Category #4: insult \n    Accuracy is 0.32166666666666666\n    Total correct classifications is 193\n    Total test data size is 600\n  Category #5: identity_hate \n    Accuracy is 0.5733333333333334\n    Total correct classifications is 344\n    Total test data size is 600\n  Category #6: clean \n    Accuracy is 0.75775\n    Total correct classifications is 3031\n    Total test data size is 4000\n\n[Classifier 2/40   Fitting data over AdaBoost Classifier, MN Naive Bayes with 3 estimators...]\n",
      "  Category #1: toxic \n    Accuracy is 0.35\n    Total correct classifications is 210\n    Total test data size is 600\n  Category #2: severe_toxic \n    Accuracy is 0.5116666666666667\n    Total correct classifications is 307\n    Total test data size is 600\n  Category #3: obscene \n    Accuracy is 0.3433333333333333\n    Total correct classifications is 206\n    Total test data size is 600\n  Category #4: insult \n    Accuracy is 0.32166666666666666\n    Total correct classifications is 193\n    Total test data size is 600\n  Category #5: identity_hate \n    Accuracy is 0.5733333333333334\n    Total correct classifications is 344\n    Total test data size is 600\n  Category #6: clean \n    Accuracy is 0.75775\n    Total correct classifications is 3031\n    Total test data size is 4000\n\n[Classifier 3/40   Fitting data over AdaBoost Classifier, MN Naive Bayes with 3 estimators...]\n",
      "  Category #1: toxic \n    Accuracy is 0.5866666666666667\n    Total correct classifications is 352\n    Total test data size is 600\n  Category #2: severe_toxic \n    Accuracy is 0.7316666666666667\n    Total correct classifications is 439\n    Total test data size is 600\n  Category #3: obscene \n    Accuracy is 0.5866666666666667\n    Total correct classifications is 352\n    Total test data size is 600\n  Category #4: insult \n    Accuracy is 0.5866666666666667\n    Total correct classifications is 352\n    Total test data size is 600\n  Category #5: identity_hate \n    Accuracy is 0.7583333333333333\n    Total correct classifications is 455\n    Total test data size is 600\n  Category #6: clean \n    Accuracy is 0.50475\n    Total correct classifications is 2019\n    Total test data size is 4000\n\n[Classifier 4/40   Fitting data over AdaBoost Classifier, MN Naive Bayes with 3 estimators...]\n",
      "  Category #1: toxic \n    Accuracy is 0.5866666666666667\n    Total correct classifications is 352\n    Total test data size is 600\n  Category #2: severe_toxic \n    Accuracy is 0.7316666666666667\n    Total correct classifications is 439\n    Total test data size is 600\n  Category #3: obscene \n    Accuracy is 0.5866666666666667\n    Total correct classifications is 352\n    Total test data size is 600\n  Category #4: insult \n    Accuracy is 0.5866666666666667\n    Total correct classifications is 352\n    Total test data size is 600\n  Category #5: identity_hate \n    Accuracy is 0.7583333333333333\n    Total correct classifications is 455\n    Total test data size is 600\n  Category #6: clean \n    Accuracy is 0.50475\n    Total correct classifications is 2019\n    Total test data size is 4000\n\n[Classifier 5/40   Fitting data over AdaBoost Classifier, MN Naive Bayes with 2 estimators...]\n",
      "  Category #1: toxic \n    Accuracy is 0.5866666666666667\n    Total correct classifications is 352\n    Total test data size is 600\n  Category #2: severe_toxic \n    Accuracy is 0.7316666666666667\n    Total correct classifications is 439\n    Total test data size is 600\n  Category #3: obscene \n    Accuracy is 0.5866666666666667\n    Total correct classifications is 352\n    Total test data size is 600\n  Category #4: insult \n    Accuracy is 0.5866666666666667\n    Total correct classifications is 352\n    Total test data size is 600\n  Category #5: identity_hate \n    Accuracy is 0.7583333333333333\n    Total correct classifications is 455\n    Total test data size is 600\n  Category #6: clean \n    Accuracy is 0.50475\n    Total correct classifications is 2019\n    Total test data size is 4000\n\n[Classifier 6/40   Fitting data over AdaBoost Classifier, MN Naive Bayes with 5 estimators...]\n",
      "  Category #1: toxic \n    Accuracy is 0.5866666666666667\n    Total correct classifications is 352\n    Total test data size is 600\n  Category #2: severe_toxic \n    Accuracy is 0.7316666666666667\n    Total correct classifications is 439\n    Total test data size is 600\n  Category #3: obscene \n    Accuracy is 0.5866666666666667\n    Total correct classifications is 352\n    Total test data size is 600\n  Category #4: insult \n    Accuracy is 0.5866666666666667\n    Total correct classifications is 352\n    Total test data size is 600\n  Category #5: identity_hate \n    Accuracy is 0.7583333333333333\n    Total correct classifications is 455\n    Total test data size is 600\n  Category #6: clean \n    Accuracy is 0.50475\n    Total correct classifications is 2019\n    Total test data size is 4000\n\n[Classifier 7/40   Fitting data over AdaBoost Classifier, MN Naive Bayes with 20 estimators...]\n",
      "  Category #1: toxic \n    Accuracy is 0.5866666666666667\n    Total correct classifications is 352\n    Total test data size is 600\n  Category #2: severe_toxic \n    Accuracy is 0.7316666666666667\n    Total correct classifications is 439\n    Total test data size is 600\n  Category #3: obscene \n    Accuracy is 0.5866666666666667\n    Total correct classifications is 352\n    Total test data size is 600\n  Category #4: insult \n    Accuracy is 0.5866666666666667\n    Total correct classifications is 352\n    Total test data size is 600\n  Category #5: identity_hate \n    Accuracy is 0.7583333333333333\n    Total correct classifications is 455\n    Total test data size is 600\n  Category #6: clean \n    Accuracy is 0.50475\n    Total correct classifications is 2019\n    Total test data size is 4000\n\n[Classifier 8/40   Fitting data over AdaBoost Classifier, MN Naive Bayes with 20 estimators...]\n",
      "  Category #1: toxic \n    Accuracy is 0.5866666666666667\n    Total correct classifications is 352\n    Total test data size is 600\n  Category #2: severe_toxic \n    Accuracy is 0.7316666666666667\n    Total correct classifications is 439\n    Total test data size is 600\n  Category #3: obscene \n    Accuracy is 0.5866666666666667\n    Total correct classifications is 352\n    Total test data size is 600\n  Category #4: insult \n    Accuracy is 0.5866666666666667\n    Total correct classifications is 352\n    Total test data size is 600\n  Category #5: identity_hate \n    Accuracy is 0.7583333333333333\n    Total correct classifications is 455\n    Total test data size is 600\n  Category #6: clean \n    Accuracy is 0.50475\n    Total correct classifications is 2019\n    Total test data size is 4000\n\n[Classifier 9/40   Fitting data over AdaBoost Classifier, MN Naive Bayes with 100 estimators...]\n",
      "  Category #1: toxic \n    Accuracy is 0.5833333333333334\n    Total correct classifications is 350\n    Total test data size is 600\n  Category #2: severe_toxic \n    Accuracy is 0.7266666666666667\n    Total correct classifications is 436\n    Total test data size is 600\n  Category #3: obscene \n    Accuracy is 0.58\n    Total correct classifications is 348\n    Total test data size is 600\n  Category #4: insult \n    Accuracy is 0.58\n    Total correct classifications is 348\n    Total test data size is 600\n  Category #5: identity_hate \n    Accuracy is 0.7583333333333333\n    Total correct classifications is 455\n    Total test data size is 600\n  Category #6: clean \n    Accuracy is 0.5085\n    Total correct classifications is 2034\n    Total test data size is 4000\n\n[Classifier 10/40   Fitting data over AdaBoost Classifier, MN Naive Bayes with 100 estimators...]\n",
      "  Category #1: toxic \n    Accuracy is 0.4533333333333333\n    Total correct classifications is 272\n    Total test data size is 600\n  Category #2: severe_toxic \n    Accuracy is 0.63\n    Total correct classifications is 378\n    Total test data size is 600\n  Category #3: obscene \n    Accuracy is 0.445\n    Total correct classifications is 267\n    Total test data size is 600\n  Category #4: insult \n    Accuracy is 0.4633333333333333\n    Total correct classifications is 278\n    Total test data size is 600\n  Category #5: identity_hate \n    Accuracy is 0.685\n    Total correct classifications is 411\n    Total test data size is 600\n  Category #6: clean \n    Accuracy is 0.5815\n    Total correct classifications is 2326\n    Total test data size is 4000\n\n[Classifier 11/40   Fitting data over AdaBoost Classifier, MN Naive Bayes with 100 estimators...]\n",
      "  Category #1: toxic \n    Accuracy is 0.4533333333333333\n    Total correct classifications is 272\n    Total test data size is 600\n  Category #2: severe_toxic \n    Accuracy is 0.63\n    Total correct classifications is 378\n    Total test data size is 600\n  Category #3: obscene \n    Accuracy is 0.445\n    Total correct classifications is 267\n    Total test data size is 600\n  Category #4: insult \n    Accuracy is 0.4633333333333333\n    Total correct classifications is 278\n    Total test data size is 600\n  Category #5: identity_hate \n    Accuracy is 0.685\n    Total correct classifications is 411\n    Total test data size is 600\n  Category #6: clean \n    Accuracy is 0.5815\n    Total correct classifications is 2326\n    Total test data size is 4000\n\n[Classifier 12/40   Fitting data over AdaBoost Classifier, MN Naive Bayes with 250 estimators...]\n",
      "  Category #1: toxic \n    Accuracy is 0.465\n    Total correct classifications is 279\n    Total test data size is 600\n  Category #2: severe_toxic \n    Accuracy is 0.645\n    Total correct classifications is 387\n    Total test data size is 600\n  Category #3: obscene \n    Accuracy is 0.4816666666666667\n    Total correct classifications is 289\n    Total test data size is 600\n  Category #4: insult \n    Accuracy is 0.48833333333333334\n    Total correct classifications is 293\n    Total test data size is 600\n  Category #5: identity_hate \n    Accuracy is 0.695\n    Total correct classifications is 417\n    Total test data size is 600\n  Category #6: clean \n    Accuracy is 0.542\n    Total correct classifications is 2168\n    Total test data size is 4000\n\n[Classifier 13/40   Fitting data over AdaBoost Classifier, MN Naive Bayes with 500 estimators...]\n",
      "  Category #1: toxic \n    Accuracy is 0.465\n    Total correct classifications is 279\n    Total test data size is 600\n  Category #2: severe_toxic \n    Accuracy is 0.6466666666666666\n    Total correct classifications is 388\n    Total test data size is 600\n  Category #3: obscene \n    Accuracy is 0.48333333333333334\n    Total correct classifications is 290\n    Total test data size is 600\n  Category #4: insult \n    Accuracy is 0.47333333333333333\n    Total correct classifications is 284\n    Total test data size is 600\n  Category #5: identity_hate \n    Accuracy is 0.685\n    Total correct classifications is 411\n    Total test data size is 600\n  Category #6: clean \n    Accuracy is 0.544\n    Total correct classifications is 2176\n    Total test data size is 4000\n\n[Classifier 14/40   Fitting data over AdaBoost Classifier, MN Naive Bayes with 500 estimators...]\n",
      "  Category #1: toxic \n    Accuracy is 0.43\n    Total correct classifications is 258\n    Total test data size is 600\n  Category #2: severe_toxic \n    Accuracy is 0.6383333333333333\n    Total correct classifications is 383\n    Total test data size is 600\n  Category #3: obscene \n    Accuracy is 0.4583333333333333\n    Total correct classifications is 275\n    Total test data size is 600\n  Category #4: insult \n    Accuracy is 0.48\n    Total correct classifications is 288\n    Total test data size is 600\n  Category #5: identity_hate \n    Accuracy is 0.7016666666666667\n    Total correct classifications is 421\n    Total test data size is 600\n  Category #6: clean \n    Accuracy is 0.6375\n    Total correct classifications is 2550\n    Total test data size is 4000\n\n[Classifier 15/40   Fitting data over AdaBoost Classifier, MN Naive Bayes with 1000 estimators...]\n",
      "  Category #1: toxic \n    Accuracy is 0.465\n    Total correct classifications is 279\n    Total test data size is 600\n  Category #2: severe_toxic \n    Accuracy is 0.6466666666666666\n    Total correct classifications is 388\n    Total test data size is 600\n  Category #3: obscene \n    Accuracy is 0.48333333333333334\n    Total correct classifications is 290\n    Total test data size is 600\n  Category #4: insult \n    Accuracy is 0.47333333333333333\n    Total correct classifications is 284\n    Total test data size is 600\n  Category #5: identity_hate \n    Accuracy is 0.685\n    Total correct classifications is 411\n    Total test data size is 600\n  Category #6: clean \n    Accuracy is 0.544\n    Total correct classifications is 2176\n    Total test data size is 4000\n\n[Classifier 16/40   Fitting data over AdaBoost Classifier, MN Naive Bayes with 1000 estimators...]\n",
      "  Category #1: toxic \n    Accuracy is 0.43\n    Total correct classifications is 258\n    Total test data size is 600\n  Category #2: severe_toxic \n    Accuracy is 0.6383333333333333\n    Total correct classifications is 383\n    Total test data size is 600\n  Category #3: obscene \n    Accuracy is 0.4583333333333333\n    Total correct classifications is 275\n    Total test data size is 600\n  Category #4: insult \n    Accuracy is 0.48\n    Total correct classifications is 288\n    Total test data size is 600\n  Category #5: identity_hate \n    Accuracy is 0.7016666666666667\n    Total correct classifications is 421\n    Total test data size is 600\n  Category #6: clean \n    Accuracy is 0.6375\n    Total correct classifications is 2550\n    Total test data size is 4000\n\n[Classifier 17/40   Fitting data over AdaBoost Classifier, Decision Tree with 2 estimators...]\n",
      "  Category #1: toxic \n    Accuracy is 0.5866666666666667\n    Total correct classifications is 352\n    Total test data size is 600\n  Category #2: severe_toxic \n    Accuracy is 0.7316666666666667\n    Total correct classifications is 439\n    Total test data size is 600\n  Category #3: obscene \n    Accuracy is 0.5866666666666667\n    Total correct classifications is 352\n    Total test data size is 600\n  Category #4: insult \n    Accuracy is 0.5866666666666667\n    Total correct classifications is 352\n    Total test data size is 600\n  Category #5: identity_hate \n    Accuracy is 0.7583333333333333\n    Total correct classifications is 455\n    Total test data size is 600\n  Category #6: clean \n    Accuracy is 0.50475\n    Total correct classifications is 2019\n    Total test data size is 4000\n\n[Classifier 18/40   Fitting data over AdaBoost Classifier, Decision Tree with 2 estimators...]\n",
      "  Category #1: toxic \n    Accuracy is 0.5866666666666667\n    Total correct classifications is 352\n    Total test data size is 600\n  Category #2: severe_toxic \n    Accuracy is 0.7316666666666667\n    Total correct classifications is 439\n    Total test data size is 600\n  Category #3: obscene \n    Accuracy is 0.5866666666666667\n    Total correct classifications is 352\n    Total test data size is 600\n  Category #4: insult \n    Accuracy is 0.5866666666666667\n    Total correct classifications is 352\n    Total test data size is 600\n  Category #5: identity_hate \n    Accuracy is 0.7583333333333333\n    Total correct classifications is 455\n    Total test data size is 600\n  Category #6: clean \n    Accuracy is 0.50475\n    Total correct classifications is 2019\n    Total test data size is 4000\n\n[Classifier 19/40   Fitting data over AdaBoost Classifier, Decision Tree with 2 estimators...]\n",
      "  Category #1: toxic \n    Accuracy is 0.43333333333333335\n    Total correct classifications is 260\n    Total test data size is 600\n  Category #2: severe_toxic \n    Accuracy is 0.31833333333333336\n    Total correct classifications is 191\n    Total test data size is 600\n  Category #3: obscene \n    Accuracy is 0.43833333333333335\n    Total correct classifications is 263\n    Total test data size is 600\n  Category #4: insult \n    Accuracy is 0.42833333333333334\n    Total correct classifications is 257\n    Total test data size is 600\n  Category #5: identity_hate \n    Accuracy is 0.30666666666666664\n    Total correct classifications is 184\n    Total test data size is 600\n  Category #6: clean \n    Accuracy is 0.497\n    Total correct classifications is 1988\n    Total test data size is 4000\n\n[Classifier 20/40   Fitting data over AdaBoost Classifier, Decision Tree with 2 estimators...]\n",
      "  Category #1: toxic \n    Accuracy is 0.5866666666666667\n    Total correct classifications is 352\n    Total test data size is 600\n  Category #2: severe_toxic \n    Accuracy is 0.7316666666666667\n    Total correct classifications is 439\n    Total test data size is 600\n  Category #3: obscene \n    Accuracy is 0.5866666666666667\n    Total correct classifications is 352\n    Total test data size is 600\n  Category #4: insult \n    Accuracy is 0.5866666666666667\n    Total correct classifications is 352\n    Total test data size is 600\n  Category #5: identity_hate \n    Accuracy is 0.7583333333333333\n    Total correct classifications is 455\n    Total test data size is 600\n  Category #6: clean \n    Accuracy is 0.50475\n    Total correct classifications is 2019\n    Total test data size is 4000\n\n[Classifier 21/40   Fitting data over AdaBoost Classifier, Decision Tree with 3 estimators...]\n",
      "  Category #1: toxic \n    Accuracy is 0.5866666666666667\n    Total correct classifications is 352\n    Total test data size is 600\n  Category #2: severe_toxic \n    Accuracy is 0.7316666666666667\n    Total correct classifications is 439\n    Total test data size is 600\n  Category #3: obscene \n    Accuracy is 0.5866666666666667\n    Total correct classifications is 352\n    Total test data size is 600\n  Category #4: insult \n    Accuracy is 0.5866666666666667\n    Total correct classifications is 352\n    Total test data size is 600\n  Category #5: identity_hate \n    Accuracy is 0.7583333333333333\n    Total correct classifications is 455\n    Total test data size is 600\n  Category #6: clean \n    Accuracy is 0.50475\n    Total correct classifications is 2019\n    Total test data size is 4000\n\n[Classifier 22/40   Fitting data over AdaBoost Classifier, Decision Tree with 3 estimators...]\n",
      "  Category #1: toxic \n    Accuracy is 0.5866666666666667\n    Total correct classifications is 352\n    Total test data size is 600\n  Category #2: severe_toxic \n    Accuracy is 0.7316666666666667\n    Total correct classifications is 439\n    Total test data size is 600\n  Category #3: obscene \n    Accuracy is 0.5866666666666667\n    Total correct classifications is 352\n    Total test data size is 600\n  Category #4: insult \n    Accuracy is 0.5866666666666667\n    Total correct classifications is 352\n    Total test data size is 600\n  Category #5: identity_hate \n    Accuracy is 0.7583333333333333\n    Total correct classifications is 455\n    Total test data size is 600\n  Category #6: clean \n    Accuracy is 0.50475\n    Total correct classifications is 2019\n    Total test data size is 4000\n\n[Classifier 23/40   Fitting data over AdaBoost Classifier, Decision Tree with 3 estimators...]\n",
      "  Category #1: toxic \n    Accuracy is 0.5866666666666667\n    Total correct classifications is 352\n    Total test data size is 600\n  Category #2: severe_toxic \n    Accuracy is 0.7316666666666667\n    Total correct classifications is 439\n    Total test data size is 600\n  Category #3: obscene \n    Accuracy is 0.5866666666666667\n    Total correct classifications is 352\n    Total test data size is 600\n  Category #4: insult \n    Accuracy is 0.5866666666666667\n    Total correct classifications is 352\n    Total test data size is 600\n  Category #5: identity_hate \n    Accuracy is 0.7583333333333333\n    Total correct classifications is 455\n    Total test data size is 600\n  Category #6: clean \n    Accuracy is 0.50475\n    Total correct classifications is 2019\n    Total test data size is 4000\n\n[Classifier 24/40   Fitting data over AdaBoost Classifier, Decision Tree with 3 estimators...]\n",
      "  Category #1: toxic \n    Accuracy is 0.5866666666666667\n    Total correct classifications is 352\n    Total test data size is 600\n  Category #2: severe_toxic \n    Accuracy is 0.7316666666666667\n    Total correct classifications is 439\n    Total test data size is 600\n  Category #3: obscene \n    Accuracy is 0.5866666666666667\n    Total correct classifications is 352\n    Total test data size is 600\n  Category #4: insult \n    Accuracy is 0.5866666666666667\n    Total correct classifications is 352\n    Total test data size is 600\n  Category #5: identity_hate \n    Accuracy is 0.7583333333333333\n    Total correct classifications is 455\n    Total test data size is 600\n  Category #6: clean \n    Accuracy is 0.50475\n    Total correct classifications is 2019\n    Total test data size is 4000\n\n[Classifier 25/40   Fitting data over AdaBoost Classifier, Decision Tree with 10 estimators...]\n",
      "  Category #1: toxic \n    Accuracy is 0.5866666666666667\n    Total correct classifications is 352\n    Total test data size is 600\n  Category #2: severe_toxic \n    Accuracy is 0.7316666666666667\n    Total correct classifications is 439\n    Total test data size is 600\n  Category #3: obscene \n    Accuracy is 0.5866666666666667\n    Total correct classifications is 352\n    Total test data size is 600\n  Category #4: insult \n    Accuracy is 0.585\n    Total correct classifications is 351\n    Total test data size is 600\n  Category #5: identity_hate \n    Accuracy is 0.7583333333333333\n    Total correct classifications is 455\n    Total test data size is 600\n  Category #6: clean \n    Accuracy is 0.5045\n    Total correct classifications is 2018\n    Total test data size is 4000\n\n[Classifier 26/40   Fitting data over AdaBoost Classifier, Decision Tree with 10 estimators...]\n",
      "  Category #1: toxic \n    Accuracy is 0.5866666666666667\n    Total correct classifications is 352\n    Total test data size is 600\n  Category #2: severe_toxic \n    Accuracy is 0.7316666666666667\n    Total correct classifications is 439\n    Total test data size is 600\n  Category #3: obscene \n    Accuracy is 0.5866666666666667\n    Total correct classifications is 352\n    Total test data size is 600\n  Category #4: insult \n    Accuracy is 0.585\n    Total correct classifications is 351\n    Total test data size is 600\n  Category #5: identity_hate \n    Accuracy is 0.7583333333333333\n    Total correct classifications is 455\n    Total test data size is 600\n  Category #6: clean \n    Accuracy is 0.50475\n    Total correct classifications is 2019\n    Total test data size is 4000\n\n[Classifier 27/40   Fitting data over AdaBoost Classifier, Decision Tree with 15 estimators...]\n",
      "  Category #1: toxic \n    Accuracy is 0.5866666666666667\n    Total correct classifications is 352\n    Total test data size is 600\n  Category #2: severe_toxic \n    Accuracy is 0.7316666666666667\n    Total correct classifications is 439\n    Total test data size is 600\n  Category #3: obscene \n    Accuracy is 0.5866666666666667\n    Total correct classifications is 352\n    Total test data size is 600\n  Category #4: insult \n    Accuracy is 0.5866666666666667\n    Total correct classifications is 352\n    Total test data size is 600\n  Category #5: identity_hate \n    Accuracy is 0.7583333333333333\n    Total correct classifications is 455\n    Total test data size is 600\n  Category #6: clean \n    Accuracy is 0.50475\n    Total correct classifications is 2019\n    Total test data size is 4000\n\n[Classifier 28/40   Fitting data over AdaBoost Classifier, Decision Tree with 20 estimators...]\n",
      "  Category #1: toxic \n    Accuracy is 0.5866666666666667\n    Total correct classifications is 352\n    Total test data size is 600\n  Category #2: severe_toxic \n    Accuracy is 0.7316666666666667\n    Total correct classifications is 439\n    Total test data size is 600\n  Category #3: obscene \n    Accuracy is 0.5866666666666667\n    Total correct classifications is 352\n    Total test data size is 600\n  Category #4: insult \n    Accuracy is 0.5866666666666667\n    Total correct classifications is 352\n    Total test data size is 600\n  Category #5: identity_hate \n    Accuracy is 0.7583333333333333\n    Total correct classifications is 455\n    Total test data size is 600\n  Category #6: clean \n    Accuracy is 0.50475\n    Total correct classifications is 2019\n    Total test data size is 4000\n\n[Classifier 29/40   Fitting data over AdaBoost Classifier, Decision Tree with 250 estimators...]\n",
      "  Category #1: toxic \n    Accuracy is 0.49333333333333335\n    Total correct classifications is 296\n    Total test data size is 600\n  Category #2: severe_toxic \n    Accuracy is 0.6166666666666667\n    Total correct classifications is 370\n    Total test data size is 600\n  Category #3: obscene \n    Accuracy is 0.5466666666666666\n    Total correct classifications is 328\n    Total test data size is 600\n  Category #4: insult \n    Accuracy is 0.48333333333333334\n    Total correct classifications is 290\n    Total test data size is 600\n  Category #5: identity_hate \n    Accuracy is 0.7366666666666667\n    Total correct classifications is 442\n    Total test data size is 600\n  Category #6: clean \n    Accuracy is 0.59225\n    Total correct classifications is 2369\n    Total test data size is 4000\n\n[Classifier 30/40   Fitting data over AdaBoost Classifier, Decision Tree with 250 estimators...]\n"
     ],
     "output_type": "stream"
    }
   ],
   "source": [
    "skeleton.classify([\n",
    "    clfs.AdaBoostNaiveBayes(n_estimators=2,lr=1),\n",
    "    clfs.AdaBoostNaiveBayes(n_estimators=3,lr=1),\n",
    "    clfs.AdaBoostNaiveBayes(n_estimators=3,lr=0.5),\n",
    "    clfs.AdaBoostNaiveBayes(n_estimators=3,lr=0.25),\n",
    "    clfs.AdaBoostNaiveBayes(n_estimators=2,lr=0.5),\n",
    "    clfs.AdaBoostNaiveBayes(n_estimators=5,lr=0.5),\n",
    "    clfs.AdaBoostNaiveBayes(n_estimators=20,lr=0.5),\n",
    "    clfs.AdaBoostNaiveBayes(n_estimators=20,lr=0.5),\n",
    "    clfs.AdaBoostNaiveBayes(n_estimators=100,lr=0.25),\n",
    "    clfs.AdaBoostNaiveBayes(n_estimators=100,lr=1),\n",
    "    clfs.AdaBoostNaiveBayes(n_estimators=100,lr=1),\n",
    "    clfs.AdaBoostNaiveBayes(n_estimators=250,lr=1),\n",
    "    clfs.AdaBoostNaiveBayes(n_estimators=500,lr=1),\n",
    "    clfs.AdaBoostNaiveBayes(n_estimators=500,lr=0.5),\n",
    "    clfs.AdaBoostNaiveBayes(n_estimators=1000,lr=1),\n",
    "    clfs.AdaBoostNaiveBayes(n_estimators=1000,lr=0.5),\n",
    "    clfs.AdaBoostDecisionTree(n_estimators=2,max_tree_depth=2,lr=1),\n",
    "    clfs.AdaBoostDecisionTree(n_estimators=2,max_tree_depth=1,lr=1),\n",
    "    clfs.AdaBoostDecisionTree(n_estimators=2,max_tree_depth=1,lr=2),\n",
    "    clfs.AdaBoostDecisionTree(n_estimators=2,max_tree_depth=2,lr=1),\n",
    "    clfs.AdaBoostDecisionTree(n_estimators=3,max_tree_depth=2,lr=0.5),\n",
    "    clfs.AdaBoostDecisionTree(n_estimators=3,max_tree_depth=2,lr=0.25),\n",
    "    clfs.AdaBoostDecisionTree(n_estimators=3,max_tree_depth=2,lr=1),\n",
    "    clfs.AdaBoostDecisionTree(n_estimators=3,max_tree_depth=2,lr=3),\n",
    "    clfs.AdaBoostDecisionTree(n_estimators=10,max_tree_depth=3,lr=1),\n",
    "    clfs.AdaBoostDecisionTree(n_estimators=10,max_tree_depth=3,lr=0.25),\n",
    "    clfs.AdaBoostDecisionTree(n_estimators=15,max_tree_depth=2,lr=1),\n",
    "    clfs.AdaBoostDecisionTree(n_estimators=20,max_tree_depth=2,lr=1),\n",
    "    clfs.AdaBoostDecisionTree(n_estimators=250,max_tree_depth=2,lr=1),\n",
    "    clfs.AdaBoostDecisionTree(n_estimators=250,max_tree_depth=2,lr=2),\n",
    "    clfs.AdaBoostDecisionTree(n_estimators=250,max_tree_depth=2,lr=0.25),\n",
    "    clfs.AdaBoostDecisionTree(n_estimators=250,max_tree_depth=2,lr=0.5),\n",
    "    clfs.AdaBoostDecisionTree(n_estimators=250,max_tree_depth=1,lr=0.1),\n",
    "    clfs.AdaBoostDecisionTree(n_estimators=250,max_tree_depth=1,lr=0.5),\n",
    "    clfs.AdaBoostDecisionTree(n_estimators=250,max_tree_depth=3,lr=0.25),\n",
    "    clfs.AdaBoostSVM(n_estimators=3),\n",
    "    clfs.AveragingEstimator(),\n",
    "    clfs.DecisionTree(),\n",
    "    clfs.NaiveBayes(),\n",
    "    clfs.SVM()\n",
    "    # clfs.AdaBoostDecisionTree(n_estimators=500,max_tree_depth=2,lr=0.5),\n",
    "    # clfs.AdaBoostDecisionTree(n_estimators=250,max_tree_depth=4,lr=1),\n",
    "    # clfs.AdaBoostDecisionTree(n_estimators=500,max_tree_depth=4,lr=0.1),\n",
    "    # clfs.AdaBoostDecisionTree(n_estimators=500,max_tree_depth=8,lr=0.25),\n",
    "    # clfs.AdaBoostDecisionTree(n_estimators=500,max_tree_depth=8,lr=1),\n",
    "    # clfs.AdaBoostDecisionTree(n_estimators=1000,max_tree_depth=2,lr=0.5),\n",
    "    # clfs.AdaBoostDecisionTree(n_estimators=1000,max_tree_depth=2,lr=0.25)\n",
    "   \n",
    "],X,y,y_x,y_y)    \n",
    "\n",
    "skeleton.save_progress(\"progress.txt\")\n"
   ],
   "metadata": {
    "collapsed": false,
    "pycharm": {
     "name": "#%%\n",
     "is_executing": true
    }
   }
  }
 ],
 "metadata": {
  "kernelspec": {
   "display_name": "Python 3",
   "language": "python",
   "name": "python3"
  },
  "language_info": {
   "codemirror_mode": {
    "name": "ipython",
    "version": 3
   },
   "file_extension": ".py",
   "mimetype": "text/x-python",
   "name": "python",
   "nbconvert_exporter": "python",
   "pygments_lexer": "ipython3",
   "version": "3.7.0"
  },
  "pycharm": {
   "stem_cell": {
    "cell_type": "raw",
    "source": [],
    "metadata": {
     "collapsed": false
    }
   }
  }
 },
 "nbformat": 4,
 "nbformat_minor": 1
}