{
 "cells": [
  {
   "cell_type": "code",
   "execution_count": 1,
   "metadata": {
    "collapsed": true,
    "pycharm": {
     "is_executing": false,
     "name": "#%%\n"
    }
   },
   "outputs": [
    {
     "name": "stdout",
     "text": [
      "15294\n144277\n"
     ],
     "output_type": "stream"
    }
   ],
   "source": [
    "import pandas\n",
    "import packages.text.textutilities as utilities\n",
    "from packages.text.skeleton import Skeleton\n",
    "import packages.augmentation as augmentation\n",
    "import packages.classification.classifier as clfs\n",
    "\n",
    "categories=['toxic','severe_toxic','obscene','threat','insult','identity_hate']\n",
    "df=pandas.read_csv('./Data/train.csv')"
   ]
  },
  {
   "cell_type": "code",
   "execution_count": 2,
   "outputs": [
    {
     "name": "stdout",
     "text": [
      "[Step 1/4   Reading File...]\n",
      "[Step 2/4   Cleaning data...]\n",
      "[Step 3/4   Trimming data...]\n\n",
      "[Step 4/4   Sampling data...]\n\nSample 1: \nactually a producer on superman homepage seemed to imply that the continuity is a mixture of smallville and the movies the producer said we wo not be dealing with superman origin because if you re under  smallville is your origin story and if your over  the christopher reeve movies are your origin story plus this version of lex seems to be closer to mike rosenbaum than gene hackman\nSample 2: \npvpoodle it has gotten deep inside your skin didnt it ouch\nSample 3: \nnaruto uzumaki ga nomination i am considering nominating naruto uzumaki for ga status comparing it to the gas sasuke uchiha sakura haruno kakashi hatake orochimaru naruto shikamaru nara rock lee and gaara i believe it is ready what are your thoughts on a possible nomination\nSample 4: \nredirect talk dominican summer league rockies\nSample 5: \nfirst i just realized via your question that i could answer here assuming it saves yes i finally get that my attacks were totally inappropriate and unneccessary i confess i did not at first even this morning i realize i made inappropriate attacks after looking at his contributions and assuming some highly speculative personal motivation and then asking him about it in an offensive way i would not be at all surprised if others have made negative assumptions about me based on looking at my contributions history and attacked me so the user does have my sincere sympathies and apologies what to do differently when groups go after me write a better wikiquette name several people go to wp ani naming several people do user rfcs naming several people that is where i admit i need further advice since a  year old off wiki email is often the focus of harassment and so far the advice is not to go into detail about it i do not know how to defend the recurrent references to it let me say again it was a stupid overly generalized and exaggerated response but certainly not written with some evil bigoted intent i feel that a lengthy correction of it complete with refs about then existing specific incidents issues etc or stating in detail my current views would be inappropriate even on my user page and doubtless lead to more accusations by people who have a different pov but if there some policy on this that i missed i sure wish people would help me out with that\n"
     ],
     "output_type": "stream"
    }
   ],
   "source": [
    "skeleton=Skeleton()\n",
    "skeleton.build([\n",
    "    utilities.clean_text,\n",
    "    utilities.trim_corpus,\n",
    "    utilities.sample\n",
    "],df_path='./Data/train.csv')"
   ],
   "metadata": {
    "collapsed": false,
    "pycharm": {
     "name": "#%%\n",
     "is_executing": false
    }
   }
  },
  {
   "cell_type": "code",
   "execution_count": 3,
   "outputs": [
    {
     "name": "stdout",
     "text": [
      "14245\n137785\n"
     ],
     "output_type": "stream"
    }
   ],
   "source": [],
   "metadata": {
    "collapsed": false,
    "pycharm": {
     "name": "#%%\n",
     "is_executing": false
    }
   }
  },
  {
   "cell_type": "code",
   "execution_count": null,
   "outputs": [],
   "source": [
    "skeleton.classify([\n",
    "    clfs.AveragingEstimator(),\n",
    "    clfs.DecisionTree(),\n",
    "    clfs.NaiveBayes(),\n",
    "    clfs.SVM(),\n",
    "    \n",
    "],keys=categories)\n",
    "\n",
    "skeleton.save_progress(\"progress.txt\")"
   ],
   "metadata": {
    "collapsed": false,
    "pycharm": {
     "name": "#%%\n"
    }
   }
  },
  {
   "cell_type": "code",
   "execution_count": null,
   "outputs": [],
   "source": [
    "utilities.clean_sample(\"}}{{Connected contributor|WWB Too|WWB Too|editedhere=no\")"
   ],
   "metadata": {
    "collapsed": false,
    "pycharm": {
     "name": "#%%\n"
    }
   }
  }
 ],
 "metadata": {
  "kernelspec": {
   "display_name": "Python 3",
   "language": "python",
   "name": "python3"
  },
  "language_info": {
   "codemirror_mode": {
    "name": "ipython",
    "version": 2
   },
   "file_extension": ".py",
   "mimetype": "text/x-python",
   "name": "python",
   "nbconvert_exporter": "python",
   "pygments_lexer": "ipython2",
   "version": "2.7.6"
  },
  "pycharm": {
   "stem_cell": {
    "cell_type": "raw",
    "source": [],
    "metadata": {
     "collapsed": false
    }
   }
  }
 },
 "nbformat": 4,
 "nbformat_minor": 0
}