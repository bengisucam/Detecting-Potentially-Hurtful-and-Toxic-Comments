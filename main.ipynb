{
 "cells": [
  {
   "cell_type": "code",
   "execution_count": 1,
   "metadata": {
    "pycharm": {
     "is_executing": false,
     "name": "#%%\n"
    }
   },
   "outputs": [],
   "source": [
    "from sklearn.model_selection import train_test_split\n",
    "\n",
    "import packages.classification.classifier as clfs\n",
    "from packages.text.skeleton import Skeleton\n",
    "from packages.text.textutilities import *\n",
    "pd.set_option('mode.chained_assignment', None)\n",
    "\n",
    "categories=['toxic','severe_toxic','obscene','insult','identity_hate','clean']\n",
    "RANDOM_STATE=1\n",
    "MODEL_PATH=\"./word2vec/word2vec.model\"\n",
    "BOOSTING_CLASSIFIER_COUNT=100"
   ]
  },
  {
   "cell_type": "code",
   "execution_count": 2,
   "outputs": [],
   "source": [
    "skeleton=Skeleton(categories,RANDOM_STATE)"
   ],
   "metadata": {
    "collapsed": false,
    "pycharm": {
     "name": "#%%\n",
     "is_executing": false
    }
   }
  },
  {
   "cell_type": "code",
   "execution_count": 3,
   "outputs": [],
   "source": [
    "data={}\n",
    "for key in categories:\n",
    "    data[key]=pd.read_csv('./{}.csv'.format(key))"
   ],
   "metadata": {
    "collapsed": false,
    "pycharm": {
     "name": "#%%\n",
     "is_executing": false
    }
   }
  },
  {
   "cell_type": "code",
   "execution_count": 4,
   "outputs": [
    {
     "name": "stdout",
     "text": [
      "Created test-train data.\n"
     ],
     "output_type": "stream"
    }
   ],
   "source": [
    "X_x={}\n",
    "X_y={}\n",
    "y_x={}\n",
    "y_y={}\n",
    "X = []\n",
    "y=[]\n",
    "for key in categories:\n",
    "    X_x[key], y_x[key], X_y[key], y_y[key] = train_test_split(data[key]['comment_text'], data[key][key], test_size=0.2,shuffle=True, random_state=RANDOM_STATE)\n",
    "    X+=list(X_x[key])\n",
    "    y+=list(X_y[key])\n",
    "print(\"Created test-train data.\")\n"
   ],
   "metadata": {
    "collapsed": false,
    "pycharm": {
     "name": "#%%\n",
     "is_executing": false
    }
   }
  },
  {
   "cell_type": "code",
   "execution_count": null,
   "outputs": [
    {
     "name": "stdout",
     "text": [
      "[Classifier 1/6   Fitting data over AdaBoost Classifier, MN Naive Bayes with 250 estimators...]\n"
     ],
     "output_type": "stream"
    }
   ],
   "source": [
    "skeleton.classify([\n",
    "    clfs.AdaBoostNaiveBayes(n_estimators=250),\n",
    "    clfs.AdaBoostDecisionTree(n_estimators=250,max_tree_depth=2),\n",
    "    clfs.AveragingEstimator(),\n",
    "    clfs.DecisionTree(),\n",
    "    clfs.NaiveBayes(),\n",
    "    clfs.SVM(),\n",
    "],X,y,y_x,y_y)    \n",
    "\n",
    "skeleton.save_progress(\"progress.txt\")\n"
   ],
   "metadata": {
    "collapsed": false,
    "pycharm": {
     "name": "#%%\n",
     "is_executing": true
    }
   }
  }
 ],
 "metadata": {
  "kernelspec": {
   "display_name": "Python 3",
   "language": "python",
   "name": "python3"
  },
  "language_info": {
   "codemirror_mode": {
    "name": "ipython",
    "version": 3
   },
   "file_extension": ".py",
   "mimetype": "text/x-python",
   "name": "python",
   "nbconvert_exporter": "python",
   "pygments_lexer": "ipython3",
   "version": "3.7.0"
  },
  "pycharm": {
   "stem_cell": {
    "cell_type": "raw",
    "source": [],
    "metadata": {
     "collapsed": false
    }
   }
  }
 },
 "nbformat": 4,
 "nbformat_minor": 1
}