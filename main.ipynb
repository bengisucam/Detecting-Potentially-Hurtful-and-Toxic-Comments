{
 "cells": [
  {
   "cell_type": "code",
   "execution_count": 1,
   "metadata": {
    "pycharm": {
     "is_executing": false,
     "name": "#%%\n"
    }
   },
   "outputs": [],
   "source": [
    "from sklearn.model_selection import train_test_split\n",
    "import pandas as pd\n",
    "import scripts.classification.classifier as clfs\n",
    "from scripts.text.skeleton import Skeleton\n",
    "from scripts.text.textutilities import *\n",
    "pd.set_option('mode.chained_assignment', None)\n",
    "\n",
    "categories=['toxic','severe_toxic','obscene','insult','identity_hate','clean']\n",
    "RANDOM_STATE=20\n",
    "MODEL_PATH=\"./word2vec/word2vec.model\"\n",
    "BOOSTING_CLASSIFIER_COUNT=100"
   ]
  },
  {
   "cell_type": "code",
   "execution_count": 2,
   "outputs": [],
   "source": [
    "skeleton=Skeleton(categories,RANDOM_STATE)"
   ],
   "metadata": {
    "collapsed": false,
    "pycharm": {
     "name": "#%%\n",
     "is_executing": false
    }
   }
  },
  {
   "cell_type": "code",
   "execution_count": 3,
   "outputs": [],
   "source": [
    "data={}\n",
    "for key in categories:\n",
    "    data[key]=pd.read_csv('./Data/{}.csv'.format(key))"
   ],
   "metadata": {
    "collapsed": false,
    "pycharm": {
     "name": "#%%\n",
     "is_executing": false
    }
   }
  },
  {
   "cell_type": "code",
   "execution_count": 4,
   "outputs": [
    {
     "name": "stdout",
     "text": [
      "Created test-train data.\n"
     ],
     "output_type": "stream"
    }
   ],
   "source": [
    "X_x={}\n",
    "X_y={}\n",
    "y_x={}\n",
    "y_y={}\n",
    "X = []\n",
    "y=[]\n",
    "for key in categories:\n",
    "    X_x[key], y_x[key], X_y[key], y_y[key] = train_test_split(data[key]['comment_text'], data[key][key], test_size=0.2,shuffle=True, random_state=RANDOM_STATE)\n",
    "    X+=list(X_x[key])\n",
    "    y+=list(X_y[key])\n",
    "print(\"Created test-train data.\")\n"
   ],
   "metadata": {
    "collapsed": false,
    "pycharm": {
     "name": "#%%\n",
     "is_executing": false
    }
   }
  },
  {
   "cell_type": "code",
   "execution_count": null,
   "outputs": [
    {
     "name": "stdout",
     "text": [
      "[Classifier 1/16   Fitting data over AdaBoost Classifier, MN Naive Bayes with 2 estimators...]\n",
      "  Category #1: toxic \n    Accuracy is 0.35\n    Total correct classifications is 210\n    Total test data size is 600\n  Category #2: severe_toxic \n    Accuracy is 0.5116666666666667\n    Total correct classifications is 307\n    Total test data size is 600\n  Category #3: obscene \n    Accuracy is 0.3433333333333333\n    Total correct classifications is 206\n    Total test data size is 600\n  Category #4: insult \n    Accuracy is 0.32166666666666666\n    Total correct classifications is 193\n    Total test data size is 600\n  Category #5: identity_hate \n    Accuracy is 0.5733333333333334\n    Total correct classifications is 344\n    Total test data size is 600\n  Category #6: clean \n    Accuracy is 0.75775\n    Total correct classifications is 3031\n    Total test data size is 4000\n\n[Classifier 2/16   Fitting data over AdaBoost Classifier, MN Naive Bayes with 3 estimators...]\n",
      "  Category #1: toxic \n    Accuracy is 0.35\n    Total correct classifications is 210\n    Total test data size is 600\n  Category #2: severe_toxic \n    Accuracy is 0.5116666666666667\n    Total correct classifications is 307\n    Total test data size is 600\n  Category #3: obscene \n    Accuracy is 0.3433333333333333\n    Total correct classifications is 206\n    Total test data size is 600\n  Category #4: insult \n    Accuracy is 0.32166666666666666\n    Total correct classifications is 193\n    Total test data size is 600\n  Category #5: identity_hate \n    Accuracy is 0.5733333333333334\n    Total correct classifications is 344\n    Total test data size is 600\n  Category #6: clean \n    Accuracy is 0.75775\n    Total correct classifications is 3031\n    Total test data size is 4000\n\n[Classifier 3/16   Fitting data over AdaBoost Classifier, MN Naive Bayes with 3 estimators...]\n",
      "  Category #1: toxic \n    Accuracy is 0.5866666666666667\n    Total correct classifications is 352\n    Total test data size is 600\n  Category #2: severe_toxic \n    Accuracy is 0.7316666666666667\n    Total correct classifications is 439\n    Total test data size is 600\n  Category #3: obscene \n    Accuracy is 0.5866666666666667\n    Total correct classifications is 352\n    Total test data size is 600\n  Category #4: insult \n    Accuracy is 0.5866666666666667\n    Total correct classifications is 352\n    Total test data size is 600\n  Category #5: identity_hate \n    Accuracy is 0.7583333333333333\n    Total correct classifications is 455\n    Total test data size is 600\n  Category #6: clean \n    Accuracy is 0.50475\n    Total correct classifications is 2019\n    Total test data size is 4000\n\n[Classifier 4/16   Fitting data over AdaBoost Classifier, MN Naive Bayes with 3 estimators...]\n",
      "  Category #1: toxic \n    Accuracy is 0.5866666666666667\n    Total correct classifications is 352\n    Total test data size is 600\n  Category #2: severe_toxic \n    Accuracy is 0.7316666666666667\n    Total correct classifications is 439\n    Total test data size is 600\n  Category #3: obscene \n    Accuracy is 0.5866666666666667\n    Total correct classifications is 352\n    Total test data size is 600\n  Category #4: insult \n    Accuracy is 0.5866666666666667\n    Total correct classifications is 352\n    Total test data size is 600\n  Category #5: identity_hate \n    Accuracy is 0.7583333333333333\n    Total correct classifications is 455\n    Total test data size is 600\n  Category #6: clean \n    Accuracy is 0.50475\n    Total correct classifications is 2019\n    Total test data size is 4000\n\n[Classifier 5/16   Fitting data over AdaBoost Classifier, MN Naive Bayes with 2 estimators...]\n",
      "  Category #1: toxic \n    Accuracy is 0.5866666666666667\n    Total correct classifications is 352\n    Total test data size is 600\n  Category #2: severe_toxic \n    Accuracy is 0.7316666666666667\n    Total correct classifications is 439\n    Total test data size is 600\n  Category #3: obscene \n    Accuracy is 0.5866666666666667\n    Total correct classifications is 352\n    Total test data size is 600\n  Category #4: insult \n    Accuracy is 0.5866666666666667\n    Total correct classifications is 352\n    Total test data size is 600\n  Category #5: identity_hate \n    Accuracy is 0.7583333333333333\n    Total correct classifications is 455\n    Total test data size is 600\n  Category #6: clean \n    Accuracy is 0.50475\n    Total correct classifications is 2019\n    Total test data size is 4000\n\n[Classifier 6/16   Fitting data over AdaBoost Classifier, MN Naive Bayes with 5 estimators...]\n",
      "  Category #1: toxic \n    Accuracy is 0.5866666666666667\n    Total correct classifications is 352\n    Total test data size is 600\n  Category #2: severe_toxic \n    Accuracy is 0.7316666666666667\n    Total correct classifications is 439\n    Total test data size is 600\n  Category #3: obscene \n    Accuracy is 0.5866666666666667\n    Total correct classifications is 352\n    Total test data size is 600\n  Category #4: insult \n    Accuracy is 0.5866666666666667\n    Total correct classifications is 352\n    Total test data size is 600\n  Category #5: identity_hate \n    Accuracy is 0.7583333333333333\n    Total correct classifications is 455\n    Total test data size is 600\n  Category #6: clean \n    Accuracy is 0.50475\n    Total correct classifications is 2019\n    Total test data size is 4000\n\n[Classifier 7/16   Fitting data over AdaBoost Classifier, MN Naive Bayes with 20 estimators...]\n",
      "  Category #1: toxic \n    Accuracy is 0.5866666666666667\n    Total correct classifications is 352\n    Total test data size is 600\n  Category #2: severe_toxic \n    Accuracy is 0.7316666666666667\n    Total correct classifications is 439\n    Total test data size is 600\n  Category #3: obscene \n    Accuracy is 0.5866666666666667\n    Total correct classifications is 352\n    Total test data size is 600\n  Category #4: insult \n    Accuracy is 0.5866666666666667\n    Total correct classifications is 352\n    Total test data size is 600\n  Category #5: identity_hate \n    Accuracy is 0.7583333333333333\n    Total correct classifications is 455\n    Total test data size is 600\n  Category #6: clean \n    Accuracy is 0.50475\n    Total correct classifications is 2019\n    Total test data size is 4000\n\n[Classifier 8/16   Fitting data over AdaBoost Classifier, MN Naive Bayes with 20 estimators...]\n"
     ],
     "output_type": "stream"
    }
   ],
   "source": [
    "skeleton.classify([\n",
    "    # clfs.AdaBoostNaiveBayes(n_estimators=2,lr=1),\n",
    "    # clfs.AdaBoostNaiveBayes(n_estimators=3,lr=1),\n",
    "    # clfs.AdaBoostNaiveBayes(n_estimators=3,lr=0.5),\n",
    "    # clfs.AdaBoostNaiveBayes(n_estimators=3,lr=0.25),\n",
    "    # clfs.AdaBoostNaiveBayes(n_estimators=2,lr=0.5),\n",
    "    # clfs.AdaBoostNaiveBayes(n_estimators=5,lr=0.5),\n",
    "    # clfs.AdaBoostNaiveBayes(n_estimators=20,lr=0.5),\n",
    "    # clfs.AdaBoostNaiveBayes(n_estimators=20,lr=0.5),\n",
    "    # clfs.AdaBoostNaiveBayes(n_estimators=100,lr=0.25),\n",
    "    # clfs.AdaBoostNaiveBayes(n_estimators=100,lr=1),\n",
    "    # clfs.AdaBoostNaiveBayes(n_estimators=100,lr=1),\n",
    "    # clfs.AdaBoostNaiveBayes(n_estimators=250,lr=1),\n",
    "    # clfs.AdaBoostNaiveBayes(n_estimators=500,lr=1),\n",
    "    # clfs.AdaBoostNaiveBayes(n_estimators=500,lr=0.5),\n",
    "    # clfs.AdaBoostNaiveBayes(n_estimators=1000,lr=1),\n",
    "    # clfs.AdaBoostNaiveBayes(n_estimators=1000,lr=0.5),\n",
    "    clfs.AdaBoostDecisionTree(n_estimators=2,max_tree_depth=2,lr=1),\n",
    "    clfs.AdaBoostDecisionTree(n_estimators=2,max_tree_depth=1,lr=1),\n",
    "    clfs.AdaBoostDecisionTree(n_estimators=2,max_tree_depth=2,lr=1),\n",
    "    clfs.AdaBoostDecisionTree(n_estimators=3,max_tree_depth=2,lr=0.5),\n",
    "    clfs.AdaBoostDecisionTree(n_estimators=3,max_tree_depth=2,lr=0.25),\n",
    "    clfs.AdaBoostDecisionTree(n_estimators=3,max_tree_depth=2,lr=1),\n",
    "    clfs.AdaBoostDecisionTree(n_estimators=3,max_tree_depth=2,lr=3),\n",
    "    clfs.AdaBoostDecisionTree(n_estimators=10,max_tree_depth=3,lr=1),\n",
    "    clfs.AdaBoostDecisionTree(n_estimators=15,max_tree_depth=2,lr=1),\n",
    "    clfs.AdaBoostDecisionTree(n_estimators=20,max_tree_depth=2,lr=1),\n",
    "    clfs.AdaBoostDecisionTree(n_estimators=250,max_tree_depth=2,lr=1),\n",
    "    clfs.AdaBoostDecisionTree(n_estimators=250,max_tree_depth=2,lr=2),\n",
    "    clfs.AdaBoostDecisionTree(n_estimators=250,max_tree_depth=2,lr=0.5),\n",
    "    # clfs.AdaBoostDecisionTree(n_estimators=250,max_tree_depth=1,lr=0.1),\n",
    "    # clfs.AdaBoostDecisionTree(n_estimators=250,max_tree_depth=1,lr=0.5),\n",
    "    # clfs.AdaBoostDecisionTree(n_estimators=250,max_tree_depth=3,lr=0.25),\n",
    "    # clfs.AdaBoostSVM(n_estimators=3),\n",
    "    # clfs.AveragingEstimator(),\n",
    "    # clfs.DecisionTree(),\n",
    "    # clfs.NaiveBayes(),\n",
    "    # clfs.SVM()\n",
    "    # clfs.AdaBoostDecisionTree(n_estimators=500,max_tree_depth=2,lr=0.5),\n",
    "    # clfs.AdaBoostDecisionTree(n_estimators=250,max_tree_depth=4,lr=1),\n",
    "    # clfs.AdaBoostDecisionTree(n_estimators=500,max_tree_depth=4,lr=0.1),\n",
    "    # clfs.AdaBoostDecisionTree(n_estimators=500,max_tree_depth=8,lr=0.25),\n",
    "    # clfs.AdaBoostDecisionTree(n_estimators=500,max_tree_depth=8,lr=1),\n",
    "    # clfs.AdaBoostDecisionTree(n_estimators=1000,max_tree_depth=2,lr=0.5),\n",
    "    # clfs.AdaBoostDecisionTree(n_estimators=1000,max_tree_depth=2,lr=0.25)\n",
    "   \n",
    "],X,y,y_x,y_y)    \n",
    "\n",
    "skeleton.save_progress(\"adaboostdecision_1.txt\")\n"
   ],
   "metadata": {
    "collapsed": false,
    "pycharm": {
     "name": "#%%\n",
     "is_executing": true
    }
   }
  }
 ],
 "metadata": {
  "kernelspec": {
   "display_name": "Python 3",
   "language": "python",
   "name": "python3"
  },
  "language_info": {
   "codemirror_mode": {
    "name": "ipython",
    "version": 3
   },
   "file_extension": ".py",
   "mimetype": "text/x-python",
   "name": "python",
   "nbconvert_exporter": "python",
   "pygments_lexer": "ipython3",
   "version": "3.7.0"
  },
  "pycharm": {
   "stem_cell": {
    "cell_type": "raw",
    "source": [],
    "metadata": {
     "collapsed": false
    }
   }
  }
 },
 "nbformat": 4,
 "nbformat_minor": 1
}