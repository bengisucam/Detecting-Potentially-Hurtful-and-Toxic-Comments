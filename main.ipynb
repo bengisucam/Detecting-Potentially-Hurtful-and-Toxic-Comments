{
 "cells": [
  {
   "cell_type": "code",
   "execution_count": 1,
   "metadata": {
    "pycharm": {
     "is_executing": false,
     "name": "#%%\n"
    }
   },
   "outputs": [],
   "source": [
    "import pandas\n",
    "import packages.text.textutilities as utilities\n",
    "from packages.text.skeleton import Skeleton\n",
    "import packages.augmentation as augmentation\n",
    "import packages.classification.classifier as clfs\n",
    "\n",
    "categories=['toxic','severe_toxic','obscene','threat','insult','identity_hate']\n",
    "df=pandas.read_csv('./Data/train.csv')"
   ]
  },
  {
   "cell_type": "code",
   "execution_count": 2,
   "metadata": {
    "pycharm": {
     "is_executing": false,
     "name": "#%%\n"
    }
   },
   "outputs": [
    {
     "name": "stdout",
     "output_type": "stream",
     "text": [
      "[Step 1/4   Reading File...]\n",
      "[Step 2/4   Cleaning data...]\n",
      "[Step 3/4   Trimming data...]\n",
      "\n",
      "[Step 4/4   Sampling data...]\n",
      "\n",
      "Sample 1: \n",
      " hello you had deleted page vimla batham here i just wanted to let you know that i have recreated the page as per the guidelines please note that i was previously not involved with this page i hope this meets the requirements and you will be fine with it please let me know if you have any issues thanks talk\n",
      "Sample 2: \n",
      " http politicalgraveyardcom families 10335html in  because lane was born in  and could not have had a daughter old enough to be maried in \n",
      "Sample 3: \n",
      "yes i do have a link but its not in english but would it be ok if i posted it and you could use a translator programme to check it out and sorry if i sound so angry some people here are so mean there are clearly people here with bad intentions\n",
      "Sample 4: \n",
      "yhea i watched the video but do not know if this was a joke in the video or if it is true and then the university itself is a complete academic joke\n",
      "Sample 5: \n",
      " btw again i started a new header cos this is really getting interesting and because i wanted to complaints should be sent to because he made me do it honest\n"
     ]
    }
   ],
   "source": [
    "skeleton=Skeleton()\n",
    "skeleton.build([\n",
    "    utilities.clean_text,\n",
    "    utilities.trim_corpus,\n",
    "    utilities.sample\n",
    "],df_path='./Data/train.csv')"
   ]
  },
  {
   "cell_type": "code",
   "execution_count": 3,
   "metadata": {
    "pycharm": {
     "is_executing": false,
     "name": "#%%\n"
    }
   },
   "outputs": [
    {
     "name": "stdout",
     "output_type": "stream",
     "text": [
      "14245\n",
      "137785\n"
     ]
    }
   ],
   "source": []
  },
  {
   "cell_type": "code",
   "execution_count": null,
   "metadata": {
    "pycharm": {
     "name": "#%%\n"
    }
   },
   "outputs": [],
   "source": [
    "skeleton.classify([\n",
    "    clfs.AveragingEstimator(),\n",
    "    clfs.DecisionTree(),\n",
    "    clfs.NaiveBayes(),\n",
    "    clfs.SVM(),\n",
    "    \n",
    "],keys=categories)\n",
    "\n",
    "skeleton.save_progress(\"progress.txt\")"
   ]
  },
  {
   "cell_type": "code",
   "execution_count": null,
   "metadata": {
    "pycharm": {
     "name": "#%%\n"
    }
   },
   "outputs": [],
   "source": [
    "utilities.clean_sample(\"}}{{Connected contributor|WWB Too|WWB Too|editedhere=no\")"
   ]
  }
 ],
 "metadata": {
  "kernelspec": {
   "display_name": "Python 3",
   "language": "python",
   "name": "python3"
  },
  "language_info": {
   "codemirror_mode": {
    "name": "ipython",
    "version": 3
   },
   "file_extension": ".py",
   "mimetype": "text/x-python",
   "name": "python",
   "nbconvert_exporter": "python",
   "pygments_lexer": "ipython3",
   "version": "3.7.0"
  },
  "pycharm": {
   "stem_cell": {
    "cell_type": "raw",
    "metadata": {
     "collapsed": false
    },
    "source": []
   }
  }
 },
 "nbformat": 4,
 "nbformat_minor": 1
}
