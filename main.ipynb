{
 "cells": [
  {
   "cell_type": "code",
   "execution_count": 48,
   "metadata": {
    "pycharm": {
     "is_executing": false,
     "name": "#%%\n"
    }
   },
   "outputs": [],
   "source": [
    "import pandas as pd\n",
    "from packages.text.textutilities import *\n",
    "from packages.text.skeleton import Skeleton\n",
    "import packages.classification.classifier as clfs\n",
    "import packages.augmentation.embedding as embeddings\n",
    "pd.set_option('mode.chained_assignment', None)\n",
    "\n",
    "categories=['toxic','severe_toxic','obscene','threat','insult','identity_hate']\n",
    "random_state=20"
   ]
  },
  {
   "cell_type": "code",
   "execution_count": 49,
   "metadata": {
    "pycharm": {
     "is_executing": false,
     "name": "#%%\n"
    }
   },
   "outputs": [
    {
     "name": "stdout",
     "output_type": "stream",
     "text": [
      "[Step 1/2   Cleaning data...]\n",
      "[Step 2/2   Sampling data...]\n",
      "Sample 1: \n",
      " re user talk virtualsteve you have not actually created an account there all you did is create the pagetalk\n",
      "Sample 2: \n",
      "im a god damn fat ass faggot lolsies i have the palsies\n",
      "Skeleton build is done!\n"
     ]
    }
   ],
   "source": [
    "\"\"\"\n",
    "Build a skeleton framework to ease up workflow\n",
    "\"\"\"\n",
    "skeleton=Skeleton(categories,random_state)\n",
    "skeleton.build([\n",
    "    TextCleaner(),\n",
    "    Sampler()\n",
    "    # Trimmer(threshold=12)\n",
    "],df_path='./Data/train.csv')"
   ]
  },
  {
   "cell_type": "code",
   "execution_count": 50,
   "metadata": {
    "pycharm": {
     "is_executing": false,
     "name": "#%%\n"
    }
   },
   "outputs": [
    {
     "data": {
      "text/plain": [
       "'toxic: 15294 samples\\nsevere_toxic: 1595 samples\\nobscene: 8449 samples\\nthreat: 478 samples\\ninsult: 7877 samples\\nidentity_hate: 1405 samples\\n'"
      ]
     },
     "execution_count": 50,
     "metadata": {},
     "output_type": "execute_result"
    }
   ],
   "source": [
    "skeleton.info()"
   ]
  },
  {
   "cell_type": "code",
   "execution_count": 53,
   "metadata": {},
   "outputs": [
    {
     "data": {
      "text/plain": [
       "300     True\n",
       "301    False\n",
       "302    False\n",
       "303    False\n",
       "304    False\n",
       "305    False\n",
       "306    False\n",
       "307    False\n",
       "308    False\n",
       "309    False\n",
       "310    False\n",
       "311    False\n",
       "312     True\n",
       "313    False\n",
       "314    False\n",
       "315    False\n",
       "316    False\n",
       "317    False\n",
       "318     True\n",
       "319    False\n",
       "320    False\n",
       "321    False\n",
       "322    False\n",
       "323    False\n",
       "324     True\n",
       "325    False\n",
       "326    False\n",
       "327    False\n",
       "328    False\n",
       "329    False\n",
       "Name: toxic, dtype: bool"
      ]
     },
     "execution_count": 53,
     "metadata": {},
     "output_type": "execute_result"
    }
   ],
   "source": [
    "skeleton.df.toxic[300:330]==1"
   ]
  },
  {
   "cell_type": "code",
   "execution_count": 4,
   "metadata": {
    "pycharm": {
     "is_executing": false,
     "name": "#%%\n"
    }
   },
   "outputs": [
    {
     "data": {
      "text/html": [
       "<div>\n",
       "<style scoped>\n",
       "    .dataframe tbody tr th:only-of-type {\n",
       "        vertical-align: middle;\n",
       "    }\n",
       "\n",
       "    .dataframe tbody tr th {\n",
       "        vertical-align: top;\n",
       "    }\n",
       "\n",
       "    .dataframe thead th {\n",
       "        text-align: right;\n",
       "    }\n",
       "</style>\n",
       "<table border=\"1\" class=\"dataframe\">\n",
       "  <thead>\n",
       "    <tr style=\"text-align: right;\">\n",
       "      <th></th>\n",
       "      <th>id</th>\n",
       "      <th>comment_text</th>\n",
       "      <th>toxic</th>\n",
       "      <th>severe_toxic</th>\n",
       "      <th>obscene</th>\n",
       "      <th>threat</th>\n",
       "      <th>insult</th>\n",
       "      <th>identity_hate</th>\n",
       "    </tr>\n",
       "  </thead>\n",
       "  <tbody>\n",
       "    <tr>\n",
       "      <th>47846</th>\n",
       "      <td>7fd41035fbd2ff5a</td>\n",
       "      <td>you re a faggot wiki lover sitting on your ass...</td>\n",
       "      <td>1</td>\n",
       "      <td>0</td>\n",
       "      <td>1</td>\n",
       "      <td>0</td>\n",
       "      <td>1</td>\n",
       "      <td>0</td>\n",
       "    </tr>\n",
       "    <tr>\n",
       "      <th>99030</th>\n",
       "      <td>11cc215d1ac61b7f</td>\n",
       "      <td>nick this movie sucked and has no business be ...</td>\n",
       "      <td>1</td>\n",
       "      <td>0</td>\n",
       "      <td>1</td>\n",
       "      <td>0</td>\n",
       "      <td>0</td>\n",
       "      <td>0</td>\n",
       "    </tr>\n",
       "    <tr>\n",
       "      <th>116306</th>\n",
       "      <td>6dc727676bcd883b</td>\n",
       "      <td>i m getting angry at you you are getting close...</td>\n",
       "      <td>1</td>\n",
       "      <td>0</td>\n",
       "      <td>0</td>\n",
       "      <td>0</td>\n",
       "      <td>0</td>\n",
       "      <td>0</td>\n",
       "    </tr>\n",
       "    <tr>\n",
       "      <th>52725</th>\n",
       "      <td>8cec9721c03e3c62</td>\n",
       "      <td>above though i just dont like them complaining...</td>\n",
       "      <td>1</td>\n",
       "      <td>0</td>\n",
       "      <td>0</td>\n",
       "      <td>0</td>\n",
       "      <td>0</td>\n",
       "      <td>0</td>\n",
       "    </tr>\n",
       "    <tr>\n",
       "      <th>72531</th>\n",
       "      <td>c218d82a89df572a</td>\n",
       "      <td>watch it palestinian national radio puts out t...</td>\n",
       "      <td>1</td>\n",
       "      <td>0</td>\n",
       "      <td>1</td>\n",
       "      <td>0</td>\n",
       "      <td>1</td>\n",
       "      <td>1</td>\n",
       "    </tr>\n",
       "    <tr>\n",
       "      <th>...</th>\n",
       "      <td>...</td>\n",
       "      <td>...</td>\n",
       "      <td>...</td>\n",
       "      <td>...</td>\n",
       "      <td>...</td>\n",
       "      <td>...</td>\n",
       "      <td>...</td>\n",
       "      <td>...</td>\n",
       "    </tr>\n",
       "    <tr>\n",
       "      <th>102609</th>\n",
       "      <td>25226dce7acdcda4</td>\n",
       "      <td>awwwwww does not poor little femto like gettin...</td>\n",
       "      <td>1</td>\n",
       "      <td>0</td>\n",
       "      <td>0</td>\n",
       "      <td>0</td>\n",
       "      <td>0</td>\n",
       "      <td>0</td>\n",
       "    </tr>\n",
       "    <tr>\n",
       "      <th>112241</th>\n",
       "      <td>587415a7d0c44f29</td>\n",
       "      <td>screw off i ll do what i want southwest does h...</td>\n",
       "      <td>1</td>\n",
       "      <td>0</td>\n",
       "      <td>1</td>\n",
       "      <td>0</td>\n",
       "      <td>1</td>\n",
       "      <td>0</td>\n",
       "    </tr>\n",
       "    <tr>\n",
       "      <th>138184</th>\n",
       "      <td>e38046b316967ddb</td>\n",
       "      <td>oh haha very witty i like the fact that you ca...</td>\n",
       "      <td>1</td>\n",
       "      <td>0</td>\n",
       "      <td>0</td>\n",
       "      <td>0</td>\n",
       "      <td>0</td>\n",
       "      <td>0</td>\n",
       "    </tr>\n",
       "    <tr>\n",
       "      <th>45023</th>\n",
       "      <td>785dc2539b635b23</td>\n",
       "      <td>fine fuck all of you you might when this battl...</td>\n",
       "      <td>1</td>\n",
       "      <td>0</td>\n",
       "      <td>1</td>\n",
       "      <td>0</td>\n",
       "      <td>1</td>\n",
       "      <td>0</td>\n",
       "    </tr>\n",
       "    <tr>\n",
       "      <th>50474</th>\n",
       "      <td>86f6fa397fa0cc3d</td>\n",
       "      <td>idiot i deleted the comment last years runners...</td>\n",
       "      <td>1</td>\n",
       "      <td>0</td>\n",
       "      <td>0</td>\n",
       "      <td>0</td>\n",
       "      <td>1</td>\n",
       "      <td>0</td>\n",
       "    </tr>\n",
       "  </tbody>\n",
       "</table>\n",
       "<p>200 rows × 8 columns</p>\n",
       "</div>"
      ],
      "text/plain": [
       "                      id                                       comment_text  \\\n",
       "47846   7fd41035fbd2ff5a  you re a faggot wiki lover sitting on your ass...   \n",
       "99030   11cc215d1ac61b7f  nick this movie sucked and has no business be ...   \n",
       "116306  6dc727676bcd883b  i m getting angry at you you are getting close...   \n",
       "52725   8cec9721c03e3c62  above though i just dont like them complaining...   \n",
       "72531   c218d82a89df572a  watch it palestinian national radio puts out t...   \n",
       "...                  ...                                                ...   \n",
       "102609  25226dce7acdcda4  awwwwww does not poor little femto like gettin...   \n",
       "112241  587415a7d0c44f29  screw off i ll do what i want southwest does h...   \n",
       "138184  e38046b316967ddb  oh haha very witty i like the fact that you ca...   \n",
       "45023   785dc2539b635b23  fine fuck all of you you might when this battl...   \n",
       "50474   86f6fa397fa0cc3d  idiot i deleted the comment last years runners...   \n",
       "\n",
       "        toxic  severe_toxic  obscene  threat  insult  identity_hate  \n",
       "47846       1             0        1       0       1              0  \n",
       "99030       1             0        1       0       0              0  \n",
       "116306      1             0        0       0       0              0  \n",
       "52725       1             0        0       0       0              0  \n",
       "72531       1             0        1       0       1              1  \n",
       "...       ...           ...      ...     ...     ...            ...  \n",
       "102609      1             0        0       0       0              0  \n",
       "112241      1             0        1       0       1              0  \n",
       "138184      1             0        0       0       0              0  \n",
       "45023       1             0        1       0       1              0  \n",
       "50474       1             0        0       0       1              0  \n",
       "\n",
       "[200 rows x 8 columns]"
      ]
     },
     "execution_count": 4,
     "metadata": {},
     "output_type": "execute_result"
    }
   ],
   "source": [
    "\"\"\"\n",
    "Get <n_category> random samples from each category\n",
    "\"\"\"\n",
    "samples=skeleton.split_by_keys(n_category=3000)\n",
    "samples['toxic']"
   ]
  },
  {
   "cell_type": "code",
   "execution_count": 5,
   "metadata": {
    "pycharm": {
     "is_executing": false,
     "name": "#%%\n"
    }
   },
   "outputs": [
    {
     "ename": "AttributeError",
     "evalue": "'Skeleton' object has no attribute 'text'",
     "output_type": "error",
     "traceback": [
      "\u001b[0;31m---------------------------------------------------------------------------\u001b[0m",
      "\u001b[0;31mAttributeError\u001b[0m                            Traceback (most recent call last)",
      "\u001b[0;32m<ipython-input-5-27665351d77d>\u001b[0m in \u001b[0;36m<module>\u001b[0;34m\u001b[0m\n\u001b[1;32m      1\u001b[0m \u001b[0mword2vec_model\u001b[0m\u001b[0;34m=\u001b[0m\u001b[0membeddings\u001b[0m\u001b[0;34m.\u001b[0m\u001b[0mEmbeddingAugmentation\u001b[0m\u001b[0;34m(\u001b[0m\u001b[0mload_path\u001b[0m\u001b[0;34m=\u001b[0m\u001b[0;34m\"./word2vec/word2vec.model\"\u001b[0m\u001b[0;34m)\u001b[0m\u001b[0;34m\u001b[0m\u001b[0;34m\u001b[0m\u001b[0m\n\u001b[0;32m----> 2\u001b[0;31m \u001b[0mword2vec_model\u001b[0m\u001b[0;34m.\u001b[0m\u001b[0mreplace_sentence_with_top\u001b[0m\u001b[0;34m(\u001b[0m\u001b[0mskeleton\u001b[0m\u001b[0;34m.\u001b[0m\u001b[0mtext\u001b[0m\u001b[0;34m[\u001b[0m\u001b[0;36m1\u001b[0m\u001b[0;34m]\u001b[0m\u001b[0;34m)\u001b[0m\u001b[0;34m\u001b[0m\u001b[0;34m\u001b[0m\u001b[0m\n\u001b[0m\u001b[1;32m      3\u001b[0m \u001b[0;34m\u001b[0m\u001b[0m\n",
      "\u001b[0;31mAttributeError\u001b[0m: 'Skeleton' object has no attribute 'text'"
     ]
    }
   ],
   "source": [
    "word2vec_model=embeddings.EmbeddingAugmentation(load_path=\"./word2vec/word2vec.model\")\n",
    "word2vec_model.populate(keys=categories,\n",
    "                        data=samples,\n",
    "                        target=5000,\n",
    "                        random=random_state,\n",
    "                        augmentation_per_sentence=3)"
   ]
  },
  {
   "cell_type": "code",
   "execution_count": null,
   "metadata": {
    "pycharm": {
     "is_executing": false,
     "name": "#%%\n"
    }
   },
   "outputs": [],
   "source": [
    "BOOSTING_CLASSIFIER_COUNT=100\n",
    "\n",
    "# \n",
    "# skeleton.classify([\n",
    "#     clfs.AdaBoostSVM(n_estimators=2),\n",
    "#     clfs.AdaBoostNaiveBayes(n_estimators=10),\n",
    "#     clfs.AdaBoostNaiveBayes(n_estimators=20),\n",
    "#     clfs.AdaBoostDecisionTree(n_estimators=20),\n",
    "#     clfs.DecisionTree(),\n",
    "#     clfs.NaiveBayes(),\n",
    "#     clfs.AveragingEstimator(),\n",
    "#     clfs.SVM(),\n",
    "#     \n",
    "# ])\n",
    "# \n",
    "# skeleton.save_progress(\"progress.txt\")"
   ]
  },
  {
   "cell_type": "code",
   "execution_count": null,
   "metadata": {
    "pycharm": {
     "is_executing": false,
     "name": "#%%\n"
    }
   },
   "outputs": [],
   "source": []
  }
 ],
 "metadata": {
  "kernelspec": {
   "display_name": "Python 3",
   "language": "python",
   "name": "python3"
  },
  "language_info": {
   "codemirror_mode": {
    "name": "ipython",
    "version": 3
   },
   "file_extension": ".py",
   "mimetype": "text/x-python",
   "name": "python",
   "nbconvert_exporter": "python",
   "pygments_lexer": "ipython3",
   "version": "3.7.0"
  },
  "pycharm": {
   "stem_cell": {
    "cell_type": "raw",
    "metadata": {
     "collapsed": false
    },
    "source": []
   }
  }
 },
 "nbformat": 4,
 "nbformat_minor": 1
}
