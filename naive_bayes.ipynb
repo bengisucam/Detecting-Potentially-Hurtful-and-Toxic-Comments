{
 "cells": [
  {
   "cell_type": "code",
   "execution_count": 1,
   "metadata": {
    "collapsed": true,
    "pycharm": {
     "is_executing": false
    }
   },
   "outputs": [],
   "source": [
    "import re\n",
    "import numpy as np\n",
    "import pandas as pd\n",
    "from sklearn import metrics\n",
    "from sklearn.feature_extraction.stop_words import ENGLISH_STOP_WORDS\n",
    "from sklearn.feature_extraction.text import TfidfVectorizer, TfidfTransformer, CountVectorizer\n",
    "from sklearn.model_selection import train_test_split\n",
    "from sklearn.multiclass import OneVsRestClassifier\n",
    "from sklearn.naive_bayes import MultinomialNB, GaussianNB\n",
    "from sklearn.pipeline import Pipeline\n",
    "classes=['toxic','severe_toxic','obscene','threat','insult','identity_hate']\n",
    "df=pd.read_csv('./Data/train.csv')\n",
    "\n",
    "\n",
    "train, test = train_test_split(df, random_state=4, test_size=0.33, shuffle=True)"
   ]
  },
  {
   "cell_type": "code",
   "execution_count": 2,
   "outputs": [],
   "source": [
    "X_train = train.comment_text\n",
    "X_test = test.comment_text\n",
    "\n",
    "text_clf = Pipeline([\n",
    "    ('vect', CountVectorizer(stop_words=ENGLISH_STOP_WORDS)),\n",
    "    ('tfidf', TfidfTransformer()),\n",
    "        ('clf', MultinomialNB(fit_prior=True, class_prior=None)),\n",
    " ])"
   ],
   "metadata": {
    "collapsed": false,
    "pycharm": {
     "name": "#%%\n",
     "is_executing": false
    }
   }
  },
  {
   "cell_type": "code",
   "execution_count": null,
   "outputs": [
    {
     "name": "stdout",
     "text": [
      "For class toxic\n"
     ],
     "output_type": "stream"
    }
   ],
   "source": [
    "for each_class in classes:\n",
    "    print(\"For class {}\".format(each_class))\n",
    "    text_clf.fit(X_train,train[each_class])\n",
    "    predicted = text_clf.predict(X_test)\n",
    "    print(np.mean(predicted == test[each_class]))\n",
    "    matrix=metrics.confusion_matrix(test[each_class], predicted)\n",
    "    test['predicted_'+each_class]=predicted"
   ],
   "metadata": {
    "collapsed": false,
    "pycharm": {
     "name": "#%%\n",
     "is_executing": true
    }
   }
  },
  {
   "cell_type": "code",
   "execution_count": null,
   "outputs": [],
   "source": [
    "test.loc[test['insult']==1].head()\n",
    "all_corrects=0\n",
    "\n",
    "for row in range(len(test)):\n",
    "    current_row=test.iloc[row]\n",
    "    wrong=False\n",
    "    for each_class in classes:\n",
    "        if current_row[each_class] != current_row['predicted_'+each_class]:\n",
    "            wrong=True\n",
    "            break\n",
    "    if not wrong:\n",
    "        all_corrects+=1\n",
    "print(all_corrects/len(test))"
   ],
   "metadata": {
    "collapsed": false,
    "pycharm": {
     "name": "#%%\n",
     "is_executing": true
    }
   }
  }
 ],
 "metadata": {
  "kernelspec": {
   "display_name": "Python 3",
   "language": "python",
   "name": "python3"
  },
  "language_info": {
   "codemirror_mode": {
    "name": "ipython",
    "version": 2
   },
   "file_extension": ".py",
   "mimetype": "text/x-python",
   "name": "python",
   "nbconvert_exporter": "python",
   "pygments_lexer": "ipython2",
   "version": "2.7.6"
  },
  "pycharm": {
   "stem_cell": {
    "cell_type": "raw",
    "source": [],
    "metadata": {
     "collapsed": false
    }
   }
  }
 },
 "nbformat": 4,
 "nbformat_minor": 0
}