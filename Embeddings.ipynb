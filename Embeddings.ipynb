{
 "cells": [
  {
   "cell_type": "code",
   "execution_count": 2,
   "metadata": {
    "pycharm": {
     "is_executing": false
    }
   },
   "outputs": [
    {
     "name": "stderr",
     "text": [
      "[nltk_data] Downloading package word2vec_sample to\n[nltk_data]     /home/fcaglayan/nltk_data...\n[nltk_data]   Package word2vec_sample is already up-to-date!\n"
     ],
     "output_type": "stream"
    },
    {
     "name": "stdout",
     "text": [
      "43981\n"
     ],
     "output_type": "stream"
    }
   ],
   "source": [
    "import gensim\n",
    "import nltk\n",
    "from nltk.data import find\n",
    "\n",
    "nltk.download('word2vec_sample')\n",
    "\n",
    "\n",
    "word2vec_small = str(find('models/word2vec_sample/pruned.word2vec.txt'))\n",
    "pre_trained_model_small = gensim.models.KeyedVectors.load_word2vec_format(word2vec_small, binary=False)\n",
    "\n",
    "\n",
    "print(len(pre_trained_model_small.vocab))\n",
    "\n"
   ]
  },
  {
   "cell_type": "code",
   "execution_count": 3,
   "metadata": {
    "pycharm": {
     "is_executing": false
    }
   },
   "outputs": [
    {
     "data": {
      "text/plain": "300"
     },
     "metadata": {},
     "output_type": "execute_result",
     "execution_count": 3
    }
   ],
   "source": [
    "# len(model['dick'])\n",
    "len(pre_trained_model_small['shit'])\n",
    "len(pre_trained_model_small['bitch'])\n",
    "len(pre_trained_model_small['nigger'])\n",
    "# len(model['asshole'])\n",
    "len(pre_trained_model_small['cock'])\n",
    "\n"
   ]
  },
  {
   "cell_type": "code",
   "execution_count": 4,
   "metadata": {
    "pycharm": {
     "is_executing": false
    }
   },
   "outputs": [
    {
     "name": "stdout",
     "text": [
      "[('crap', 0.8299816250801086), ('fuck', 0.7604621648788452), (\"y'know\", 0.7228367328643799)]\n0.084653266\n0.4155177\n"
     ],
     "output_type": "stream"
    }
   ],
   "source": [
    "print(pre_trained_model_small.most_similar(positive=['shit'], topn = 3))\n",
    "\n",
    "print(pre_trained_model_small.similarity(\"shit\", 'flower'))\n",
    "print(pre_trained_model_small.similarity(\"education\", 'university'))"
   ]
  },
  {
   "cell_type": "code",
   "execution_count": 6,
   "outputs": [
    {
     "name": "stdout",
     "text": [
      "dh dude abc officially says this is the name for that episode i do know there is already an episode with that name but abc says it everybody says do not\ndh dude abc formally said the was this names give it episodes u want tell there was already an episodes having it names although abc said that everyone said want do\n"
     ],
     "output_type": "stream"
    }
   ],
   "source": [
    "import pandas as pd\n",
    "\n",
    "df=pd.read_csv('./Data/train.csv')\n",
    "txt=(df.loc[df[\"toxic\"]==0]).iloc[53].comment_text\n",
    "import packages.text.textutilities as tu\n",
    "txt=tu.clean_sample(txt)\n",
    "words=txt.split(' ')\n",
    "\n",
    "for i,word in enumerate(words):\n",
    "    if word is None:\n",
    "        continue\n",
    "    try:\n",
    "        similar_words=pre_trained_model_small.most_similar(positive=[word], topn = 5)\n",
    "        top_,_=similar_words[0]\n",
    "        words[i]=top_\n",
    "    except KeyError as ke:\n",
    "        pass\n",
    "print(txt)\n",
    "str1 = ''.join(str(e)+\" \" for e in words)          \n",
    "print(tu.clean_sample(str1))"
   ],
   "metadata": {
    "collapsed": false,
    "pycharm": {
     "name": "#%%\n",
     "is_executing": false
    }
   }
  }
 ],
 "metadata": {
  "kernelspec": {
   "display_name": "Python 3",
   "language": "python",
   "name": "python3"
  },
  "language_info": {
   "codemirror_mode": {
    "name": "ipython",
    "version": 3
   },
   "file_extension": ".py",
   "mimetype": "text/x-python",
   "name": "python",
   "nbconvert_exporter": "python",
   "pygments_lexer": "ipython3",
   "version": "3.7.0"
  },
  "pycharm": {
   "stem_cell": {
    "cell_type": "raw",
    "source": [
     "\n"
    ],
    "metadata": {
     "collapsed": false
    }
   }
  }
 },
 "nbformat": 4,
 "nbformat_minor": 2
}