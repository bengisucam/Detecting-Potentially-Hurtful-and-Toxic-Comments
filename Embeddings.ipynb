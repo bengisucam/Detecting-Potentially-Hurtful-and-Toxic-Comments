{
 "cells": [
  {
   "cell_type": "code",
   "execution_count": null,
   "metadata": {
    "scrolled": true
   },
   "outputs": [],
   "source": [
    "!pip install nltk\n",
    "!pip install gensim"
   ]
  },
  {
   "cell_type": "code",
   "execution_count": 2,
   "metadata": {},
   "outputs": [
    {
     "name": "stderr",
     "output_type": "stream",
     "text": [
      "[nltk_data] Downloading package word2vec_sample to\n",
      "[nltk_data]     C:\\Users\\bengi\\AppData\\Roaming\\nltk_data...\n",
      "[nltk_data]   Package word2vec_sample is already up-to-date!\n"
     ]
    },
    {
     "name": "stdout",
     "output_type": "stream",
     "text": [
      "43981\n"
     ]
    }
   ],
   "source": [
    "import gensim\n",
    "import nltk\n",
    "from nltk.data import find\n",
    "\n",
    "nltk.download('word2vec_sample')\n",
    "\n",
    "\n",
    "word2vec_small = str(find('models/word2vec_sample/pruned.word2vec.txt'))\n",
    "pre_trained_model_small = gensim.models.KeyedVectors.load_word2vec_format(word2vec_small, binary=False)\n",
    "\n",
    "\n",
    "print(len(pre_trained_model_small.vocab))\n",
    "\n"
   ]
  },
  {
   "cell_type": "code",
   "execution_count": 4,
   "metadata": {},
   "outputs": [
    {
     "data": {
      "text/plain": [
       "300"
      ]
     },
     "execution_count": 4,
     "metadata": {},
     "output_type": "execute_result"
    }
   ],
   "source": [
    "# len(model['dick'])\n",
    "len(pre_trained_model_small['shit'])\n",
    "len(pre_trained_model_small['bitch'])\n",
    "len(pre_trained_model_small['nigger'])\n",
    "# len(pre_trained_model_small['asshole'])\n",
    "len(pre_trained_model_small['cock'])\n",
    "len(pre_trained_model_small['bastard'])\n",
    "# len(pre_trained_model_small['slut'])\n",
    "len(pre_trained_model_small['whore'])\n",
    "len(pre_trained_model_small['butt'])\n",
    "# len(pre_trained_model_small['dickhead'])\n",
    "# len(pre_trained_model_small['faggot'])\n"
   ]
  },
  {
   "cell_type": "code",
   "execution_count": 19,
   "metadata": {},
   "outputs": [
    {
     "name": "stdout",
     "output_type": "stream",
     "text": [
      "[('ass', 0.7703798413276672), ('butts', 0.714277446269989), ('backside', 0.6110208034515381)]\n",
      "[('reading', 0.6985589861869812), ('reread', 0.6906845569610596), ('reads', 0.6628413200378418)]\n",
      "[('John', 0.6729259490966797), ('Charles', 0.6258001327514648), ('Paul', 0.6121022701263428)]\n",
      "[('crap', 0.8299816250801086), ('fuck', 0.7604621648788452), (\"y'know\", 0.7228367328643799)]\n",
      "0.084653266\n",
      "0.4155177\n"
     ]
    }
   ],
   "source": [
    "print(pre_trained_model_small.most_similar(positive=['butt'], topn = 3))\n",
    "\n",
    "print(pre_trained_model_small.most_similar(positive=['read'], topn = 3))\n",
    "\n",
    "print(pre_trained_model_small.most_similar(positive=['George'], topn = 3))\n",
    "\n",
    "print(pre_trained_model_small.most_similar(positive=['shit'], topn = 3))\n",
    "\n",
    "print(pre_trained_model_small.similarity(\"shit\", 'flower'))\n",
    "print(pre_trained_model_small.similarity(\"education\", 'university'))"
   ]
  }
 ],
 "metadata": {
  "kernelspec": {
   "display_name": "Python 3",
   "language": "python",
   "name": "python3"
  },
  "language_info": {
   "codemirror_mode": {
    "name": "ipython",
    "version": 3
   },
   "file_extension": ".py",
   "mimetype": "text/x-python",
   "name": "python",
   "nbconvert_exporter": "python",
   "pygments_lexer": "ipython3",
   "version": "3.7.0"
  }
 },
 "nbformat": 4,
 "nbformat_minor": 2
}
